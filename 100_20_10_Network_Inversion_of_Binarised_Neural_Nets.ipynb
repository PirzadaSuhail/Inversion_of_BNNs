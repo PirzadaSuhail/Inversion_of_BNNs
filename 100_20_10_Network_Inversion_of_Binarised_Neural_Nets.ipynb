{
  "cells": [
    {
      "cell_type": "code",
      "execution_count": null,
      "metadata": {
        "id": "KrTEd7hNXeqT",
        "colab": {
          "base_uri": "https://localhost:8080/"
        },
        "outputId": "cfcf269d-8390-4c42-94d0-e135efc596e2"
      },
      "outputs": [
        {
          "output_type": "stream",
          "name": "stderr",
          "text": [
            "/home/himalaya/.local/lib/python3.10/site-packages/matplotlib/projections/__init__.py:63: UserWarning: Unable to import Axes3D. This may be due to multiple versions of Matplotlib being installed (e.g. as a system package and as a pip package). As a result, the 3D projection is not available.\n",
            "  warnings.warn(\"Unable to import Axes3D. This may be due to multiple versions of \"\n"
          ]
        }
      ],
      "source": [
        "import os\n",
        "import cv2\n",
        "import torch\n",
        "import numpy as np\n",
        "import torch.nn as nn\n",
        "import torch.optim as optim\n",
        "import matplotlib.pyplot as plt\n",
        "import torch.nn.functional as F\n",
        "from torchvision import transforms\n",
        "from torch.utils.data import Dataset\n",
        "from torchvision.datasets import MNIST\n",
        "from torch.utils.data import DataLoader\n",
        "from torchvision import datasets, transforms"
      ]
    },
    {
      "cell_type": "markdown",
      "source": [
        "Define transforms & Data Loaders.\n",
        "\n",
        "I have used 10x10 Resize for simplicilty.\n",
        "\n",
        "More neurons lead to very large CNF Formulas that take time to work with.\n"
      ],
      "metadata": {
        "id": "4FeIfG1POBjm"
      }
    },
    {
      "cell_type": "code",
      "execution_count": null,
      "metadata": {
        "id": "cQuyfC11tcgz"
      },
      "outputs": [],
      "source": [
        "transform=transforms.Compose([\n",
        "                       transforms.ToTensor(),\n",
        "                       transforms.Normalize((0.1307,), (0.3081,)),\n",
        "                       transforms.Resize((10,10)),\n",
        "                       ])\n",
        "\n",
        "dataset_train = MNIST(root='./data', train=True, download=True, transform=transform)\n",
        "dataset_test = MNIST(root='./data', train=False, download=True, transform=transform)\n"
      ]
    },
    {
      "cell_type": "code",
      "execution_count": null,
      "metadata": {
        "id": "HudJ95LwuhhR"
      },
      "outputs": [],
      "source": [
        "\n",
        "train_loader = DataLoader(dataset_train, batch_size=16, shuffle=True)\n",
        "test_loader = DataLoader(dataset_test, batch_size=16, shuffle=False)\n"
      ]
    },
    {
      "cell_type": "code",
      "source": [
        "class_labels = ['0', '1', '2', '3', '4', '5', '6', '7', '8', '9']\n",
        "\n",
        "fig, axes = plt.subplots(2, 5, figsize=(12, 6))  # Create a 2x5 subplot grid\n",
        "\n",
        "for class_idx, class_label in enumerate(class_labels):\n",
        "    index = next(idx for idx, (_, label) in enumerate(dataset_train) if label == class_idx)\n",
        "\n",
        "    image, _ = dataset_train[index]\n",
        "\n",
        "    row = class_idx // 5  # Calculate the row index (0 or 1)\n",
        "    col = class_idx % 5   # Calculate the column index (0 to 4)\n",
        "\n",
        "    axes[row, col].imshow(image.squeeze().numpy(), cmap='gray')\n",
        "    axes[row, col].axis('off')\n",
        "    axes[row, col].set_title(class_label)\n",
        "\n",
        "plt.tight_layout()\n",
        "plt.show()\n"
      ],
      "metadata": {
        "colab": {
          "base_uri": "https://localhost:8080/",
          "height": 560
        },
        "id": "4ckxZT9IbMCH",
        "outputId": "87bd61b2-4120-47ee-aba9-afa3a0e99fb3"
      },
      "execution_count": null,
      "outputs": [
        {
          "output_type": "display_data",
          "data": {
            "text/plain": [
              "<Figure size 1200x600 with 10 Axes>"
            ],
            "image/png": "[encoded data removed]"
          },
          "metadata": {}
        }
      ]
    },
    {
      "cell_type": "code",
      "execution_count": null,
      "metadata": {
        "colab": {
          "base_uri": "https://localhost:8080/"
        },
        "id": "FYPoPnVc0U-p",
        "outputId": "8e1928cf-7317-4aaa-d963-58800c43d682"
      },
      "outputs": [
        {
          "output_type": "stream",
          "name": "stdout",
          "text": [
            "Train Dataset:\n",
            "Class 0: 5923 images\n",
            "Class 1: 6742 images\n",
            "Class 2: 5958 images\n",
            "Class 3: 6131 images\n",
            "Class 4: 5842 images\n",
            "Class 5: 5421 images\n",
            "Class 6: 5918 images\n",
            "Class 7: 6265 images\n",
            "Class 8: 5851 images\n",
            "Class 9: 5949 images\n",
            "\n",
            "Test Dataset:\n",
            "Class 0: 980 images\n",
            "Class 1: 1135 images\n",
            "Class 2: 1032 images\n",
            "Class 3: 1010 images\n",
            "Class 4: 982 images\n",
            "Class 5: 892 images\n",
            "Class 6: 958 images\n",
            "Class 7: 1028 images\n",
            "Class 8: 974 images\n",
            "Class 9: 1009 images\n"
          ]
        }
      ],
      "source": [
        "class_labels = ['0', '1', '2', '3', '4', '5', '6', '7', '8', '9']\n",
        "\n",
        "train_class_counts = [0] * len(class_labels)\n",
        "\n",
        "for _, label in dataset_train:\n",
        "    train_class_counts[label] += 1\n",
        "\n",
        "test_class_counts = [0] * len(class_labels)\n",
        "\n",
        "for _, label in dataset_test:\n",
        "    test_class_counts[label] += 1\n",
        "\n",
        "print(\"Train Dataset:\")\n",
        "for class_idx, class_label in enumerate(class_labels):\n",
        "    print(f\"Class {class_label}: {train_class_counts[class_idx]} images\")\n",
        "\n",
        "print(\"\\nTest Dataset:\")\n",
        "for class_idx, class_label in enumerate(class_labels):\n",
        "    print(f\"Class {class_label}: {test_class_counts[class_idx]} images\")"
      ]
    },
    {
      "cell_type": "markdown",
      "source": [
        "Now define some functions & classes to Binarise the weights of the network for forward pass."
      ],
      "metadata": {
        "id": "MbqYUaZ1Oau2"
      }
    },
    {
      "cell_type": "code",
      "execution_count": null,
      "metadata": {
        "id": "QhYlYpAfS75a"
      },
      "outputs": [],
      "source": [
        "def Binarize(tensor,quant_mode='det'):\n",
        "    if quant_mode=='det':\n",
        "        return tensor.sign()\n",
        "    else:\n",
        "        return tensor.add_(1).div_(2).add_(torch.rand(tensor.size()).add(-0.5)).clamp_(0,1).round().mul_(2).add_(-1)"
      ]
    },
    {
      "cell_type": "code",
      "execution_count": null,
      "metadata": {
        "id": "Wh31I2AyTnmx"
      },
      "outputs": [],
      "source": [
        "class BinarizeLinear(nn.Linear):\n",
        "\n",
        "    def __init__(self, *kargs, **kwargs):\n",
        "        super(BinarizeLinear, self).__init__(*kargs, **kwargs)\n",
        "\n",
        "    def forward(self, input):\n",
        "\n",
        "        if input.size(1) != 100:\n",
        "            input.data=Binarize(input.data)\n",
        "        if not hasattr(self.weight,'org'):\n",
        "            self.weight.org=self.weight.data.clone()\n",
        "        self.weight.data=Binarize(self.weight.org)\n",
        "        out = nn.functional.linear(input, self.weight)\n",
        "        if not self.bias is None:\n",
        "            self.bias.org=self.bias.data.clone()\n",
        "            out += self.bias.view(1, -1).expand_as(out)\n",
        "\n",
        "        return out"
      ]
    },
    {
      "cell_type": "markdown",
      "source": [
        "Train Function, in which the weights are binairsed for every forward pass by clampign them to 1 & -1. while the back prop is done on real set of teh weights, that are gotten rid of after training."
      ],
      "metadata": {
        "id": "0X7UIFxKOwTH"
      }
    },
    {
      "cell_type": "code",
      "execution_count": null,
      "metadata": {
        "id": "qwgIIgvyT1dY"
      },
      "outputs": [],
      "source": [
        "def train(epoch):\n",
        "    model.train()\n",
        "    for i, (data, target) in enumerate(train_loader):\n",
        "\n",
        "        data, target = data.to(device), target.to(device)\n",
        "\n",
        "        optimizer.zero_grad()\n",
        "        output = model(data)\n",
        "\n",
        "        loss = criterion(output, target)\n",
        "\n",
        "        if epoch%25==0:\n",
        "            optimizer.param_groups[0]['lr']=optimizer.param_groups[0]['lr']*0.1\n",
        "        optimizer.zero_grad()\n",
        "\n",
        "        loss.backward()\n",
        "\n",
        "        for p in list(model.parameters()):\n",
        "            if hasattr(p,'org'):\n",
        "                p.data.copy_(p.org)\n",
        "        optimizer.step()\n",
        "\n",
        "        for p in list(model.parameters()):\n",
        "            if hasattr(p,'org'):\n",
        "                p.org.copy_(p.data.clamp_(-1,1))\n",
        "\n",
        "        if i % 10 == 0:\n",
        "            print('Train Epoch: {} [{}/{} ({:.0f}%)]\\tLoss: {:.6f}'.format(\n",
        "                epoch, i * len(data), len(train_loader.dataset),\n",
        "                100. * i / len(train_loader), loss.item()))"
      ]
    },
    {
      "cell_type": "markdown",
      "source": [
        "Test Fucntion"
      ],
      "metadata": {
        "id": "qVCfBVVeO5kX"
      }
    },
    {
      "cell_type": "code",
      "execution_count": null,
      "metadata": {
        "id": "jo7Ml3HET3d4"
      },
      "outputs": [],
      "source": [
        "def test():\n",
        "    model.eval()\n",
        "    test_loss = 0\n",
        "    correct = 0\n",
        "    with torch.no_grad():\n",
        "        for data, target in test_loader:\n",
        "            data, target = data.to(device), target.to(device)\n",
        "            output = model(data)\n",
        "            test_loss += criterion(output, target).item()\n",
        "            pred = output.data.max(1, keepdim=True)[1]\n",
        "            correct += pred.eq(target.data.view_as(pred)).cpu().sum()\n",
        "\n",
        "    test_loss /= len(test_loader.dataset)\n",
        "    accuracy = 100. * correct / len(test_loader.dataset)\n",
        "    print('\\nTest set: Average loss: {:.4f}, Accuracy: {}/{} ({:.0f}%)\\n'.format(\n",
        "        test_loss, correct, len(test_loader.dataset),\n",
        "        100. * correct / len(test_loader.dataset)))\n",
        "    return accuracy"
      ]
    },
    {
      "cell_type": "markdown",
      "source": [
        "Now a BNN is defined with a single block & 20 neurons in the hidden layer. 100 in the input & 10 in the output."
      ],
      "metadata": {
        "id": "LN7-OOZBO2E7"
      }
    },
    {
      "cell_type": "code",
      "execution_count": null,
      "metadata": {
        "id": "UhvJB2pvPfj1"
      },
      "outputs": [],
      "source": [
        "class BNN_1blk_20(nn.Module):\n",
        "    def __init__(self, input_size, output_size):\n",
        "        super(BNN_1blk_20, self).__init__()\n",
        "        self.infl_ratio=1\n",
        "        self.input_size=input_size\n",
        "        self.output_size=output_size\n",
        "        self.num_internal_blocks=1\n",
        "\n",
        "        self.name='bnn_1blk_20'\n",
        "        self.fc1 = BinarizeLinear(input_size,20*self.infl_ratio)\n",
        "        self.htanh1 = nn.Hardtanh()\n",
        "        self.bn1 = nn.BatchNorm1d(20*self.infl_ratio)\n",
        "\n",
        "        self.fc5 = BinarizeLinear(20*self.infl_ratio,output_size)\n",
        "        self.logsoftmax=nn.LogSoftmax()\n",
        "        self.binarize_func=Binarize\n",
        "\n",
        "    def forward(self, x):\n",
        "        x = x.view(-1, self.input_size)\n",
        "        x = self.binarize_func(x)\n",
        "\n",
        "        x = self.fc1(x)\n",
        "        x = self.bn1(x)\n",
        "        x = self.htanh1(x)\n",
        "\n",
        "        x = self.fc5(x)\n",
        "        return self.logsoftmax(x)\n",
        "\n",
        "device = torch.device('cuda' if torch.cuda.is_available() else 'cpu')\n",
        "model = BNN_1blk_20(100,10)\n",
        "model=model.to(device)\n"
      ]
    },
    {
      "cell_type": "markdown",
      "source": [
        "Training & Evaluation"
      ],
      "metadata": {
        "id": "jXCZs-TFPmc7"
      }
    },
    {
      "cell_type": "code",
      "execution_count": null,
      "metadata": {
        "colab": {
          "base_uri": "https://localhost:8080/"
        },
        "id": "bzpQOm1BPxqC",
        "outputId": "d291cba0-cfdb-4f52-9c1c-72d88dd91abb"
      },
      "outputs": [
        {
          "name": "stderr",
          "output_type": "stream",
          "text": [
            "<ipython-input-19-0501bc8e8e83>:27: UserWarning: Implicit dimension choice for log_softmax has been deprecated. Change the call to include dim=X as an argument.\n",
            "  return self.logsoftmax(x)\n"
          ]
        },
        {
          "name": "stdout",
          "output_type": "stream",
          "text": [
            "Train Epoch: 1 [0/60000 (0%)]\tLoss: 1.323427\n",
            "Train Epoch: 1 [1280/60000 (2%)]\tLoss: 1.302587\n",
            "Train Epoch: 1 [2560/60000 (4%)]\tLoss: 1.304566\n",
            "Train Epoch: 1 [3840/60000 (6%)]\tLoss: 1.902627\n",
            "Train Epoch: 1 [5120/60000 (9%)]\tLoss: 1.101730\n",
            "Train Epoch: 1 [6400/60000 (11%)]\tLoss: 1.211581\n",
            "Train Epoch: 1 [7680/60000 (13%)]\tLoss: 1.273204\n",
            "Train Epoch: 1 [8960/60000 (15%)]\tLoss: 1.261649\n",
            "Train Epoch: 1 [10240/60000 (17%)]\tLoss: 1.410656\n",
            "Train Epoch: 1 [11520/60000 (19%)]\tLoss: 1.323818\n",
            "Train Epoch: 1 [12800/60000 (21%)]\tLoss: 1.040961\n",
            "Train Epoch: 1 [14080/60000 (23%)]\tLoss: 1.105515\n",
            "Train Epoch: 1 [15360/60000 (26%)]\tLoss: 1.363896\n",
            "Train Epoch: 1 [16640/60000 (28%)]\tLoss: 0.993659\n",
            "Train Epoch: 1 [17920/60000 (30%)]\tLoss: 1.482359\n",
            "Train Epoch: 1 [19200/60000 (32%)]\tLoss: 1.149113\n",
            "Train Epoch: 1 [20480/60000 (34%)]\tLoss: 1.575279\n",
            "Train Epoch: 1 [21760/60000 (36%)]\tLoss: 1.418366\n",
            "Train Epoch: 1 [23040/60000 (38%)]\tLoss: 1.509853\n",
            "Train Epoch: 1 [24320/60000 (41%)]\tLoss: 1.135945\n",
            "Train Epoch: 1 [25600/60000 (43%)]\tLoss: 1.459794\n",
            "Train Epoch: 1 [26880/60000 (45%)]\tLoss: 1.521884\n",
            "Train Epoch: 1 [28160/60000 (47%)]\tLoss: 1.434490\n",
            "Train Epoch: 1 [29440/60000 (49%)]\tLoss: 1.110177\n",
            "Train Epoch: 1 [30720/60000 (51%)]\tLoss: 1.011918\n",
            "Train Epoch: 1 [32000/60000 (53%)]\tLoss: 1.603862\n",
            "Train Epoch: 1 [33280/60000 (55%)]\tLoss: 1.059292\n",
            "Train Epoch: 1 [34560/60000 (58%)]\tLoss: 1.551926\n",
            "Train Epoch: 1 [35840/60000 (60%)]\tLoss: 0.902996\n",
            "Train Epoch: 1 [37120/60000 (62%)]\tLoss: 1.312787\n",
            "Train Epoch: 1 [38400/60000 (64%)]\tLoss: 1.134003\n",
            "Train Epoch: 1 [39680/60000 (66%)]\tLoss: 1.729675\n",
            "Train Epoch: 1 [40960/60000 (68%)]\tLoss: 1.363759\n",
            "Train Epoch: 1 [42240/60000 (70%)]\tLoss: 1.506649\n",
            "Train Epoch: 1 [43520/60000 (72%)]\tLoss: 1.350107\n",
            "Train Epoch: 1 [44800/60000 (75%)]\tLoss: 1.688040\n",
            "Train Epoch: 1 [46080/60000 (77%)]\tLoss: 1.619957\n",
            "Train Epoch: 1 [47360/60000 (79%)]\tLoss: 1.057286\n",
            "Train Epoch: 1 [48640/60000 (81%)]\tLoss: 1.426579\n",
            "Train Epoch: 1 [49920/60000 (83%)]\tLoss: 0.973659\n",
            "Train Epoch: 1 [51200/60000 (85%)]\tLoss: 1.459563\n",
            "Train Epoch: 1 [52480/60000 (87%)]\tLoss: 1.362672\n",
            "Train Epoch: 1 [53760/60000 (90%)]\tLoss: 1.395330\n",
            "Train Epoch: 1 [55040/60000 (92%)]\tLoss: 1.135693\n",
            "Train Epoch: 1 [56320/60000 (94%)]\tLoss: 1.364353\n",
            "Train Epoch: 1 [57600/60000 (96%)]\tLoss: 1.519928\n",
            "Train Epoch: 1 [58880/60000 (98%)]\tLoss: 1.744437\n",
            "\n",
            "Test set: Average loss: 0.0106, Accuracy: 6845/10000 (68%)\n",
            "\n",
            "Train Epoch: 2 [0/60000 (0%)]\tLoss: 1.451381\n",
            "Train Epoch: 2 [1280/60000 (2%)]\tLoss: 1.375645\n",
            "Train Epoch: 2 [2560/60000 (4%)]\tLoss: 1.109384\n",
            "Train Epoch: 2 [3840/60000 (6%)]\tLoss: 1.451680\n",
            "Train Epoch: 2 [5120/60000 (9%)]\tLoss: 1.482270\n",
            "Train Epoch: 2 [6400/60000 (11%)]\tLoss: 1.590268\n",
            "Train Epoch: 2 [7680/60000 (13%)]\tLoss: 1.015999\n",
            "Train Epoch: 2 [8960/60000 (15%)]\tLoss: 1.175045\n",
            "Train Epoch: 2 [10240/60000 (17%)]\tLoss: 1.547931\n",
            "Train Epoch: 2 [11520/60000 (19%)]\tLoss: 1.325756\n",
            "Train Epoch: 2 [12800/60000 (21%)]\tLoss: 0.618082\n",
            "Train Epoch: 2 [14080/60000 (23%)]\tLoss: 1.279178\n",
            "Train Epoch: 2 [15360/60000 (26%)]\tLoss: 1.278281\n",
            "Train Epoch: 2 [16640/60000 (28%)]\tLoss: 1.057398\n",
            "Train Epoch: 2 [17920/60000 (30%)]\tLoss: 1.296605\n",
            "Train Epoch: 2 [19200/60000 (32%)]\tLoss: 1.023864\n",
            "Train Epoch: 2 [20480/60000 (34%)]\tLoss: 1.387689\n",
            "Train Epoch: 2 [21760/60000 (36%)]\tLoss: 1.193677\n",
            "Train Epoch: 2 [23040/60000 (38%)]\tLoss: 1.449161\n",
            "Train Epoch: 2 [24320/60000 (41%)]\tLoss: 1.095110\n",
            "Train Epoch: 2 [25600/60000 (43%)]\tLoss: 1.617610\n",
            "Train Epoch: 2 [26880/60000 (45%)]\tLoss: 1.297839\n",
            "Train Epoch: 2 [28160/60000 (47%)]\tLoss: 1.397561\n",
            "Train Epoch: 2 [29440/60000 (49%)]\tLoss: 1.176967\n",
            "Train Epoch: 2 [30720/60000 (51%)]\tLoss: 1.302768\n",
            "Train Epoch: 2 [32000/60000 (53%)]\tLoss: 1.398582\n",
            "Train Epoch: 2 [33280/60000 (55%)]\tLoss: 0.804130\n",
            "Train Epoch: 2 [34560/60000 (58%)]\tLoss: 1.343691\n",
            "Train Epoch: 2 [35840/60000 (60%)]\tLoss: 1.319327\n",
            "Train Epoch: 2 [37120/60000 (62%)]\tLoss: 1.582857\n",
            "Train Epoch: 2 [38400/60000 (64%)]\tLoss: 1.299873\n",
            "Train Epoch: 2 [39680/60000 (66%)]\tLoss: 1.453633\n",
            "Train Epoch: 2 [40960/60000 (68%)]\tLoss: 0.757567\n",
            "Train Epoch: 2 [42240/60000 (70%)]\tLoss: 1.806103\n",
            "Train Epoch: 2 [43520/60000 (72%)]\tLoss: 1.707471\n",
            "Train Epoch: 2 [44800/60000 (75%)]\tLoss: 1.248698\n",
            "Train Epoch: 2 [46080/60000 (77%)]\tLoss: 1.384504\n",
            "Train Epoch: 2 [47360/60000 (79%)]\tLoss: 1.404922\n",
            "Train Epoch: 2 [48640/60000 (81%)]\tLoss: 1.451267\n",
            "Train Epoch: 2 [49920/60000 (83%)]\tLoss: 1.594063\n",
            "Train Epoch: 2 [51200/60000 (85%)]\tLoss: 1.532595\n",
            "Train Epoch: 2 [52480/60000 (87%)]\tLoss: 1.347838\n",
            "Train Epoch: 2 [53760/60000 (90%)]\tLoss: 1.311765\n",
            "Train Epoch: 2 [55040/60000 (92%)]\tLoss: 1.631214\n",
            "Train Epoch: 2 [56320/60000 (94%)]\tLoss: 1.016129\n",
            "Train Epoch: 2 [57600/60000 (96%)]\tLoss: 1.477859\n",
            "Train Epoch: 2 [58880/60000 (98%)]\tLoss: 1.429435\n",
            "\n",
            "Test set: Average loss: 0.0100, Accuracy: 7060/10000 (71%)\n",
            "\n",
            "Train Epoch: 3 [0/60000 (0%)]\tLoss: 1.389002\n",
            "Train Epoch: 3 [1280/60000 (2%)]\tLoss: 1.521394\n",
            "Train Epoch: 3 [2560/60000 (4%)]\tLoss: 1.347884\n",
            "Train Epoch: 3 [3840/60000 (6%)]\tLoss: 1.127291\n",
            "Train Epoch: 3 [5120/60000 (9%)]\tLoss: 1.419214\n",
            "Train Epoch: 3 [6400/60000 (11%)]\tLoss: 2.094652\n",
            "Train Epoch: 3 [7680/60000 (13%)]\tLoss: 1.203817\n",
            "Train Epoch: 3 [8960/60000 (15%)]\tLoss: 1.885160\n",
            "Train Epoch: 3 [10240/60000 (17%)]\tLoss: 1.445566\n",
            "Train Epoch: 3 [11520/60000 (19%)]\tLoss: 1.024900\n",
            "Train Epoch: 3 [12800/60000 (21%)]\tLoss: 1.327283\n",
            "Train Epoch: 3 [14080/60000 (23%)]\tLoss: 1.252909\n",
            "Train Epoch: 3 [15360/60000 (26%)]\tLoss: 1.672738\n",
            "Train Epoch: 3 [16640/60000 (28%)]\tLoss: 1.790719\n",
            "Train Epoch: 3 [17920/60000 (30%)]\tLoss: 1.734252\n",
            "Train Epoch: 3 [19200/60000 (32%)]\tLoss: 1.356410\n",
            "Train Epoch: 3 [20480/60000 (34%)]\tLoss: 1.324276\n",
            "Train Epoch: 3 [21760/60000 (36%)]\tLoss: 0.986625\n",
            "Train Epoch: 3 [23040/60000 (38%)]\tLoss: 1.350295\n",
            "Train Epoch: 3 [24320/60000 (41%)]\tLoss: 1.375409\n",
            "Train Epoch: 3 [25600/60000 (43%)]\tLoss: 1.434784\n",
            "Train Epoch: 3 [26880/60000 (45%)]\tLoss: 1.249284\n",
            "Train Epoch: 3 [28160/60000 (47%)]\tLoss: 1.545120\n",
            "Train Epoch: 3 [29440/60000 (49%)]\tLoss: 1.430648\n",
            "Train Epoch: 3 [30720/60000 (51%)]\tLoss: 0.780409\n",
            "Train Epoch: 3 [32000/60000 (53%)]\tLoss: 1.449621\n",
            "Train Epoch: 3 [33280/60000 (55%)]\tLoss: 1.117994\n",
            "Train Epoch: 3 [34560/60000 (58%)]\tLoss: 1.265382\n",
            "Train Epoch: 3 [35840/60000 (60%)]\tLoss: 1.552611\n",
            "Train Epoch: 3 [37120/60000 (62%)]\tLoss: 1.699659\n",
            "Train Epoch: 3 [38400/60000 (64%)]\tLoss: 1.060221\n",
            "Train Epoch: 3 [39680/60000 (66%)]\tLoss: 1.510455\n",
            "Train Epoch: 3 [40960/60000 (68%)]\tLoss: 0.967637\n",
            "Train Epoch: 3 [42240/60000 (70%)]\tLoss: 1.331936\n",
            "Train Epoch: 3 [43520/60000 (72%)]\tLoss: 1.354233\n",
            "Train Epoch: 3 [44800/60000 (75%)]\tLoss: 1.450545\n",
            "Train Epoch: 3 [46080/60000 (77%)]\tLoss: 1.681588\n",
            "Train Epoch: 3 [47360/60000 (79%)]\tLoss: 1.362637\n",
            "Train Epoch: 3 [48640/60000 (81%)]\tLoss: 1.276517\n",
            "Train Epoch: 3 [49920/60000 (83%)]\tLoss: 1.455486\n",
            "Train Epoch: 3 [51200/60000 (85%)]\tLoss: 1.460639\n",
            "Train Epoch: 3 [52480/60000 (87%)]\tLoss: 2.195163\n",
            "Train Epoch: 3 [53760/60000 (90%)]\tLoss: 0.975071\n",
            "Train Epoch: 3 [55040/60000 (92%)]\tLoss: 1.465779\n",
            "Train Epoch: 3 [56320/60000 (94%)]\tLoss: 0.841523\n",
            "Train Epoch: 3 [57600/60000 (96%)]\tLoss: 1.539056\n",
            "Train Epoch: 3 [58880/60000 (98%)]\tLoss: 1.163362\n",
            "\n",
            "Test set: Average loss: 0.0099, Accuracy: 6908/10000 (69%)\n",
            "\n",
            "Train Epoch: 4 [0/60000 (0%)]\tLoss: 1.107988\n",
            "Train Epoch: 4 [1280/60000 (2%)]\tLoss: 1.680151\n",
            "Train Epoch: 4 [2560/60000 (4%)]\tLoss: 1.210005\n",
            "Train Epoch: 4 [3840/60000 (6%)]\tLoss: 1.477925\n",
            "Train Epoch: 4 [5120/60000 (9%)]\tLoss: 1.281792\n",
            "Train Epoch: 4 [6400/60000 (11%)]\tLoss: 0.864867\n",
            "Train Epoch: 4 [7680/60000 (13%)]\tLoss: 1.148120\n",
            "Train Epoch: 4 [8960/60000 (15%)]\tLoss: 1.041204\n",
            "Train Epoch: 4 [10240/60000 (17%)]\tLoss: 1.339540\n",
            "Train Epoch: 4 [11520/60000 (19%)]\tLoss: 1.103784\n",
            "Train Epoch: 4 [12800/60000 (21%)]\tLoss: 1.683883\n",
            "Train Epoch: 4 [14080/60000 (23%)]\tLoss: 1.356443\n",
            "Train Epoch: 4 [15360/60000 (26%)]\tLoss: 1.770995\n",
            "Train Epoch: 4 [16640/60000 (28%)]\tLoss: 1.338571\n",
            "Train Epoch: 4 [17920/60000 (30%)]\tLoss: 0.690891\n",
            "Train Epoch: 4 [19200/60000 (32%)]\tLoss: 1.133634\n",
            "Train Epoch: 4 [20480/60000 (34%)]\tLoss: 1.424707\n",
            "Train Epoch: 4 [21760/60000 (36%)]\tLoss: 1.120845\n",
            "Train Epoch: 4 [23040/60000 (38%)]\tLoss: 1.009273\n",
            "Train Epoch: 4 [24320/60000 (41%)]\tLoss: 1.509400\n",
            "Train Epoch: 4 [25600/60000 (43%)]\tLoss: 1.303439\n",
            "Train Epoch: 4 [26880/60000 (45%)]\tLoss: 1.421912\n",
            "Train Epoch: 4 [28160/60000 (47%)]\tLoss: 1.221958\n",
            "Train Epoch: 4 [29440/60000 (49%)]\tLoss: 1.064066\n",
            "Train Epoch: 4 [30720/60000 (51%)]\tLoss: 1.414387\n",
            "Train Epoch: 4 [32000/60000 (53%)]\tLoss: 1.349921\n",
            "Train Epoch: 4 [33280/60000 (55%)]\tLoss: 1.297552\n",
            "Train Epoch: 4 [34560/60000 (58%)]\tLoss: 1.439394\n",
            "Train Epoch: 4 [35840/60000 (60%)]\tLoss: 1.505491\n",
            "Train Epoch: 4 [37120/60000 (62%)]\tLoss: 1.252326\n",
            "Train Epoch: 4 [38400/60000 (64%)]\tLoss: 1.369066\n",
            "Train Epoch: 4 [39680/60000 (66%)]\tLoss: 1.232508\n",
            "Train Epoch: 4 [40960/60000 (68%)]\tLoss: 1.306063\n",
            "Train Epoch: 4 [42240/60000 (70%)]\tLoss: 1.433914\n",
            "Train Epoch: 4 [43520/60000 (72%)]\tLoss: 1.206451\n",
            "Train Epoch: 4 [44800/60000 (75%)]\tLoss: 1.488518\n",
            "Train Epoch: 4 [46080/60000 (77%)]\tLoss: 1.438977\n",
            "Train Epoch: 4 [47360/60000 (79%)]\tLoss: 1.433765\n",
            "Train Epoch: 4 [48640/60000 (81%)]\tLoss: 1.188270\n",
            "Train Epoch: 4 [49920/60000 (83%)]\tLoss: 1.620605\n",
            "Train Epoch: 4 [51200/60000 (85%)]\tLoss: 1.377249\n",
            "Train Epoch: 4 [52480/60000 (87%)]\tLoss: 1.727198\n",
            "Train Epoch: 4 [53760/60000 (90%)]\tLoss: 1.339351\n",
            "Train Epoch: 4 [55040/60000 (92%)]\tLoss: 1.201319\n",
            "Train Epoch: 4 [56320/60000 (94%)]\tLoss: 1.511653\n",
            "Train Epoch: 4 [57600/60000 (96%)]\tLoss: 1.174506\n",
            "Train Epoch: 4 [58880/60000 (98%)]\tLoss: 1.011667\n",
            "\n",
            "Test set: Average loss: 0.0120, Accuracy: 6531/10000 (65%)\n",
            "\n",
            "Train Epoch: 5 [0/60000 (0%)]\tLoss: 1.195822\n",
            "Train Epoch: 5 [1280/60000 (2%)]\tLoss: 1.745076\n",
            "Train Epoch: 5 [2560/60000 (4%)]\tLoss: 1.208835\n",
            "Train Epoch: 5 [3840/60000 (6%)]\tLoss: 1.005221\n",
            "Train Epoch: 5 [5120/60000 (9%)]\tLoss: 1.506827\n",
            "Train Epoch: 5 [6400/60000 (11%)]\tLoss: 1.472376\n",
            "Train Epoch: 5 [7680/60000 (13%)]\tLoss: 1.387529\n",
            "Train Epoch: 5 [8960/60000 (15%)]\tLoss: 1.155198\n",
            "Train Epoch: 5 [10240/60000 (17%)]\tLoss: 1.628896\n",
            "Train Epoch: 5 [11520/60000 (19%)]\tLoss: 1.389352\n",
            "Train Epoch: 5 [12800/60000 (21%)]\tLoss: 1.480023\n",
            "Train Epoch: 5 [14080/60000 (23%)]\tLoss: 1.068657\n",
            "Train Epoch: 5 [15360/60000 (26%)]\tLoss: 0.987107\n",
            "Train Epoch: 5 [16640/60000 (28%)]\tLoss: 1.589886\n",
            "Train Epoch: 5 [17920/60000 (30%)]\tLoss: 1.213188\n",
            "Train Epoch: 5 [19200/60000 (32%)]\tLoss: 1.347287\n",
            "Train Epoch: 5 [20480/60000 (34%)]\tLoss: 1.255826\n",
            "Train Epoch: 5 [21760/60000 (36%)]\tLoss: 1.255677\n",
            "Train Epoch: 5 [23040/60000 (38%)]\tLoss: 1.371092\n",
            "Train Epoch: 5 [24320/60000 (41%)]\tLoss: 1.296420\n",
            "Train Epoch: 5 [25600/60000 (43%)]\tLoss: 1.130147\n",
            "Train Epoch: 5 [26880/60000 (45%)]\tLoss: 1.348549\n",
            "Train Epoch: 5 [28160/60000 (47%)]\tLoss: 1.295610\n",
            "Train Epoch: 5 [29440/60000 (49%)]\tLoss: 1.318697\n",
            "Train Epoch: 5 [30720/60000 (51%)]\tLoss: 1.071566\n",
            "Train Epoch: 5 [32000/60000 (53%)]\tLoss: 0.889791\n",
            "Train Epoch: 5 [33280/60000 (55%)]\tLoss: 1.572646\n",
            "Train Epoch: 5 [34560/60000 (58%)]\tLoss: 1.222816\n",
            "Train Epoch: 5 [35840/60000 (60%)]\tLoss: 1.419078\n",
            "Train Epoch: 5 [37120/60000 (62%)]\tLoss: 1.386908\n",
            "Train Epoch: 5 [38400/60000 (64%)]\tLoss: 1.246523\n",
            "Train Epoch: 5 [39680/60000 (66%)]\tLoss: 1.232463\n",
            "Train Epoch: 5 [40960/60000 (68%)]\tLoss: 1.485817\n",
            "Train Epoch: 5 [42240/60000 (70%)]\tLoss: 1.262532\n",
            "Train Epoch: 5 [43520/60000 (72%)]\tLoss: 1.261546\n",
            "Train Epoch: 5 [44800/60000 (75%)]\tLoss: 1.542752\n",
            "Train Epoch: 5 [46080/60000 (77%)]\tLoss: 1.745566\n",
            "Train Epoch: 5 [47360/60000 (79%)]\tLoss: 1.290304\n",
            "Train Epoch: 5 [48640/60000 (81%)]\tLoss: 1.550503\n",
            "Train Epoch: 5 [49920/60000 (83%)]\tLoss: 1.185050\n",
            "Train Epoch: 5 [51200/60000 (85%)]\tLoss: 1.904934\n",
            "Train Epoch: 5 [52480/60000 (87%)]\tLoss: 1.263469\n",
            "Train Epoch: 5 [53760/60000 (90%)]\tLoss: 1.493713\n",
            "Train Epoch: 5 [55040/60000 (92%)]\tLoss: 1.341650\n",
            "Train Epoch: 5 [56320/60000 (94%)]\tLoss: 1.464642\n",
            "Train Epoch: 5 [57600/60000 (96%)]\tLoss: 1.217245\n",
            "Train Epoch: 5 [58880/60000 (98%)]\tLoss: 1.264316\n",
            "\n",
            "Test set: Average loss: 0.0121, Accuracy: 6569/10000 (66%)\n",
            "\n",
            "Train Epoch: 6 [0/60000 (0%)]\tLoss: 1.951738\n",
            "Train Epoch: 6 [1280/60000 (2%)]\tLoss: 1.485616\n",
            "Train Epoch: 6 [2560/60000 (4%)]\tLoss: 1.115136\n",
            "Train Epoch: 6 [3840/60000 (6%)]\tLoss: 1.269309\n",
            "Train Epoch: 6 [5120/60000 (9%)]\tLoss: 1.093198\n",
            "Train Epoch: 6 [6400/60000 (11%)]\tLoss: 1.477637\n",
            "Train Epoch: 6 [7680/60000 (13%)]\tLoss: 1.247256\n",
            "Train Epoch: 6 [8960/60000 (15%)]\tLoss: 1.578910\n",
            "Train Epoch: 6 [10240/60000 (17%)]\tLoss: 1.373938\n",
            "Train Epoch: 6 [11520/60000 (19%)]\tLoss: 1.462816\n",
            "Train Epoch: 6 [12800/60000 (21%)]\tLoss: 1.307816\n",
            "Train Epoch: 6 [14080/60000 (23%)]\tLoss: 1.152530\n",
            "Train Epoch: 6 [15360/60000 (26%)]\tLoss: 1.590767\n",
            "Train Epoch: 6 [16640/60000 (28%)]\tLoss: 1.018799\n",
            "Train Epoch: 6 [17920/60000 (30%)]\tLoss: 1.224047\n",
            "Train Epoch: 6 [19200/60000 (32%)]\tLoss: 1.118548\n",
            "Train Epoch: 6 [20480/60000 (34%)]\tLoss: 1.426815\n",
            "Train Epoch: 6 [21760/60000 (36%)]\tLoss: 1.159803\n",
            "Train Epoch: 6 [23040/60000 (38%)]\tLoss: 1.333177\n",
            "Train Epoch: 6 [24320/60000 (41%)]\tLoss: 1.312057\n",
            "Train Epoch: 6 [25600/60000 (43%)]\tLoss: 1.161975\n",
            "Train Epoch: 6 [26880/60000 (45%)]\tLoss: 1.756063\n",
            "Train Epoch: 6 [28160/60000 (47%)]\tLoss: 1.511718\n",
            "Train Epoch: 6 [29440/60000 (49%)]\tLoss: 1.058304\n",
            "Train Epoch: 6 [30720/60000 (51%)]\tLoss: 1.168355\n",
            "Train Epoch: 6 [32000/60000 (53%)]\tLoss: 1.423478\n",
            "Train Epoch: 6 [33280/60000 (55%)]\tLoss: 1.339292\n",
            "Train Epoch: 6 [34560/60000 (58%)]\tLoss: 1.268257\n",
            "Train Epoch: 6 [35840/60000 (60%)]\tLoss: 1.063282\n",
            "Train Epoch: 6 [37120/60000 (62%)]\tLoss: 1.586250\n",
            "Train Epoch: 6 [38400/60000 (64%)]\tLoss: 1.502603\n",
            "Train Epoch: 6 [39680/60000 (66%)]\tLoss: 1.034673\n",
            "Train Epoch: 6 [40960/60000 (68%)]\tLoss: 1.333380\n",
            "Train Epoch: 6 [42240/60000 (70%)]\tLoss: 1.559941\n",
            "Train Epoch: 6 [43520/60000 (72%)]\tLoss: 1.190854\n",
            "Train Epoch: 6 [44800/60000 (75%)]\tLoss: 1.621720\n",
            "Train Epoch: 6 [46080/60000 (77%)]\tLoss: 1.783634\n",
            "Train Epoch: 6 [47360/60000 (79%)]\tLoss: 1.483619\n",
            "Train Epoch: 6 [48640/60000 (81%)]\tLoss: 1.187370\n",
            "Train Epoch: 6 [49920/60000 (83%)]\tLoss: 1.238347\n",
            "Train Epoch: 6 [51200/60000 (85%)]\tLoss: 1.202996\n",
            "Train Epoch: 6 [52480/60000 (87%)]\tLoss: 1.741593\n",
            "Train Epoch: 6 [53760/60000 (90%)]\tLoss: 1.290843\n",
            "Train Epoch: 6 [55040/60000 (92%)]\tLoss: 1.027839\n",
            "Train Epoch: 6 [56320/60000 (94%)]\tLoss: 1.086961\n",
            "Train Epoch: 6 [57600/60000 (96%)]\tLoss: 1.067491\n",
            "Train Epoch: 6 [58880/60000 (98%)]\tLoss: 1.362714\n",
            "\n",
            "Test set: Average loss: 0.0100, Accuracy: 7090/10000 (71%)\n",
            "\n",
            "Train Epoch: 7 [0/60000 (0%)]\tLoss: 1.468595\n",
            "Train Epoch: 7 [1280/60000 (2%)]\tLoss: 1.491531\n",
            "Train Epoch: 7 [2560/60000 (4%)]\tLoss: 1.261406\n",
            "Train Epoch: 7 [3840/60000 (6%)]\tLoss: 1.261123\n",
            "Train Epoch: 7 [5120/60000 (9%)]\tLoss: 1.072197\n",
            "Train Epoch: 7 [6400/60000 (11%)]\tLoss: 1.274797\n",
            "Train Epoch: 7 [7680/60000 (13%)]\tLoss: 0.991163\n",
            "Train Epoch: 7 [8960/60000 (15%)]\tLoss: 0.799249\n",
            "Train Epoch: 7 [10240/60000 (17%)]\tLoss: 1.477209\n",
            "Train Epoch: 7 [11520/60000 (19%)]\tLoss: 1.334782\n",
            "Train Epoch: 7 [12800/60000 (21%)]\tLoss: 1.456584\n",
            "Train Epoch: 7 [14080/60000 (23%)]\tLoss: 1.374974\n",
            "Train Epoch: 7 [15360/60000 (26%)]\tLoss: 0.936979\n",
            "Train Epoch: 7 [16640/60000 (28%)]\tLoss: 1.439293\n",
            "Train Epoch: 7 [17920/60000 (30%)]\tLoss: 1.224345\n",
            "Train Epoch: 7 [19200/60000 (32%)]\tLoss: 1.403960\n",
            "Train Epoch: 7 [20480/60000 (34%)]\tLoss: 2.131383\n",
            "Train Epoch: 7 [21760/60000 (36%)]\tLoss: 1.598603\n",
            "Train Epoch: 7 [23040/60000 (38%)]\tLoss: 0.944051\n",
            "Train Epoch: 7 [24320/60000 (41%)]\tLoss: 1.817578\n",
            "Train Epoch: 7 [25600/60000 (43%)]\tLoss: 1.678040\n",
            "Train Epoch: 7 [26880/60000 (45%)]\tLoss: 1.331541\n",
            "Train Epoch: 7 [28160/60000 (47%)]\tLoss: 1.234244\n",
            "Train Epoch: 7 [29440/60000 (49%)]\tLoss: 1.644067\n",
            "Train Epoch: 7 [30720/60000 (51%)]\tLoss: 2.083558\n",
            "Train Epoch: 7 [32000/60000 (53%)]\tLoss: 1.546425\n",
            "Train Epoch: 7 [33280/60000 (55%)]\tLoss: 1.241479\n",
            "Train Epoch: 7 [34560/60000 (58%)]\tLoss: 1.096076\n",
            "Train Epoch: 7 [35840/60000 (60%)]\tLoss: 1.382987\n",
            "Train Epoch: 7 [37120/60000 (62%)]\tLoss: 1.393018\n",
            "Train Epoch: 7 [38400/60000 (64%)]\tLoss: 1.142664\n",
            "Train Epoch: 7 [39680/60000 (66%)]\tLoss: 0.898223\n",
            "Train Epoch: 7 [40960/60000 (68%)]\tLoss: 1.624141\n",
            "Train Epoch: 7 [42240/60000 (70%)]\tLoss: 1.588085\n",
            "Train Epoch: 7 [43520/60000 (72%)]\tLoss: 1.416786\n",
            "Train Epoch: 7 [44800/60000 (75%)]\tLoss: 1.663569\n",
            "Train Epoch: 7 [46080/60000 (77%)]\tLoss: 1.323364\n",
            "Train Epoch: 7 [47360/60000 (79%)]\tLoss: 1.154913\n",
            "Train Epoch: 7 [48640/60000 (81%)]\tLoss: 1.189740\n",
            "Train Epoch: 7 [49920/60000 (83%)]\tLoss: 1.973460\n",
            "Train Epoch: 7 [51200/60000 (85%)]\tLoss: 1.192529\n",
            "Train Epoch: 7 [52480/60000 (87%)]\tLoss: 1.064409\n",
            "Train Epoch: 7 [53760/60000 (90%)]\tLoss: 1.278478\n",
            "Train Epoch: 7 [55040/60000 (92%)]\tLoss: 1.286827\n",
            "Train Epoch: 7 [56320/60000 (94%)]\tLoss: 1.512832\n",
            "Train Epoch: 7 [57600/60000 (96%)]\tLoss: 1.381645\n",
            "Train Epoch: 7 [58880/60000 (98%)]\tLoss: 1.235525\n",
            "\n",
            "Test set: Average loss: 0.0107, Accuracy: 6993/10000 (70%)\n",
            "\n",
            "Train Epoch: 8 [0/60000 (0%)]\tLoss: 1.185282\n",
            "Train Epoch: 8 [1280/60000 (2%)]\tLoss: 1.590641\n",
            "Train Epoch: 8 [2560/60000 (4%)]\tLoss: 0.938613\n",
            "Train Epoch: 8 [3840/60000 (6%)]\tLoss: 1.076460\n",
            "Train Epoch: 8 [5120/60000 (9%)]\tLoss: 1.472175\n",
            "Train Epoch: 8 [6400/60000 (11%)]\tLoss: 1.257120\n",
            "Train Epoch: 8 [7680/60000 (13%)]\tLoss: 1.268546\n",
            "Train Epoch: 8 [8960/60000 (15%)]\tLoss: 1.320007\n",
            "Train Epoch: 8 [10240/60000 (17%)]\tLoss: 0.960885\n",
            "Train Epoch: 8 [11520/60000 (19%)]\tLoss: 1.290364\n",
            "Train Epoch: 8 [12800/60000 (21%)]\tLoss: 1.152956\n",
            "Train Epoch: 8 [14080/60000 (23%)]\tLoss: 0.777541\n",
            "Train Epoch: 8 [15360/60000 (26%)]\tLoss: 1.130985\n",
            "Train Epoch: 8 [16640/60000 (28%)]\tLoss: 1.659289\n",
            "Train Epoch: 8 [17920/60000 (30%)]\tLoss: 1.063492\n",
            "Train Epoch: 8 [19200/60000 (32%)]\tLoss: 1.219170\n",
            "Train Epoch: 8 [20480/60000 (34%)]\tLoss: 1.297705\n",
            "Train Epoch: 8 [21760/60000 (36%)]\tLoss: 1.702775\n",
            "Train Epoch: 8 [23040/60000 (38%)]\tLoss: 1.086481\n",
            "Train Epoch: 8 [24320/60000 (41%)]\tLoss: 1.691632\n",
            "Train Epoch: 8 [25600/60000 (43%)]\tLoss: 1.311862\n",
            "Train Epoch: 8 [26880/60000 (45%)]\tLoss: 0.951916\n",
            "Train Epoch: 8 [28160/60000 (47%)]\tLoss: 1.613132\n",
            "Train Epoch: 8 [29440/60000 (49%)]\tLoss: 1.400392\n",
            "Train Epoch: 8 [30720/60000 (51%)]\tLoss: 1.810183\n",
            "Train Epoch: 8 [32000/60000 (53%)]\tLoss: 1.227270\n",
            "Train Epoch: 8 [33280/60000 (55%)]\tLoss: 1.257650\n",
            "Train Epoch: 8 [34560/60000 (58%)]\tLoss: 1.254947\n",
            "Train Epoch: 8 [35840/60000 (60%)]\tLoss: 1.051835\n",
            "Train Epoch: 8 [37120/60000 (62%)]\tLoss: 0.990938\n",
            "Train Epoch: 8 [38400/60000 (64%)]\tLoss: 1.353770\n",
            "Train Epoch: 8 [39680/60000 (66%)]\tLoss: 1.037356\n",
            "Train Epoch: 8 [40960/60000 (68%)]\tLoss: 1.441147\n",
            "Train Epoch: 8 [42240/60000 (70%)]\tLoss: 1.241880\n",
            "Train Epoch: 8 [43520/60000 (72%)]\tLoss: 1.258257\n",
            "Train Epoch: 8 [44800/60000 (75%)]\tLoss: 1.664464\n",
            "Train Epoch: 8 [46080/60000 (77%)]\tLoss: 0.997966\n",
            "Train Epoch: 8 [47360/60000 (79%)]\tLoss: 1.665396\n",
            "Train Epoch: 8 [48640/60000 (81%)]\tLoss: 1.334370\n",
            "Train Epoch: 8 [49920/60000 (83%)]\tLoss: 1.628985\n",
            "Train Epoch: 8 [51200/60000 (85%)]\tLoss: 1.063624\n",
            "Train Epoch: 8 [52480/60000 (87%)]\tLoss: 1.483424\n",
            "Train Epoch: 8 [53760/60000 (90%)]\tLoss: 0.905630\n",
            "Train Epoch: 8 [55040/60000 (92%)]\tLoss: 1.478751\n",
            "Train Epoch: 8 [56320/60000 (94%)]\tLoss: 1.809835\n",
            "Train Epoch: 8 [57600/60000 (96%)]\tLoss: 1.270919\n",
            "Train Epoch: 8 [58880/60000 (98%)]\tLoss: 1.361971\n",
            "\n",
            "Test set: Average loss: 0.0094, Accuracy: 7404/10000 (74%)\n",
            "\n",
            "Train Epoch: 9 [0/60000 (0%)]\tLoss: 1.113855\n",
            "Train Epoch: 9 [1280/60000 (2%)]\tLoss: 1.235737\n",
            "Train Epoch: 9 [2560/60000 (4%)]\tLoss: 1.279987\n",
            "Train Epoch: 9 [3840/60000 (6%)]\tLoss: 1.065409\n",
            "Train Epoch: 9 [5120/60000 (9%)]\tLoss: 1.336910\n",
            "Train Epoch: 9 [6400/60000 (11%)]\tLoss: 1.102224\n",
            "Train Epoch: 9 [7680/60000 (13%)]\tLoss: 1.273790\n",
            "Train Epoch: 9 [8960/60000 (15%)]\tLoss: 1.402990\n",
            "Train Epoch: 9 [10240/60000 (17%)]\tLoss: 1.590468\n",
            "Train Epoch: 9 [11520/60000 (19%)]\tLoss: 0.791166\n",
            "Train Epoch: 9 [12800/60000 (21%)]\tLoss: 1.209027\n",
            "Train Epoch: 9 [14080/60000 (23%)]\tLoss: 1.741607\n",
            "Train Epoch: 9 [15360/60000 (26%)]\tLoss: 1.285213\n",
            "Train Epoch: 9 [16640/60000 (28%)]\tLoss: 1.120611\n",
            "Train Epoch: 9 [17920/60000 (30%)]\tLoss: 1.491740\n",
            "Train Epoch: 9 [19200/60000 (32%)]\tLoss: 1.512396\n",
            "Train Epoch: 9 [20480/60000 (34%)]\tLoss: 1.228300\n",
            "Train Epoch: 9 [21760/60000 (36%)]\tLoss: 1.153051\n",
            "Train Epoch: 9 [23040/60000 (38%)]\tLoss: 1.005075\n",
            "Train Epoch: 9 [24320/60000 (41%)]\tLoss: 1.702809\n",
            "Train Epoch: 9 [25600/60000 (43%)]\tLoss: 1.262131\n",
            "Train Epoch: 9 [26880/60000 (45%)]\tLoss: 1.200922\n",
            "Train Epoch: 9 [28160/60000 (47%)]\tLoss: 0.897869\n",
            "Train Epoch: 9 [29440/60000 (49%)]\tLoss: 1.251375\n",
            "Train Epoch: 9 [30720/60000 (51%)]\tLoss: 0.971991\n",
            "Train Epoch: 9 [32000/60000 (53%)]\tLoss: 1.336685\n",
            "Train Epoch: 9 [33280/60000 (55%)]\tLoss: 1.538005\n",
            "Train Epoch: 9 [34560/60000 (58%)]\tLoss: 1.488236\n",
            "Train Epoch: 9 [35840/60000 (60%)]\tLoss: 1.690226\n",
            "Train Epoch: 9 [37120/60000 (62%)]\tLoss: 1.300596\n",
            "Train Epoch: 9 [38400/60000 (64%)]\tLoss: 1.370632\n",
            "Train Epoch: 9 [39680/60000 (66%)]\tLoss: 1.212277\n",
            "Train Epoch: 9 [40960/60000 (68%)]\tLoss: 1.459350\n",
            "Train Epoch: 9 [42240/60000 (70%)]\tLoss: 1.301782\n",
            "Train Epoch: 9 [43520/60000 (72%)]\tLoss: 1.184032\n",
            "Train Epoch: 9 [44800/60000 (75%)]\tLoss: 1.220577\n",
            "Train Epoch: 9 [46080/60000 (77%)]\tLoss: 0.776487\n",
            "Train Epoch: 9 [47360/60000 (79%)]\tLoss: 1.130695\n",
            "Train Epoch: 9 [48640/60000 (81%)]\tLoss: 1.428787\n",
            "Train Epoch: 9 [49920/60000 (83%)]\tLoss: 1.488642\n",
            "Train Epoch: 9 [51200/60000 (85%)]\tLoss: 1.087557\n",
            "Train Epoch: 9 [52480/60000 (87%)]\tLoss: 1.565817\n",
            "Train Epoch: 9 [53760/60000 (90%)]\tLoss: 1.399408\n",
            "Train Epoch: 9 [55040/60000 (92%)]\tLoss: 1.180311\n",
            "Train Epoch: 9 [56320/60000 (94%)]\tLoss: 1.156334\n",
            "Train Epoch: 9 [57600/60000 (96%)]\tLoss: 1.048059\n",
            "Train Epoch: 9 [58880/60000 (98%)]\tLoss: 0.915956\n",
            "\n",
            "Test set: Average loss: 0.0096, Accuracy: 7118/10000 (71%)\n",
            "\n",
            "Train Epoch: 10 [0/60000 (0%)]\tLoss: 1.463092\n",
            "Train Epoch: 10 [1280/60000 (2%)]\tLoss: 1.605721\n",
            "Train Epoch: 10 [2560/60000 (4%)]\tLoss: 1.151576\n",
            "Train Epoch: 10 [3840/60000 (6%)]\tLoss: 1.079263\n",
            "Train Epoch: 10 [5120/60000 (9%)]\tLoss: 1.101671\n",
            "Train Epoch: 10 [6400/60000 (11%)]\tLoss: 1.511920\n",
            "Train Epoch: 10 [7680/60000 (13%)]\tLoss: 1.527798\n",
            "Train Epoch: 10 [8960/60000 (15%)]\tLoss: 1.064247\n",
            "Train Epoch: 10 [10240/60000 (17%)]\tLoss: 1.106312\n",
            "Train Epoch: 10 [11520/60000 (19%)]\tLoss: 1.610519\n",
            "Train Epoch: 10 [12800/60000 (21%)]\tLoss: 1.445660\n",
            "Train Epoch: 10 [14080/60000 (23%)]\tLoss: 1.666983\n",
            "Train Epoch: 10 [15360/60000 (26%)]\tLoss: 1.280714\n",
            "Train Epoch: 10 [16640/60000 (28%)]\tLoss: 1.407933\n",
            "Train Epoch: 10 [17920/60000 (30%)]\tLoss: 1.001499\n",
            "Train Epoch: 10 [19200/60000 (32%)]\tLoss: 1.444748\n",
            "Train Epoch: 10 [20480/60000 (34%)]\tLoss: 1.676354\n",
            "Train Epoch: 10 [21760/60000 (36%)]\tLoss: 1.255905\n",
            "Train Epoch: 10 [23040/60000 (38%)]\tLoss: 1.208303\n",
            "Train Epoch: 10 [24320/60000 (41%)]\tLoss: 1.207552\n",
            "Train Epoch: 10 [25600/60000 (43%)]\tLoss: 1.233439\n",
            "Train Epoch: 10 [26880/60000 (45%)]\tLoss: 1.051011\n",
            "Train Epoch: 10 [28160/60000 (47%)]\tLoss: 1.965932\n",
            "Train Epoch: 10 [29440/60000 (49%)]\tLoss: 1.491511\n",
            "Train Epoch: 10 [30720/60000 (51%)]\tLoss: 1.619134\n",
            "Train Epoch: 10 [32000/60000 (53%)]\tLoss: 1.649810\n",
            "Train Epoch: 10 [33280/60000 (55%)]\tLoss: 1.281682\n",
            "Train Epoch: 10 [34560/60000 (58%)]\tLoss: 1.507607\n",
            "Train Epoch: 10 [35840/60000 (60%)]\tLoss: 1.157230\n",
            "Train Epoch: 10 [37120/60000 (62%)]\tLoss: 1.773596\n",
            "Train Epoch: 10 [38400/60000 (64%)]\tLoss: 1.198063\n",
            "Train Epoch: 10 [39680/60000 (66%)]\tLoss: 1.290834\n",
            "Train Epoch: 10 [40960/60000 (68%)]\tLoss: 0.915801\n",
            "Train Epoch: 10 [42240/60000 (70%)]\tLoss: 1.123036\n",
            "Train Epoch: 10 [43520/60000 (72%)]\tLoss: 1.247630\n",
            "Train Epoch: 10 [44800/60000 (75%)]\tLoss: 0.909294\n",
            "Train Epoch: 10 [46080/60000 (77%)]\tLoss: 1.378886\n",
            "Train Epoch: 10 [47360/60000 (79%)]\tLoss: 1.159312\n",
            "Train Epoch: 10 [48640/60000 (81%)]\tLoss: 1.389619\n",
            "Train Epoch: 10 [49920/60000 (83%)]\tLoss: 1.312339\n",
            "Train Epoch: 10 [51200/60000 (85%)]\tLoss: 1.037200\n",
            "Train Epoch: 10 [52480/60000 (87%)]\tLoss: 1.115950\n",
            "Train Epoch: 10 [53760/60000 (90%)]\tLoss: 1.412792\n",
            "Train Epoch: 10 [55040/60000 (92%)]\tLoss: 1.699280\n",
            "Train Epoch: 10 [56320/60000 (94%)]\tLoss: 1.238345\n",
            "Train Epoch: 10 [57600/60000 (96%)]\tLoss: 1.545300\n",
            "Train Epoch: 10 [58880/60000 (98%)]\tLoss: 1.184268\n",
            "\n",
            "Test set: Average loss: 0.0099, Accuracy: 7055/10000 (71%)\n",
            "\n"
          ]
        }
      ],
      "source": [
        "criterion = nn.CrossEntropyLoss()\n",
        "optimizer = optim.Adam(model.parameters(), lr=0.00001)\n",
        "\n",
        "\n",
        "max_acc = 0.0\n",
        "\n",
        "for epoch in range(1, 11):\n",
        "    train(epoch)\n",
        "    acc = test()\n",
        "\n",
        "    if acc > max_acc:\n",
        "        max_acc = acc\n",
        "        torch.save(model.state_dict(), 'mnist-100-bnn_1blk_20.pt', _use_new_zipfile_serialization=False)"
      ]
    },
    {
      "cell_type": "markdown",
      "source": [
        "Loading the saved model for the Testing."
      ],
      "metadata": {
        "id": "nVV8QdQQPqBc"
      }
    },
    {
      "cell_type": "code",
      "execution_count": null,
      "metadata": {
        "colab": {
          "base_uri": "https://localhost:8080/"
        },
        "id": "A72QrgYcvwU5",
        "outputId": "cce6b0de-2b37-40d0-c994-5adb8301b87d"
      },
      "outputs": [
        {
          "output_type": "stream",
          "name": "stdout",
          "text": [
            "\n",
            "Test set: Average loss: 0.0094, Accuracy: 7404/10000 (74%)\n",
            "\n",
            "Accuracy: tensor(74.0400)\n"
          ]
        }
      ],
      "source": [
        "# Load the model\n",
        "saved_model = BNN_1blk_20(100,10)\n",
        "saved_model.load_state_dict(torch.load('Downloads/mnist-100-bnn_1blk_20.pt'))\n",
        "saved_model.to(device)\n",
        "\n",
        "criterion = nn.CrossEntropyLoss()\n",
        "\n",
        "def saved_test():\n",
        "    saved_model.eval()\n",
        "    test_loss = 0\n",
        "    correct = 0\n",
        "    with torch.no_grad():\n",
        "        for data, target in test_loader:\n",
        "            data, target = data.to(device), target.to(device)\n",
        "            output = saved_model(data)\n",
        "            test_loss += criterion(output, target).item()\n",
        "            pred = output.data.max(1, keepdim=True)[1]\n",
        "            correct += pred.eq(target.data.view_as(pred)).cpu().sum()\n",
        "\n",
        "    test_loss /= len(test_loader.dataset)\n",
        "    accuracy = 100. * correct / len(test_loader.dataset)\n",
        "    print('\\nTest set: Average loss: {:.4f}, Accuracy: {}/{} ({:.0f}%)\\n'.format(\n",
        "        test_loss, correct, len(test_loader.dataset),\n",
        "        100. * correct / len(test_loader.dataset)))\n",
        "    return accuracy\n",
        "\n",
        "accuracy = saved_test()\n",
        "\n",
        "print(\"Accuracy:\", accuracy)"
      ]
    },
    {
      "cell_type": "markdown",
      "source": [
        "The layers in the model are the weights therein are as follows"
      ],
      "metadata": {
        "id": "m4ZrX1bjP0Oc"
      }
    },
    {
      "cell_type": "code",
      "source": [
        "print(saved_model)"
      ],
      "metadata": {
        "colab": {
          "base_uri": "https://localhost:8080/"
        },
        "id": "xAV1vbx8dFV_",
        "outputId": "e874c28a-a255-43ca-d65a-33978e265a15"
      },
      "execution_count": null,
      "outputs": [
        {
          "output_type": "stream",
          "name": "stdout",
          "text": [
            "BNN_1blk_20(\n",
            "  (fc1): BinarizeLinear(in_features=100, out_features=20, bias=True)\n",
            "  (htanh1): Hardtanh(min_val=-1.0, max_val=1.0)\n",
            "  (bn1): BatchNorm1d(20, eps=1e-05, momentum=0.1, affine=True, track_running_stats=True)\n",
            "  (fc5): BinarizeLinear(in_features=20, out_features=10, bias=True)\n",
            "  (logsoftmax): LogSoftmax(dim=None)\n",
            ")\n"
          ]
        }
      ]
    },
    {
      "cell_type": "code",
      "source": [
        "for name, param in saved_model.named_parameters():\n",
        "    if param.requires_grad:\n",
        "        print(name, param.data)"
      ],
      "metadata": {
        "colab": {
          "base_uri": "https://localhost:8080/"
        },
        "id": "LSj4iGMjdSz6",
        "outputId": "8e98727c-495c-4abe-e7ad-204097ece32c"
      },
      "execution_count": null,
      "outputs": [
        {
          "output_type": "stream",
          "name": "stdout",
          "text": [
            "fc1.weight tensor([[ 1.,  1.,  1.,  ...,  1.,  1., -1.],\n",
            "        [ 1.,  1., -1.,  ..., -1.,  1., -1.],\n",
            "        [ 1., -1., -1.,  ..., -1.,  1.,  1.],\n",
            "        ...,\n",
            "        [-1.,  1., -1.,  ...,  1., -1., -1.],\n",
            "        [ 1.,  1.,  1.,  ...,  1.,  1.,  1.],\n",
            "        [-1.,  1.,  1.,  ...,  1., -1., -1.]], device='cuda:0')\n",
            "fc1.bias tensor([-0.0299,  0.0900,  0.0887,  0.0884, -0.0492, -0.0128, -0.0329, -0.0784,\n",
            "         0.0786,  0.0753, -0.0080,  0.0761, -0.0558,  0.0801,  0.0858,  0.0917,\n",
            "        -0.0918, -0.0190, -0.0139,  0.0168], device='cuda:0')\n",
            "bn1.weight tensor([0.9282, 0.7590, 0.8276, 0.7607, 0.8061, 0.8836, 0.8078, 0.7824, 0.8439,\n",
            "        0.8248, 0.7746, 0.7700, 0.8240, 0.8366, 0.7722, 0.7947, 0.8682, 0.7893,\n",
            "        0.8686, 0.7776], device='cuda:0')\n",
            "bn1.bias tensor([-0.0050, -0.0501, -0.0254,  0.0647,  0.0260, -0.0596, -0.0893,  0.0573,\n",
            "         0.1466,  0.0191, -0.1199, -0.0625, -0.0635, -0.1298, -0.0509, -0.0059,\n",
            "         0.1297, -0.0422,  0.0920,  0.0201], device='cuda:0')\n",
            "fc5.weight tensor([[-1., -1.,  1.,  1., -1.,  1., -1.,  1., -1.,  1.,  1., -1., -1.,  1.,\n",
            "          1., -1.,  1., -1.,  1., -1.],\n",
            "        [-1.,  1., -1., -1.,  1., -1., -1., -1.,  1., -1.,  1.,  1.,  1., -1.,\n",
            "         -1., -1., -1.,  1.,  1.,  1.],\n",
            "        [-1., -1.,  1.,  1.,  1., -1., -1., -1.,  1., -1., -1., -1., -1.,  1.,\n",
            "         -1., -1., -1., -1., -1., -1.],\n",
            "        [-1.,  1.,  1.,  1., -1., -1., -1.,  1.,  1.,  1., -1., -1.,  1., -1.,\n",
            "          1., -1.,  1.,  1.,  1.,  1.],\n",
            "        [ 1., -1., -1.,  1.,  1.,  1., -1., -1., -1.,  1.,  1., -1.,  1., -1.,\n",
            "         -1.,  1.,  1., -1.,  1.,  1.],\n",
            "        [ 1., -1., -1., -1., -1., -1., -1.,  1.,  1.,  1., -1., -1., -1., -1.,\n",
            "         -1., -1.,  1., -1.,  1., -1.],\n",
            "        [-1., -1., -1., -1., -1., -1.,  1., -1., -1., -1.,  1., -1.,  1.,  1.,\n",
            "         -1.,  1.,  1., -1.,  1.,  1.],\n",
            "        [ 1.,  1.,  1., -1., -1.,  1., -1.,  1., -1., -1.,  1.,  1.,  1., -1.,\n",
            "         -1., -1.,  1.,  1.,  1.,  1.],\n",
            "        [-1.,  1.,  1.,  1.,  1., -1.,  1., -1.,  1., -1., -1., -1., -1., -1.,\n",
            "         -1.,  1.,  1., -1.,  1.,  1.],\n",
            "        [ 1., -1., -1.,  1., -1.,  1., -1.,  1., -1., -1.,  1.,  1., -1., -1.,\n",
            "         -1., -1.,  1.,  1.,  1.,  1.]], device='cuda:0')\n",
            "fc5.bias tensor([ 0.0616, -0.1074, -0.2278, -0.0086,  0.0043,  0.1150, -0.1975,  0.1160,\n",
            "         0.0098,  0.1666], device='cuda:0')\n"
          ]
        }
      ]
    },
    {
      "cell_type": "markdown",
      "source": [
        "The two weight matrices fc1 & fc5 can be visualised as follows."
      ],
      "metadata": {
        "id": "Oe_pYTzHQFfs"
      }
    },
    {
      "cell_type": "code",
      "source": [
        "# Extract the weight matrix from the self.fc1 layer\n",
        "weight_matrix = saved_model.fc1.weight.data.cpu().numpy()\n",
        "\n",
        "# Set the figure size to make the plot larger\n",
        "plt.figure(figsize=(20, 4))  # Adjust the values as needed\n",
        "\n",
        "# Plot the weight matrix\n",
        "plt.imshow(weight_matrix, cmap='coolwarm', aspect='auto')  # 'aspect' ensures proper scaling\n",
        "plt.title('Weight Matrix (20x100)')  # Corrected labels\n",
        "plt.xlabel('Input Units')  # Corrected label\n",
        "plt.ylabel('Output Units')  # Corrected label\n",
        "\n",
        "# Remove ticks from both axes\n",
        "plt.xticks([])\n",
        "plt.yticks([])\n",
        "\n",
        "plt.show()"
      ],
      "metadata": {
        "colab": {
          "base_uri": "https://localhost:8080/",
          "height": 406
        },
        "id": "cr39bpnhnGdP",
        "outputId": "5b2a8c12-2b02-4807-d4d8-ea3500b9188b"
      },
      "execution_count": null,
      "outputs": [
        {
          "output_type": "display_data",
          "data": {
            "text/plain": [
              "<Figure size 2000x400 with 1 Axes>"
            ],
            "image/png": "[encoded data removed]"
          },
          "metadata": {}
        }
      ]
    },
    {
      "cell_type": "code",
      "source": [
        "# Extract the weight matrix from the self.fc1 layer\n",
        "weight_matrix = saved_model.fc5.weight.data.cpu().numpy()\n",
        "\n",
        "# Set the figure size to make the plot larger\n",
        "plt.figure(figsize=(20, 10))  # Adjust the values as needed\n",
        "\n",
        "# Plot the weight matrix\n",
        "plt.imshow(weight_matrix, cmap='coolwarm', aspect='auto')  # 'aspect' ensures proper scaling\n",
        "plt.title('Weight Matrix (10x20)')  # Corrected labels\n",
        "plt.xlabel('Input Units')  # Corrected label\n",
        "plt.ylabel('Output Units')  # Corrected label\n",
        "\n",
        "# Remove ticks from both axes\n",
        "plt.xticks([])\n",
        "plt.yticks([])\n",
        "\n",
        "plt.show()"
      ],
      "metadata": {
        "colab": {
          "base_uri": "https://localhost:8080/",
          "height": 713
        },
        "id": "QqY2XcnSoDw0",
        "outputId": "91d113ae-fb86-42b8-f2e7-3ed63bf8dca1"
      },
      "execution_count": null,
      "outputs": [
        {
          "output_type": "display_data",
          "data": {
            "text/plain": [
              "<Figure size 2000x1000 with 1 Axes>"
            ],
            "image/png": "[encoded data removed]"
          },
          "metadata": {}
        }
      ]
    },
    {
      "cell_type": "markdown",
      "source": [
        "The BNN defined above has a single block that includes fc1, bn1, tanh1.\n",
        "\n",
        "This is then followed by the output block with fc5 & softmax.\n",
        "\n",
        "The inputs to & the outputs from the block are binarised & can hence be encoded as CNF formulas.\n",
        "\n",
        "I have used an availabe tool, [NPAQ](https://www.google.com/url?sa=t&rct=j&q=&esrc=s&source=web&cd=&cad=rja&uact=8&ved=2ahUKEwjw9sPCgLqCAxUUrVYBHSBBCAMQFnoECAoQAQ&url=https%3A%2F%2Fgithub.com%2Fteobaluta%2FNPAQ&usg=AOvVaw2nCo_P_isYRPC5LD4feVF7&opi=89978449) to convert the above trained pytorch model of a BNN into its corresponding CNF formula.\n",
        "\n",
        "NPAQ has some specific environment/OS requiremnenst, hence was done locally.\n",
        "\n",
        "The trained pytorch model for above model definition is & The generated CNF formula for the same is included in the supplemenatry material.\n",
        "\n",
        "The CNF formulas generated for a small BNN above has\n",
        "\n",
        "p cnf 61405 115888\n",
        "\n",
        "variables & clauses, hence i went with a simpler network for demonstration.\n",
        "\n"
      ],
      "metadata": {
        "id": "kWmCNm2BXCQh"
      }
    },
    {
      "cell_type": "markdown",
      "source": [
        "While the trained Pytorch model is aroung 75% accurate at classifying MNIST digits, it is of interest to know if the model is aware of what differnt digits in the MNIST dataset looklike.\n",
        "\n",
        "Network Inversion can provide us access to the input space of the model for a given output label. To perform inversion we append additional clauses to the above CNF formula that constraint the output to take a particular value.\n",
        "\n",
        "After doing so we look for Satisfying assignmnets for the CNF Formula and using the satisying assignmnets for the inputs we can now recnstruct the inputs that will have the same label as it was restricted to above.\n",
        "\n",
        "To get better idea of the input space the for a particular output label, we uniformly sample from the input space using [cmsgen](https://www.google.com/url?sa=t&rct=j&q=&esrc=s&source=web&cd=&cad=rja&uact=8&ved=2ahUKEwiRg__XlbuCAxXLp1YBHYUYDx0QFnoECBAQAQ&url=https%3A%2F%2Fgithub.com%2Fmeelgroup%2Fcmsgen&usg=AOvVaw3nh6pCiLPmCMo1RvioYQaa&opi=89978449), an almost uniform sampler that allows us to visualsie the entire input space.\n",
        "\n",
        "Using the satisfying assignments of CNF formula for different output labels constraints, we can reconstruct the ipnut images for each of the labels."
      ],
      "metadata": {
        "id": "c3lG0T2XvMv5"
      }
    },
    {
      "cell_type": "markdown",
      "source": [
        "The reconstructed images for the differnet output labels are also part of the supplementary material and visualised below for labels from 0 to 9 respectively.\n"
      ],
      "metadata": {
        "id": "pOfCytCfxIGy"
      }
    },
    {
      "cell_type": "code",
      "source": [
        "def visualize_images(image_folder):\n",
        "    # Get a list of image file names in the folder\n",
        "    image_files = [f for f in os.listdir(image_folder) if f.endswith('.png')]\n",
        "\n",
        "    # Take the first 5 images for visualization (adjust as needed)\n",
        "    selected_images = image_files[:5]\n",
        "\n",
        "    # Create a 1x5 subplot for visualization\n",
        "    fig, axes = plt.subplots(1, 5, figsize=(15, 3))\n",
        "\n",
        "    # Load and display the selected images in the subplot\n",
        "    for i, image_file in enumerate(selected_images):\n",
        "        image_path = os.path.join(image_folder, image_file)\n",
        "        image = cv2.imread(image_path)\n",
        "        axes[i].imshow(cv2.cvtColor(image, cv2.COLOR_BGR2RGB))\n",
        "        axes[i].set_title(f'Image {i+1}')\n",
        "        axes[i].axis('off')\n",
        "\n",
        "    # Adjust spacing between subplots for clarity\n",
        "    plt.tight_layout()\n",
        "\n",
        "    # Show the visualization\n",
        "    plt.show()"
      ],
      "metadata": {
        "id": "7SCb-zxeetUn"
      },
      "execution_count": null,
      "outputs": []
    },
    {
      "cell_type": "code",
      "source": [
        "image_folder_path = 'Downloads/Images/Images0'\n",
        "visualize_images(image_folder_path)"
      ],
      "metadata": {
        "colab": {
          "base_uri": "https://localhost:8080/",
          "height": 293
        },
        "id": "WITm1zo2glJc",
        "outputId": "0cc66828-6f4f-40da-e0f4-3e8a15786178"
      },
      "execution_count": null,
      "outputs": [
        {
          "output_type": "display_data",
          "data": {
            "text/plain": [
              "<Figure size 1500x300 with 5 Axes>"
            ],
            "image/png": "[encoded data removed]"
          },
          "metadata": {}
        }
      ]
    },
    {
      "cell_type": "code",
      "source": [
        "image_folder_path = 'Downloads/Images/Images1'\n",
        "visualize_images(image_folder_path)"
      ],
      "metadata": {
        "colab": {
          "base_uri": "https://localhost:8080/",
          "height": 293
        },
        "id": "iwucyOjZgn0w",
        "outputId": "c8d1929c-a661-4b74-a6f1-4d6f7265b45a"
      },
      "execution_count": null,
      "outputs": [
        {
          "output_type": "display_data",
          "data": {
            "text/plain": [
              "<Figure size 1500x300 with 5 Axes>"
            ],
            "image/png": "[encoded data removed]"
          },
          "metadata": {}
        }
      ]
    },
    {
      "cell_type": "code",
      "source": [
        "image_folder_path = 'Downloads/Images/Images2'\n",
        "visualize_images(image_folder_path)"
      ],
      "metadata": {
        "colab": {
          "base_uri": "https://localhost:8080/",
          "height": 293
        },
        "id": "3Bl8o7fxgsHz",
        "outputId": "2b727e9f-1c66-424e-c722-f65ddb794360"
      },
      "execution_count": null,
      "outputs": [
        {
          "output_type": "display_data",
          "data": {
            "text/plain": [
              "<Figure size 1500x300 with 5 Axes>"
            ],
            "image/png": "[encoded data removed]"
          },
          "metadata": {}
        }
      ]
    },
    {
      "cell_type": "code",
      "source": [
        "image_folder_path = 'Downloads/Images/Images3'\n",
        "visualize_images(image_folder_path)"
      ],
      "metadata": {
        "colab": {
          "base_uri": "https://localhost:8080/",
          "height": 293
        },
        "id": "YERQcD1zgu0D",
        "outputId": "d9cc0bf1-e182-4244-c2b5-0aaace8e30f5"
      },
      "execution_count": null,
      "outputs": [
        {
          "output_type": "display_data",
          "data": {
            "text/plain": [
              "<Figure size 1500x300 with 5 Axes>"
            ],
            "image/png": "[encoded data removed]"
          },
          "metadata": {}
        }
      ]
    },
    {
      "cell_type": "code",
      "source": [
        "image_folder_path = 'Downloads/Images/Images4'\n",
        "visualize_images(image_folder_path)"
      ],
      "metadata": {
        "colab": {
          "base_uri": "https://localhost:8080/",
          "height": 293
        },
        "id": "DOVHzxmKgxaq",
        "outputId": "ad8f6609-42bf-4b84-d5b9-498a8675923c"
      },
      "execution_count": null,
      "outputs": [
        {
          "output_type": "display_data",
          "data": {
            "text/plain": [
              "<Figure size 1500x300 with 5 Axes>"
            ],
            "image/png": "[encoded data removed]"
          },
          "metadata": {}
        }
      ]
    },
    {
      "cell_type": "code",
      "source": [
        "image_folder_path = 'Downloads/Images/Images5'\n",
        "visualize_images(image_folder_path)"
      ],
      "metadata": {
        "colab": {
          "base_uri": "https://localhost:8080/",
          "height": 293
        },
        "id": "lFjF6-Zigzfd",
        "outputId": "ffd1c055-a4e7-4f9d-966e-611b18fdf069"
      },
      "execution_count": null,
      "outputs": [
        {
          "output_type": "display_data",
          "data": {
            "text/plain": [
              "<Figure size 1500x300 with 5 Axes>"
            ],
            "image/png": "[encoded data removed]"
          },
          "metadata": {}
        }
      ]
    },
    {
      "cell_type": "code",
      "source": [
        "image_folder_path = 'Downloads/Images/Images6'\n",
        "visualize_images(image_folder_path)"
      ],
      "metadata": {
        "colab": {
          "base_uri": "https://localhost:8080/",
          "height": 293
        },
        "id": "jFmZ0yeHg1X-",
        "outputId": "38dfae68-2aa5-481e-a733-dd8801fee2e3"
      },
      "execution_count": null,
      "outputs": [
        {
          "output_type": "display_data",
          "data": {
            "text/plain": [
              "<Figure size 1500x300 with 5 Axes>"
            ],
            "image/png": "[encoded data removed]"
          },
          "metadata": {}
        }
      ]
    },
    {
      "cell_type": "code",
      "source": [
        "image_folder_path = 'Downloads/Images/Images7'\n",
        "visualize_images(image_folder_path)"
      ],
      "metadata": {
        "colab": {
          "base_uri": "https://localhost:8080/",
          "height": 293
        },
        "id": "ZyfvGYSZg3Je",
        "outputId": "adb2bf0f-89c7-41d6-e655-ce2b82086e43"
      },
      "execution_count": null,
      "outputs": [
        {
          "output_type": "display_data",
          "data": {
            "text/plain": [
              "<Figure size 1500x300 with 5 Axes>"
            ],
            "image/png": "[encoded data removed]"
          },
          "metadata": {}
        }
      ]
    },
    {
      "cell_type": "code",
      "source": [
        "image_folder_path = 'Downloads/Images/Images8'\n",
        "visualize_images(image_folder_path)"
      ],
      "metadata": {
        "colab": {
          "base_uri": "https://localhost:8080/",
          "height": 293
        },
        "id": "MbouYPILg6JZ",
        "outputId": "1372d0ce-49f8-4890-9c02-c437887be832"
      },
      "execution_count": null,
      "outputs": [
        {
          "output_type": "display_data",
          "data": {
            "text/plain": [
              "<Figure size 1500x300 with 5 Axes>"
            ],
            "image/png": "[encoded data removed]"
          },
          "metadata": {}
        }
      ]
    },
    {
      "cell_type": "code",
      "source": [
        "image_folder_path = 'Downloads/Images/Images9'\n",
        "visualize_images(image_folder_path)"
      ],
      "metadata": {
        "colab": {
          "base_uri": "https://localhost:8080/",
          "height": 293
        },
        "id": "VAvKVIlgg87P",
        "outputId": "e3b28f8c-fced-40fc-cc8e-77f0e0162434"
      },
      "execution_count": null,
      "outputs": [
        {
          "output_type": "display_data",
          "data": {
            "text/plain": [
              "<Figure size 1500x300 with 5 Axes>"
            ],
            "image/png": "[encoded data removed]"
          },
          "metadata": {}
        }
      ]
    },
    {
      "cell_type": "markdown",
      "source": [
        "Now to verify that the reconstrucetd images indeed haev the same output label, the imaegs are forward passed through the saved pytorch model after going through the same normalisation, resize transformation.\n"
      ],
      "metadata": {
        "id": "UrZFzFDIxowb"
      }
    },
    {
      "cell_type": "code",
      "execution_count": null,
      "metadata": {
        "id": "l13uS-oia3ZZ"
      },
      "outputs": [],
      "source": [
        "from PIL import Image\n",
        "import os\n",
        "saved_model.eval()\n",
        "saved_transform = transforms.Compose([\n",
        "    transforms.ToTensor(),  # Convert the image to a tensor\n",
        "    transforms.Normalize((0.1307,), (0.3081,)),\n",
        "])\n",
        "\n",
        "def get_prediction(image_path):\n",
        "    image = Image.open(image_path)  # Open the image using PIL\n",
        "    image = saved_transform(image)  # Apply transformations to the image\n",
        "    image = image.unsqueeze(0)  # Add a batch dimension to the image\n",
        "    image = image.to(device)\n",
        "    with torch.no_grad():\n",
        "        output = saved_model(image)  # Perform the forward pass\n",
        "        _, predicted = torch.max(output, 1)  # Get the index of the predicted class\n",
        "\n",
        "    return predicted.item()  # Return the predicted label as an integer"
      ]
    },
    {
      "cell_type": "code",
      "execution_count": null,
      "metadata": {
        "colab": {
          "base_uri": "https://localhost:8080/"
        },
        "id": "fyxGrPgavXyT",
        "outputId": "d7887289-63ff-4394-fc58-dd19480fef83"
      },
      "outputs": [
        {
          "output_type": "stream",
          "name": "stdout",
          "text": [
            "Image: image1.png, Predicted Label: 0\n",
            "Image: image2.png, Predicted Label: 0\n",
            "Image: image3.png, Predicted Label: 0\n",
            "Image: image4.png, Predicted Label: 0\n",
            "Image: image5.png, Predicted Label: 0\n",
            "Image: image6.png, Predicted Label: 0\n",
            "Image: image7.png, Predicted Label: 0\n",
            "Image: image8.png, Predicted Label: 0\n",
            "Image: image9.png, Predicted Label: 0\n",
            "Image: image10.png, Predicted Label: 0\n",
            "Image: image11.png, Predicted Label: 0\n",
            "Image: image12.png, Predicted Label: 0\n",
            "Image: image13.png, Predicted Label: 0\n",
            "Image: image14.png, Predicted Label: 0\n",
            "Image: image15.png, Predicted Label: 0\n",
            "Image: image16.png, Predicted Label: 0\n",
            "Image: image17.png, Predicted Label: 0\n",
            "Image: image18.png, Predicted Label: 0\n",
            "Image: image19.png, Predicted Label: 0\n",
            "Image: image20.png, Predicted Label: 0\n",
            "Image: image21.png, Predicted Label: 0\n",
            "Image: image22.png, Predicted Label: 0\n",
            "Image: image23.png, Predicted Label: 0\n",
            "Image: image24.png, Predicted Label: 0\n",
            "Image: image25.png, Predicted Label: 0\n",
            "Image: image26.png, Predicted Label: 0\n",
            "Image: image27.png, Predicted Label: 0\n",
            "Image: image28.png, Predicted Label: 0\n",
            "Image: image29.png, Predicted Label: 0\n",
            "Image: image30.png, Predicted Label: 0\n",
            "Image: image31.png, Predicted Label: 0\n",
            "Image: image32.png, Predicted Label: 0\n",
            "Image: image33.png, Predicted Label: 0\n",
            "Image: image34.png, Predicted Label: 0\n",
            "Image: image35.png, Predicted Label: 0\n",
            "Image: image36.png, Predicted Label: 0\n",
            "Image: image37.png, Predicted Label: 0\n",
            "Image: image38.png, Predicted Label: 0\n",
            "Image: image39.png, Predicted Label: 0\n",
            "Image: image40.png, Predicted Label: 0\n",
            "Image: image41.png, Predicted Label: 0\n",
            "Image: image42.png, Predicted Label: 0\n",
            "Image: image43.png, Predicted Label: 0\n",
            "Image: image44.png, Predicted Label: 0\n",
            "Image: image45.png, Predicted Label: 0\n",
            "Image: image46.png, Predicted Label: 0\n",
            "Image: image47.png, Predicted Label: 0\n",
            "Image: image48.png, Predicted Label: 0\n",
            "Image: image49.png, Predicted Label: 0\n",
            "Image: image50.png, Predicted Label: 0\n",
            "Image: image51.png, Predicted Label: 0\n",
            "Image: image52.png, Predicted Label: 0\n",
            "Image: image53.png, Predicted Label: 0\n",
            "Image: image54.png, Predicted Label: 0\n",
            "Image: image55.png, Predicted Label: 0\n",
            "Image: image56.png, Predicted Label: 0\n",
            "Image: image57.png, Predicted Label: 0\n",
            "Image: image58.png, Predicted Label: 0\n",
            "Image: image59.png, Predicted Label: 0\n",
            "Image: image60.png, Predicted Label: 0\n",
            "Image: image61.png, Predicted Label: 0\n",
            "Image: image62.png, Predicted Label: 0\n",
            "Image: image63.png, Predicted Label: 0\n",
            "Image: image64.png, Predicted Label: 0\n",
            "Image: image65.png, Predicted Label: 0\n",
            "Image: image66.png, Predicted Label: 0\n",
            "Image: image67.png, Predicted Label: 0\n",
            "Image: image68.png, Predicted Label: 0\n",
            "Image: image69.png, Predicted Label: 0\n",
            "Image: image70.png, Predicted Label: 0\n",
            "Image: image71.png, Predicted Label: 0\n",
            "Image: image72.png, Predicted Label: 0\n",
            "Image: image73.png, Predicted Label: 0\n",
            "Image: image74.png, Predicted Label: 0\n",
            "Image: image75.png, Predicted Label: 0\n",
            "Image: image76.png, Predicted Label: 0\n",
            "Image: image77.png, Predicted Label: 0\n",
            "Image: image78.png, Predicted Label: 0\n",
            "Image: image79.png, Predicted Label: 0\n",
            "Image: image80.png, Predicted Label: 0\n",
            "Image: image81.png, Predicted Label: 0\n",
            "Image: image82.png, Predicted Label: 0\n",
            "Image: image83.png, Predicted Label: 0\n",
            "Image: image84.png, Predicted Label: 0\n",
            "Image: image85.png, Predicted Label: 0\n",
            "Image: image86.png, Predicted Label: 0\n",
            "Image: image87.png, Predicted Label: 0\n",
            "Image: image88.png, Predicted Label: 0\n",
            "Image: image89.png, Predicted Label: 0\n",
            "Image: image90.png, Predicted Label: 0\n",
            "Image: image91.png, Predicted Label: 0\n",
            "Image: image92.png, Predicted Label: 0\n",
            "Image: image93.png, Predicted Label: 0\n",
            "Image: image94.png, Predicted Label: 0\n",
            "Image: image95.png, Predicted Label: 0\n",
            "Image: image96.png, Predicted Label: 0\n",
            "Image: image97.png, Predicted Label: 0\n",
            "Image: image98.png, Predicted Label: 0\n",
            "Image: image99.png, Predicted Label: 0\n",
            "Image: image100.png, Predicted Label: 0\n"
          ]
        }
      ],
      "source": [
        "folder_path = '/content/drive/MyDrive/Images/Images_0'  # Path to the folder containing the images\n",
        "\n",
        "for i in range(1, 101):\n",
        "    image_name = f\"image{i}.png\"\n",
        "    image_path = os.path.join(folder_path, image_name)\n",
        "    predicted_label = get_prediction(image_path)\n",
        "    print(f\"Image: {image_name}, Predicted Label: {predicted_label}\")"
      ]
    },
    {
      "cell_type": "code",
      "execution_count": null,
      "metadata": {
        "colab": {
          "base_uri": "https://localhost:8080/"
        },
        "id": "wHOlJmhh9d3A",
        "outputId": "16aa63f2-b957-4e28-fefe-6f109b1b3f42"
      },
      "outputs": [
        {
          "output_type": "stream",
          "name": "stderr",
          "text": [
            "<ipython-input-10-0129fb38037d>:27: UserWarning: Implicit dimension choice for log_softmax has been deprecated. Change the call to include dim=X as an argument.\n",
            "  return self.logsoftmax(x)\n"
          ]
        },
        {
          "output_type": "stream",
          "name": "stdout",
          "text": [
            "Image: image1.png, Predicted Label: 1\n",
            "Image: image2.png, Predicted Label: 1\n",
            "Image: image3.png, Predicted Label: 1\n",
            "Image: image4.png, Predicted Label: 1\n",
            "Image: image5.png, Predicted Label: 1\n",
            "Image: image6.png, Predicted Label: 1\n",
            "Image: image7.png, Predicted Label: 1\n",
            "Image: image8.png, Predicted Label: 1\n",
            "Image: image9.png, Predicted Label: 1\n",
            "Image: image10.png, Predicted Label: 1\n",
            "Image: image11.png, Predicted Label: 1\n",
            "Image: image12.png, Predicted Label: 1\n",
            "Image: image13.png, Predicted Label: 1\n",
            "Image: image14.png, Predicted Label: 1\n",
            "Image: image15.png, Predicted Label: 1\n",
            "Image: image16.png, Predicted Label: 1\n",
            "Image: image17.png, Predicted Label: 1\n",
            "Image: image18.png, Predicted Label: 1\n",
            "Image: image19.png, Predicted Label: 1\n",
            "Image: image20.png, Predicted Label: 1\n",
            "Image: image21.png, Predicted Label: 1\n",
            "Image: image22.png, Predicted Label: 1\n",
            "Image: image23.png, Predicted Label: 1\n",
            "Image: image24.png, Predicted Label: 1\n",
            "Image: image25.png, Predicted Label: 1\n",
            "Image: image26.png, Predicted Label: 1\n",
            "Image: image27.png, Predicted Label: 1\n",
            "Image: image28.png, Predicted Label: 1\n",
            "Image: image29.png, Predicted Label: 1\n",
            "Image: image30.png, Predicted Label: 1\n",
            "Image: image31.png, Predicted Label: 1\n",
            "Image: image32.png, Predicted Label: 1\n",
            "Image: image33.png, Predicted Label: 1\n",
            "Image: image34.png, Predicted Label: 1\n",
            "Image: image35.png, Predicted Label: 1\n",
            "Image: image36.png, Predicted Label: 1\n",
            "Image: image37.png, Predicted Label: 1\n",
            "Image: image38.png, Predicted Label: 1\n",
            "Image: image39.png, Predicted Label: 1\n",
            "Image: image40.png, Predicted Label: 1\n",
            "Image: image41.png, Predicted Label: 1\n",
            "Image: image42.png, Predicted Label: 1\n",
            "Image: image43.png, Predicted Label: 1\n",
            "Image: image44.png, Predicted Label: 1\n",
            "Image: image45.png, Predicted Label: 1\n",
            "Image: image46.png, Predicted Label: 1\n",
            "Image: image47.png, Predicted Label: 1\n",
            "Image: image48.png, Predicted Label: 1\n",
            "Image: image49.png, Predicted Label: 1\n",
            "Image: image50.png, Predicted Label: 1\n",
            "Image: image51.png, Predicted Label: 1\n",
            "Image: image52.png, Predicted Label: 1\n",
            "Image: image53.png, Predicted Label: 1\n",
            "Image: image54.png, Predicted Label: 1\n",
            "Image: image55.png, Predicted Label: 1\n",
            "Image: image56.png, Predicted Label: 1\n",
            "Image: image57.png, Predicted Label: 1\n",
            "Image: image58.png, Predicted Label: 1\n",
            "Image: image59.png, Predicted Label: 1\n",
            "Image: image60.png, Predicted Label: 1\n",
            "Image: image61.png, Predicted Label: 1\n",
            "Image: image62.png, Predicted Label: 1\n",
            "Image: image63.png, Predicted Label: 1\n",
            "Image: image64.png, Predicted Label: 1\n",
            "Image: image65.png, Predicted Label: 1\n",
            "Image: image66.png, Predicted Label: 1\n",
            "Image: image67.png, Predicted Label: 1\n",
            "Image: image68.png, Predicted Label: 1\n",
            "Image: image69.png, Predicted Label: 1\n",
            "Image: image70.png, Predicted Label: 1\n",
            "Image: image71.png, Predicted Label: 1\n",
            "Image: image72.png, Predicted Label: 1\n",
            "Image: image73.png, Predicted Label: 1\n",
            "Image: image74.png, Predicted Label: 1\n",
            "Image: image75.png, Predicted Label: 1\n",
            "Image: image76.png, Predicted Label: 1\n",
            "Image: image77.png, Predicted Label: 1\n",
            "Image: image78.png, Predicted Label: 1\n",
            "Image: image79.png, Predicted Label: 1\n",
            "Image: image80.png, Predicted Label: 1\n",
            "Image: image81.png, Predicted Label: 1\n",
            "Image: image82.png, Predicted Label: 1\n",
            "Image: image83.png, Predicted Label: 1\n",
            "Image: image84.png, Predicted Label: 1\n",
            "Image: image85.png, Predicted Label: 1\n",
            "Image: image86.png, Predicted Label: 1\n",
            "Image: image87.png, Predicted Label: 1\n",
            "Image: image88.png, Predicted Label: 1\n",
            "Image: image89.png, Predicted Label: 1\n",
            "Image: image90.png, Predicted Label: 1\n",
            "Image: image91.png, Predicted Label: 1\n",
            "Image: image92.png, Predicted Label: 1\n",
            "Image: image93.png, Predicted Label: 1\n",
            "Image: image94.png, Predicted Label: 1\n",
            "Image: image95.png, Predicted Label: 1\n",
            "Image: image96.png, Predicted Label: 1\n",
            "Image: image97.png, Predicted Label: 1\n",
            "Image: image98.png, Predicted Label: 1\n",
            "Image: image99.png, Predicted Label: 1\n",
            "Image: image100.png, Predicted Label: 1\n"
          ]
        }
      ],
      "source": [
        "folder_path = '/content/drive/MyDrive/Images/Images_1'  # Path to the folder containing the images\n",
        "\n",
        "for i in range(1, 101):\n",
        "    image_name = f\"image{i}.png\"\n",
        "    image_path = os.path.join(folder_path, image_name)\n",
        "    predicted_label = get_prediction(image_path)\n",
        "    print(f\"Image: {image_name}, Predicted Label: {predicted_label}\")"
      ]
    },
    {
      "cell_type": "code",
      "execution_count": null,
      "metadata": {
        "colab": {
          "base_uri": "https://localhost:8080/"
        },
        "id": "HZJ4LD63wcZJ",
        "outputId": "0193b1fe-d34c-4b00-c759-5d01b6d78b90"
      },
      "outputs": [
        {
          "output_type": "stream",
          "name": "stderr",
          "text": [
            "<ipython-input-10-0129fb38037d>:27: UserWarning: Implicit dimension choice for log_softmax has been deprecated. Change the call to include dim=X as an argument.\n",
            "  return self.logsoftmax(x)\n"
          ]
        },
        {
          "output_type": "stream",
          "name": "stdout",
          "text": [
            "Image: image1.png, Predicted Label: 2\n",
            "Image: image2.png, Predicted Label: 2\n",
            "Image: image3.png, Predicted Label: 2\n",
            "Image: image4.png, Predicted Label: 2\n",
            "Image: image5.png, Predicted Label: 2\n",
            "Image: image6.png, Predicted Label: 2\n",
            "Image: image7.png, Predicted Label: 2\n",
            "Image: image8.png, Predicted Label: 2\n",
            "Image: image9.png, Predicted Label: 2\n",
            "Image: image10.png, Predicted Label: 2\n",
            "Image: image11.png, Predicted Label: 2\n",
            "Image: image12.png, Predicted Label: 2\n",
            "Image: image13.png, Predicted Label: 2\n",
            "Image: image14.png, Predicted Label: 2\n",
            "Image: image15.png, Predicted Label: 2\n",
            "Image: image16.png, Predicted Label: 2\n",
            "Image: image17.png, Predicted Label: 2\n",
            "Image: image18.png, Predicted Label: 2\n",
            "Image: image19.png, Predicted Label: 2\n",
            "Image: image20.png, Predicted Label: 2\n",
            "Image: image21.png, Predicted Label: 2\n",
            "Image: image22.png, Predicted Label: 2\n",
            "Image: image23.png, Predicted Label: 2\n",
            "Image: image24.png, Predicted Label: 2\n",
            "Image: image25.png, Predicted Label: 2\n",
            "Image: image26.png, Predicted Label: 2\n",
            "Image: image27.png, Predicted Label: 2\n",
            "Image: image28.png, Predicted Label: 2\n",
            "Image: image29.png, Predicted Label: 2\n",
            "Image: image30.png, Predicted Label: 2\n"
          ]
        }
      ],
      "source": [
        "folder_path = '/content/drive/MyDrive/Images/Images_2'  # Path to the folder containing the images\n",
        "\n",
        "for i in range(1, 31):\n",
        "    image_name = f\"image{i}.png\"\n",
        "    image_path = os.path.join(folder_path, image_name)\n",
        "    predicted_label = get_prediction(image_path)\n",
        "    print(f\"Image: {image_name}, Predicted Label: {predicted_label}\")"
      ]
    },
    {
      "cell_type": "code",
      "execution_count": null,
      "metadata": {
        "colab": {
          "base_uri": "https://localhost:8080/"
        },
        "id": "IM8sDGAlEAVh",
        "outputId": "da209ae7-04ea-4a90-9a42-c7e874634317"
      },
      "outputs": [
        {
          "output_type": "stream",
          "name": "stderr",
          "text": [
            "<ipython-input-10-0129fb38037d>:27: UserWarning: Implicit dimension choice for log_softmax has been deprecated. Change the call to include dim=X as an argument.\n",
            "  return self.logsoftmax(x)\n"
          ]
        },
        {
          "output_type": "stream",
          "name": "stdout",
          "text": [
            "Image: image1.png, Predicted Label: 3\n",
            "Image: image2.png, Predicted Label: 3\n",
            "Image: image3.png, Predicted Label: 3\n",
            "Image: image4.png, Predicted Label: 3\n",
            "Image: image5.png, Predicted Label: 3\n",
            "Image: image6.png, Predicted Label: 3\n",
            "Image: image7.png, Predicted Label: 3\n",
            "Image: image8.png, Predicted Label: 3\n",
            "Image: image9.png, Predicted Label: 3\n",
            "Image: image10.png, Predicted Label: 3\n",
            "Image: image11.png, Predicted Label: 3\n",
            "Image: image12.png, Predicted Label: 3\n",
            "Image: image13.png, Predicted Label: 3\n",
            "Image: image14.png, Predicted Label: 3\n",
            "Image: image15.png, Predicted Label: 3\n",
            "Image: image16.png, Predicted Label: 3\n",
            "Image: image17.png, Predicted Label: 3\n",
            "Image: image18.png, Predicted Label: 3\n",
            "Image: image19.png, Predicted Label: 3\n",
            "Image: image20.png, Predicted Label: 3\n",
            "Image: image21.png, Predicted Label: 3\n",
            "Image: image22.png, Predicted Label: 3\n",
            "Image: image23.png, Predicted Label: 3\n",
            "Image: image24.png, Predicted Label: 3\n",
            "Image: image25.png, Predicted Label: 3\n",
            "Image: image26.png, Predicted Label: 3\n",
            "Image: image27.png, Predicted Label: 3\n",
            "Image: image28.png, Predicted Label: 3\n",
            "Image: image29.png, Predicted Label: 3\n",
            "Image: image30.png, Predicted Label: 3\n",
            "Image: image31.png, Predicted Label: 3\n",
            "Image: image32.png, Predicted Label: 3\n",
            "Image: image33.png, Predicted Label: 3\n",
            "Image: image34.png, Predicted Label: 3\n",
            "Image: image35.png, Predicted Label: 3\n",
            "Image: image36.png, Predicted Label: 3\n",
            "Image: image37.png, Predicted Label: 3\n",
            "Image: image38.png, Predicted Label: 3\n",
            "Image: image39.png, Predicted Label: 3\n",
            "Image: image40.png, Predicted Label: 3\n",
            "Image: image41.png, Predicted Label: 3\n",
            "Image: image42.png, Predicted Label: 3\n",
            "Image: image43.png, Predicted Label: 3\n",
            "Image: image44.png, Predicted Label: 3\n",
            "Image: image45.png, Predicted Label: 3\n",
            "Image: image46.png, Predicted Label: 3\n",
            "Image: image47.png, Predicted Label: 3\n",
            "Image: image48.png, Predicted Label: 3\n",
            "Image: image49.png, Predicted Label: 3\n",
            "Image: image50.png, Predicted Label: 3\n",
            "Image: image51.png, Predicted Label: 3\n",
            "Image: image52.png, Predicted Label: 3\n",
            "Image: image53.png, Predicted Label: 3\n",
            "Image: image54.png, Predicted Label: 3\n",
            "Image: image55.png, Predicted Label: 3\n",
            "Image: image56.png, Predicted Label: 3\n",
            "Image: image57.png, Predicted Label: 3\n",
            "Image: image58.png, Predicted Label: 3\n",
            "Image: image59.png, Predicted Label: 3\n",
            "Image: image60.png, Predicted Label: 3\n",
            "Image: image61.png, Predicted Label: 3\n",
            "Image: image62.png, Predicted Label: 3\n",
            "Image: image63.png, Predicted Label: 3\n",
            "Image: image64.png, Predicted Label: 3\n",
            "Image: image65.png, Predicted Label: 3\n",
            "Image: image66.png, Predicted Label: 3\n",
            "Image: image67.png, Predicted Label: 3\n",
            "Image: image68.png, Predicted Label: 3\n",
            "Image: image69.png, Predicted Label: 3\n",
            "Image: image70.png, Predicted Label: 3\n",
            "Image: image71.png, Predicted Label: 3\n",
            "Image: image72.png, Predicted Label: 3\n",
            "Image: image73.png, Predicted Label: 3\n",
            "Image: image74.png, Predicted Label: 3\n",
            "Image: image75.png, Predicted Label: 3\n",
            "Image: image76.png, Predicted Label: 3\n",
            "Image: image77.png, Predicted Label: 3\n",
            "Image: image78.png, Predicted Label: 3\n",
            "Image: image79.png, Predicted Label: 3\n",
            "Image: image80.png, Predicted Label: 3\n",
            "Image: image81.png, Predicted Label: 3\n",
            "Image: image82.png, Predicted Label: 3\n",
            "Image: image83.png, Predicted Label: 3\n",
            "Image: image84.png, Predicted Label: 3\n",
            "Image: image85.png, Predicted Label: 3\n",
            "Image: image86.png, Predicted Label: 3\n",
            "Image: image87.png, Predicted Label: 3\n",
            "Image: image88.png, Predicted Label: 3\n",
            "Image: image89.png, Predicted Label: 3\n",
            "Image: image90.png, Predicted Label: 3\n",
            "Image: image91.png, Predicted Label: 3\n",
            "Image: image92.png, Predicted Label: 3\n",
            "Image: image93.png, Predicted Label: 3\n",
            "Image: image94.png, Predicted Label: 3\n",
            "Image: image95.png, Predicted Label: 3\n",
            "Image: image96.png, Predicted Label: 3\n",
            "Image: image97.png, Predicted Label: 3\n",
            "Image: image98.png, Predicted Label: 3\n",
            "Image: image99.png, Predicted Label: 3\n",
            "Image: image100.png, Predicted Label: 3\n"
          ]
        }
      ],
      "source": [
        "folder_path = '/content/drive/MyDrive/Images/Images_3'  # Path to the folder containing the images\n",
        "\n",
        "for i in range(1, 101):\n",
        "    image_name = f\"image{i}.png\"\n",
        "    image_path = os.path.join(folder_path, image_name)\n",
        "    predicted_label = get_prediction(image_path)\n",
        "    print(f\"Image: {image_name}, Predicted Label: {predicted_label}\")"
      ]
    },
    {
      "cell_type": "code",
      "execution_count": null,
      "metadata": {
        "colab": {
          "base_uri": "https://localhost:8080/"
        },
        "id": "x-3cbvgNB_rC",
        "outputId": "2f9ac23a-1e66-4ed1-8df5-c952aff27189"
      },
      "outputs": [
        {
          "output_type": "stream",
          "name": "stderr",
          "text": [
            "<ipython-input-10-0129fb38037d>:27: UserWarning: Implicit dimension choice for log_softmax has been deprecated. Change the call to include dim=X as an argument.\n",
            "  return self.logsoftmax(x)\n"
          ]
        },
        {
          "output_type": "stream",
          "name": "stdout",
          "text": [
            "Image: image1.png, Predicted Label: 4\n",
            "Image: image2.png, Predicted Label: 4\n",
            "Image: image3.png, Predicted Label: 4\n",
            "Image: image4.png, Predicted Label: 4\n",
            "Image: image5.png, Predicted Label: 4\n",
            "Image: image6.png, Predicted Label: 4\n",
            "Image: image7.png, Predicted Label: 4\n",
            "Image: image8.png, Predicted Label: 4\n",
            "Image: image9.png, Predicted Label: 4\n",
            "Image: image10.png, Predicted Label: 4\n",
            "Image: image11.png, Predicted Label: 4\n",
            "Image: image12.png, Predicted Label: 4\n",
            "Image: image13.png, Predicted Label: 4\n",
            "Image: image14.png, Predicted Label: 4\n",
            "Image: image15.png, Predicted Label: 4\n",
            "Image: image16.png, Predicted Label: 4\n",
            "Image: image17.png, Predicted Label: 4\n",
            "Image: image18.png, Predicted Label: 4\n",
            "Image: image19.png, Predicted Label: 4\n",
            "Image: image20.png, Predicted Label: 4\n",
            "Image: image21.png, Predicted Label: 4\n",
            "Image: image22.png, Predicted Label: 4\n",
            "Image: image23.png, Predicted Label: 4\n",
            "Image: image24.png, Predicted Label: 4\n",
            "Image: image25.png, Predicted Label: 4\n",
            "Image: image26.png, Predicted Label: 4\n",
            "Image: image27.png, Predicted Label: 4\n",
            "Image: image28.png, Predicted Label: 4\n",
            "Image: image29.png, Predicted Label: 4\n",
            "Image: image30.png, Predicted Label: 4\n",
            "Image: image31.png, Predicted Label: 4\n",
            "Image: image32.png, Predicted Label: 4\n",
            "Image: image33.png, Predicted Label: 4\n",
            "Image: image34.png, Predicted Label: 4\n",
            "Image: image35.png, Predicted Label: 4\n",
            "Image: image36.png, Predicted Label: 4\n",
            "Image: image37.png, Predicted Label: 4\n",
            "Image: image38.png, Predicted Label: 4\n",
            "Image: image39.png, Predicted Label: 4\n",
            "Image: image40.png, Predicted Label: 4\n",
            "Image: image41.png, Predicted Label: 4\n",
            "Image: image42.png, Predicted Label: 4\n",
            "Image: image43.png, Predicted Label: 4\n",
            "Image: image44.png, Predicted Label: 4\n",
            "Image: image45.png, Predicted Label: 4\n",
            "Image: image46.png, Predicted Label: 4\n",
            "Image: image47.png, Predicted Label: 4\n",
            "Image: image48.png, Predicted Label: 4\n",
            "Image: image49.png, Predicted Label: 4\n",
            "Image: image50.png, Predicted Label: 4\n",
            "Image: image51.png, Predicted Label: 4\n",
            "Image: image52.png, Predicted Label: 4\n",
            "Image: image53.png, Predicted Label: 4\n",
            "Image: image54.png, Predicted Label: 4\n",
            "Image: image55.png, Predicted Label: 4\n",
            "Image: image56.png, Predicted Label: 4\n",
            "Image: image57.png, Predicted Label: 4\n",
            "Image: image58.png, Predicted Label: 4\n",
            "Image: image59.png, Predicted Label: 4\n",
            "Image: image60.png, Predicted Label: 4\n",
            "Image: image61.png, Predicted Label: 4\n",
            "Image: image62.png, Predicted Label: 4\n",
            "Image: image63.png, Predicted Label: 4\n",
            "Image: image64.png, Predicted Label: 4\n",
            "Image: image65.png, Predicted Label: 4\n",
            "Image: image66.png, Predicted Label: 4\n",
            "Image: image67.png, Predicted Label: 4\n",
            "Image: image68.png, Predicted Label: 4\n",
            "Image: image69.png, Predicted Label: 4\n",
            "Image: image70.png, Predicted Label: 4\n",
            "Image: image71.png, Predicted Label: 4\n",
            "Image: image72.png, Predicted Label: 4\n",
            "Image: image73.png, Predicted Label: 4\n",
            "Image: image74.png, Predicted Label: 4\n",
            "Image: image75.png, Predicted Label: 4\n",
            "Image: image76.png, Predicted Label: 4\n",
            "Image: image77.png, Predicted Label: 4\n",
            "Image: image78.png, Predicted Label: 4\n",
            "Image: image79.png, Predicted Label: 4\n",
            "Image: image80.png, Predicted Label: 4\n",
            "Image: image81.png, Predicted Label: 4\n",
            "Image: image82.png, Predicted Label: 4\n",
            "Image: image83.png, Predicted Label: 4\n",
            "Image: image84.png, Predicted Label: 4\n",
            "Image: image85.png, Predicted Label: 4\n",
            "Image: image86.png, Predicted Label: 4\n",
            "Image: image87.png, Predicted Label: 4\n",
            "Image: image88.png, Predicted Label: 4\n",
            "Image: image89.png, Predicted Label: 4\n",
            "Image: image90.png, Predicted Label: 4\n",
            "Image: image91.png, Predicted Label: 4\n",
            "Image: image92.png, Predicted Label: 4\n",
            "Image: image93.png, Predicted Label: 4\n",
            "Image: image94.png, Predicted Label: 4\n",
            "Image: image95.png, Predicted Label: 4\n",
            "Image: image96.png, Predicted Label: 4\n",
            "Image: image97.png, Predicted Label: 4\n",
            "Image: image98.png, Predicted Label: 4\n",
            "Image: image99.png, Predicted Label: 4\n",
            "Image: image100.png, Predicted Label: 4\n"
          ]
        }
      ],
      "source": [
        "folder_path = '/content/drive/MyDrive/Images/Images_4'  # Path to the folder containing the images\n",
        "\n",
        "for i in range(1, 101):\n",
        "    image_name = f\"image{i}.png\"\n",
        "    image_path = os.path.join(folder_path, image_name)\n",
        "    predicted_label = get_prediction(image_path)\n",
        "    print(f\"Image: {image_name}, Predicted Label: {predicted_label}\")"
      ]
    },
    {
      "cell_type": "code",
      "execution_count": null,
      "metadata": {
        "colab": {
          "base_uri": "https://localhost:8080/"
        },
        "id": "v_7ABRdV-lP4",
        "outputId": "8c942653-f5e8-415b-fa06-b49409fe96e0"
      },
      "outputs": [
        {
          "output_type": "stream",
          "name": "stderr",
          "text": [
            "<ipython-input-10-0129fb38037d>:27: UserWarning: Implicit dimension choice for log_softmax has been deprecated. Change the call to include dim=X as an argument.\n",
            "  return self.logsoftmax(x)\n"
          ]
        },
        {
          "output_type": "stream",
          "name": "stdout",
          "text": [
            "Image: image1.png, Predicted Label: 5\n",
            "Image: image2.png, Predicted Label: 5\n",
            "Image: image3.png, Predicted Label: 5\n",
            "Image: image4.png, Predicted Label: 5\n",
            "Image: image5.png, Predicted Label: 5\n",
            "Image: image6.png, Predicted Label: 5\n",
            "Image: image7.png, Predicted Label: 5\n",
            "Image: image8.png, Predicted Label: 5\n",
            "Image: image9.png, Predicted Label: 5\n",
            "Image: image10.png, Predicted Label: 5\n",
            "Image: image11.png, Predicted Label: 5\n",
            "Image: image12.png, Predicted Label: 5\n",
            "Image: image13.png, Predicted Label: 5\n",
            "Image: image14.png, Predicted Label: 5\n",
            "Image: image15.png, Predicted Label: 5\n",
            "Image: image16.png, Predicted Label: 5\n",
            "Image: image17.png, Predicted Label: 5\n",
            "Image: image18.png, Predicted Label: 5\n",
            "Image: image19.png, Predicted Label: 5\n",
            "Image: image20.png, Predicted Label: 5\n",
            "Image: image21.png, Predicted Label: 5\n",
            "Image: image22.png, Predicted Label: 5\n",
            "Image: image23.png, Predicted Label: 5\n",
            "Image: image24.png, Predicted Label: 5\n",
            "Image: image25.png, Predicted Label: 5\n",
            "Image: image26.png, Predicted Label: 5\n",
            "Image: image27.png, Predicted Label: 5\n",
            "Image: image28.png, Predicted Label: 5\n",
            "Image: image29.png, Predicted Label: 5\n",
            "Image: image30.png, Predicted Label: 5\n",
            "Image: image31.png, Predicted Label: 5\n",
            "Image: image32.png, Predicted Label: 5\n",
            "Image: image33.png, Predicted Label: 5\n",
            "Image: image34.png, Predicted Label: 5\n",
            "Image: image35.png, Predicted Label: 5\n",
            "Image: image36.png, Predicted Label: 5\n",
            "Image: image37.png, Predicted Label: 5\n",
            "Image: image38.png, Predicted Label: 5\n",
            "Image: image39.png, Predicted Label: 5\n",
            "Image: image40.png, Predicted Label: 5\n",
            "Image: image41.png, Predicted Label: 5\n",
            "Image: image42.png, Predicted Label: 5\n",
            "Image: image43.png, Predicted Label: 5\n",
            "Image: image44.png, Predicted Label: 5\n",
            "Image: image45.png, Predicted Label: 5\n",
            "Image: image46.png, Predicted Label: 5\n",
            "Image: image47.png, Predicted Label: 5\n",
            "Image: image48.png, Predicted Label: 5\n",
            "Image: image49.png, Predicted Label: 5\n",
            "Image: image50.png, Predicted Label: 5\n",
            "Image: image51.png, Predicted Label: 5\n",
            "Image: image52.png, Predicted Label: 5\n",
            "Image: image53.png, Predicted Label: 5\n",
            "Image: image54.png, Predicted Label: 5\n",
            "Image: image55.png, Predicted Label: 5\n",
            "Image: image56.png, Predicted Label: 5\n",
            "Image: image57.png, Predicted Label: 5\n",
            "Image: image58.png, Predicted Label: 5\n",
            "Image: image59.png, Predicted Label: 5\n",
            "Image: image60.png, Predicted Label: 5\n",
            "Image: image61.png, Predicted Label: 5\n",
            "Image: image62.png, Predicted Label: 5\n",
            "Image: image63.png, Predicted Label: 5\n",
            "Image: image64.png, Predicted Label: 5\n",
            "Image: image65.png, Predicted Label: 5\n",
            "Image: image66.png, Predicted Label: 5\n",
            "Image: image67.png, Predicted Label: 5\n",
            "Image: image68.png, Predicted Label: 5\n",
            "Image: image69.png, Predicted Label: 5\n",
            "Image: image70.png, Predicted Label: 5\n",
            "Image: image71.png, Predicted Label: 5\n",
            "Image: image72.png, Predicted Label: 5\n",
            "Image: image73.png, Predicted Label: 5\n",
            "Image: image74.png, Predicted Label: 5\n",
            "Image: image75.png, Predicted Label: 5\n",
            "Image: image76.png, Predicted Label: 5\n",
            "Image: image77.png, Predicted Label: 5\n",
            "Image: image78.png, Predicted Label: 5\n",
            "Image: image79.png, Predicted Label: 5\n",
            "Image: image80.png, Predicted Label: 5\n",
            "Image: image81.png, Predicted Label: 5\n",
            "Image: image82.png, Predicted Label: 5\n",
            "Image: image83.png, Predicted Label: 5\n",
            "Image: image84.png, Predicted Label: 5\n",
            "Image: image85.png, Predicted Label: 5\n",
            "Image: image86.png, Predicted Label: 5\n",
            "Image: image87.png, Predicted Label: 5\n",
            "Image: image88.png, Predicted Label: 5\n",
            "Image: image89.png, Predicted Label: 5\n",
            "Image: image90.png, Predicted Label: 5\n",
            "Image: image91.png, Predicted Label: 5\n",
            "Image: image92.png, Predicted Label: 5\n",
            "Image: image93.png, Predicted Label: 5\n",
            "Image: image94.png, Predicted Label: 5\n",
            "Image: image95.png, Predicted Label: 5\n",
            "Image: image96.png, Predicted Label: 5\n",
            "Image: image97.png, Predicted Label: 5\n",
            "Image: image98.png, Predicted Label: 5\n",
            "Image: image99.png, Predicted Label: 5\n",
            "Image: image100.png, Predicted Label: 5\n"
          ]
        }
      ],
      "source": [
        "folder_path = '/content/drive/MyDrive/Images/Images_5'  # Path to the folder containing the images\n",
        "\n",
        "for i in range(1, 101):\n",
        "    image_name = f\"image{i}.png\"\n",
        "    image_path = os.path.join(folder_path, image_name)\n",
        "    predicted_label = get_prediction(image_path)\n",
        "    print(f\"Image: {image_name}, Predicted Label: {predicted_label}\")"
      ]
    },
    {
      "cell_type": "code",
      "execution_count": null,
      "metadata": {
        "colab": {
          "base_uri": "https://localhost:8080/"
        },
        "id": "S2cIfdqtLsrq",
        "outputId": "3ff29611-a09c-43f2-9ab2-eb881cb1019e"
      },
      "outputs": [
        {
          "output_type": "stream",
          "name": "stderr",
          "text": [
            "<ipython-input-10-0129fb38037d>:27: UserWarning: Implicit dimension choice for log_softmax has been deprecated. Change the call to include dim=X as an argument.\n",
            "  return self.logsoftmax(x)\n"
          ]
        },
        {
          "output_type": "stream",
          "name": "stdout",
          "text": [
            "Image: image1.png, Predicted Label: 6\n",
            "Image: image2.png, Predicted Label: 6\n",
            "Image: image3.png, Predicted Label: 6\n",
            "Image: image4.png, Predicted Label: 6\n",
            "Image: image5.png, Predicted Label: 6\n",
            "Image: image6.png, Predicted Label: 6\n",
            "Image: image7.png, Predicted Label: 6\n",
            "Image: image8.png, Predicted Label: 6\n",
            "Image: image9.png, Predicted Label: 6\n",
            "Image: image10.png, Predicted Label: 6\n",
            "Image: image11.png, Predicted Label: 6\n",
            "Image: image12.png, Predicted Label: 6\n",
            "Image: image13.png, Predicted Label: 6\n",
            "Image: image14.png, Predicted Label: 6\n",
            "Image: image15.png, Predicted Label: 6\n",
            "Image: image16.png, Predicted Label: 6\n",
            "Image: image17.png, Predicted Label: 6\n",
            "Image: image18.png, Predicted Label: 6\n",
            "Image: image19.png, Predicted Label: 6\n",
            "Image: image20.png, Predicted Label: 6\n",
            "Image: image21.png, Predicted Label: 6\n",
            "Image: image22.png, Predicted Label: 6\n",
            "Image: image23.png, Predicted Label: 6\n",
            "Image: image24.png, Predicted Label: 6\n",
            "Image: image25.png, Predicted Label: 6\n",
            "Image: image26.png, Predicted Label: 6\n",
            "Image: image27.png, Predicted Label: 6\n",
            "Image: image28.png, Predicted Label: 6\n",
            "Image: image29.png, Predicted Label: 6\n",
            "Image: image30.png, Predicted Label: 6\n",
            "Image: image31.png, Predicted Label: 6\n",
            "Image: image32.png, Predicted Label: 6\n",
            "Image: image33.png, Predicted Label: 6\n",
            "Image: image34.png, Predicted Label: 6\n",
            "Image: image35.png, Predicted Label: 6\n",
            "Image: image36.png, Predicted Label: 6\n",
            "Image: image37.png, Predicted Label: 6\n",
            "Image: image38.png, Predicted Label: 6\n",
            "Image: image39.png, Predicted Label: 6\n",
            "Image: image40.png, Predicted Label: 6\n",
            "Image: image41.png, Predicted Label: 6\n",
            "Image: image42.png, Predicted Label: 6\n",
            "Image: image43.png, Predicted Label: 6\n",
            "Image: image44.png, Predicted Label: 6\n",
            "Image: image45.png, Predicted Label: 6\n",
            "Image: image46.png, Predicted Label: 6\n",
            "Image: image47.png, Predicted Label: 6\n",
            "Image: image48.png, Predicted Label: 6\n",
            "Image: image49.png, Predicted Label: 6\n",
            "Image: image50.png, Predicted Label: 6\n",
            "Image: image51.png, Predicted Label: 6\n",
            "Image: image52.png, Predicted Label: 6\n",
            "Image: image53.png, Predicted Label: 6\n",
            "Image: image54.png, Predicted Label: 6\n",
            "Image: image55.png, Predicted Label: 6\n",
            "Image: image56.png, Predicted Label: 6\n",
            "Image: image57.png, Predicted Label: 6\n",
            "Image: image58.png, Predicted Label: 6\n",
            "Image: image59.png, Predicted Label: 6\n",
            "Image: image60.png, Predicted Label: 6\n",
            "Image: image61.png, Predicted Label: 6\n",
            "Image: image62.png, Predicted Label: 6\n",
            "Image: image63.png, Predicted Label: 6\n",
            "Image: image64.png, Predicted Label: 6\n",
            "Image: image65.png, Predicted Label: 6\n",
            "Image: image66.png, Predicted Label: 6\n",
            "Image: image67.png, Predicted Label: 6\n",
            "Image: image68.png, Predicted Label: 6\n",
            "Image: image69.png, Predicted Label: 6\n",
            "Image: image70.png, Predicted Label: 6\n",
            "Image: image71.png, Predicted Label: 6\n",
            "Image: image72.png, Predicted Label: 6\n",
            "Image: image73.png, Predicted Label: 6\n",
            "Image: image74.png, Predicted Label: 6\n",
            "Image: image75.png, Predicted Label: 6\n",
            "Image: image76.png, Predicted Label: 6\n",
            "Image: image77.png, Predicted Label: 6\n",
            "Image: image78.png, Predicted Label: 6\n",
            "Image: image79.png, Predicted Label: 6\n",
            "Image: image80.png, Predicted Label: 6\n",
            "Image: image81.png, Predicted Label: 6\n",
            "Image: image82.png, Predicted Label: 6\n",
            "Image: image83.png, Predicted Label: 6\n",
            "Image: image84.png, Predicted Label: 6\n",
            "Image: image85.png, Predicted Label: 6\n",
            "Image: image86.png, Predicted Label: 6\n",
            "Image: image87.png, Predicted Label: 6\n",
            "Image: image88.png, Predicted Label: 6\n",
            "Image: image89.png, Predicted Label: 6\n",
            "Image: image90.png, Predicted Label: 6\n",
            "Image: image91.png, Predicted Label: 6\n",
            "Image: image92.png, Predicted Label: 6\n",
            "Image: image93.png, Predicted Label: 6\n",
            "Image: image94.png, Predicted Label: 6\n",
            "Image: image95.png, Predicted Label: 6\n",
            "Image: image96.png, Predicted Label: 6\n",
            "Image: image97.png, Predicted Label: 6\n",
            "Image: image98.png, Predicted Label: 6\n",
            "Image: image99.png, Predicted Label: 6\n",
            "Image: image100.png, Predicted Label: 6\n"
          ]
        }
      ],
      "source": [
        "folder_path = '/content/drive/MyDrive/Images/Images_6'  # Path to the folder containing the images\n",
        "\n",
        "for i in range(1, 101):\n",
        "    image_name = f\"image{i}.png\"\n",
        "    image_path = os.path.join(folder_path, image_name)\n",
        "    predicted_label = get_prediction(image_path)\n",
        "    print(f\"Image: {image_name}, Predicted Label: {predicted_label}\")"
      ]
    },
    {
      "cell_type": "code",
      "execution_count": null,
      "metadata": {
        "colab": {
          "base_uri": "https://localhost:8080/"
        },
        "id": "ZerWbkkLMRYS",
        "outputId": "6c278929-0133-466b-9841-4966bfe3f2f2"
      },
      "outputs": [
        {
          "output_type": "stream",
          "name": "stderr",
          "text": [
            "<ipython-input-10-0129fb38037d>:27: UserWarning: Implicit dimension choice for log_softmax has been deprecated. Change the call to include dim=X as an argument.\n",
            "  return self.logsoftmax(x)\n"
          ]
        },
        {
          "output_type": "stream",
          "name": "stdout",
          "text": [
            "Image: image1.png, Predicted Label: 7\n",
            "Image: image2.png, Predicted Label: 7\n",
            "Image: image3.png, Predicted Label: 7\n",
            "Image: image4.png, Predicted Label: 7\n",
            "Image: image5.png, Predicted Label: 7\n",
            "Image: image6.png, Predicted Label: 7\n",
            "Image: image7.png, Predicted Label: 7\n",
            "Image: image8.png, Predicted Label: 7\n",
            "Image: image9.png, Predicted Label: 7\n",
            "Image: image10.png, Predicted Label: 7\n",
            "Image: image11.png, Predicted Label: 7\n",
            "Image: image12.png, Predicted Label: 7\n",
            "Image: image13.png, Predicted Label: 7\n",
            "Image: image14.png, Predicted Label: 7\n",
            "Image: image15.png, Predicted Label: 7\n",
            "Image: image16.png, Predicted Label: 7\n",
            "Image: image17.png, Predicted Label: 7\n",
            "Image: image18.png, Predicted Label: 7\n",
            "Image: image19.png, Predicted Label: 7\n",
            "Image: image20.png, Predicted Label: 7\n",
            "Image: image21.png, Predicted Label: 7\n",
            "Image: image22.png, Predicted Label: 7\n",
            "Image: image23.png, Predicted Label: 7\n",
            "Image: image24.png, Predicted Label: 7\n",
            "Image: image25.png, Predicted Label: 7\n",
            "Image: image26.png, Predicted Label: 7\n",
            "Image: image27.png, Predicted Label: 7\n",
            "Image: image28.png, Predicted Label: 7\n",
            "Image: image29.png, Predicted Label: 7\n",
            "Image: image30.png, Predicted Label: 7\n",
            "Image: image31.png, Predicted Label: 7\n",
            "Image: image32.png, Predicted Label: 7\n",
            "Image: image33.png, Predicted Label: 7\n",
            "Image: image34.png, Predicted Label: 7\n",
            "Image: image35.png, Predicted Label: 7\n",
            "Image: image36.png, Predicted Label: 7\n",
            "Image: image37.png, Predicted Label: 7\n",
            "Image: image38.png, Predicted Label: 7\n",
            "Image: image39.png, Predicted Label: 7\n",
            "Image: image40.png, Predicted Label: 7\n",
            "Image: image41.png, Predicted Label: 7\n",
            "Image: image42.png, Predicted Label: 7\n",
            "Image: image43.png, Predicted Label: 7\n",
            "Image: image44.png, Predicted Label: 7\n",
            "Image: image45.png, Predicted Label: 7\n",
            "Image: image46.png, Predicted Label: 7\n",
            "Image: image47.png, Predicted Label: 7\n",
            "Image: image48.png, Predicted Label: 7\n",
            "Image: image49.png, Predicted Label: 7\n",
            "Image: image50.png, Predicted Label: 7\n",
            "Image: image51.png, Predicted Label: 7\n",
            "Image: image52.png, Predicted Label: 7\n",
            "Image: image53.png, Predicted Label: 7\n",
            "Image: image54.png, Predicted Label: 7\n",
            "Image: image55.png, Predicted Label: 7\n",
            "Image: image56.png, Predicted Label: 7\n",
            "Image: image57.png, Predicted Label: 7\n",
            "Image: image58.png, Predicted Label: 7\n",
            "Image: image59.png, Predicted Label: 7\n",
            "Image: image60.png, Predicted Label: 7\n",
            "Image: image61.png, Predicted Label: 7\n",
            "Image: image62.png, Predicted Label: 7\n",
            "Image: image63.png, Predicted Label: 7\n",
            "Image: image64.png, Predicted Label: 7\n",
            "Image: image65.png, Predicted Label: 7\n",
            "Image: image66.png, Predicted Label: 7\n",
            "Image: image67.png, Predicted Label: 7\n",
            "Image: image68.png, Predicted Label: 7\n",
            "Image: image69.png, Predicted Label: 7\n",
            "Image: image70.png, Predicted Label: 7\n",
            "Image: image71.png, Predicted Label: 7\n",
            "Image: image72.png, Predicted Label: 7\n",
            "Image: image73.png, Predicted Label: 7\n",
            "Image: image74.png, Predicted Label: 7\n",
            "Image: image75.png, Predicted Label: 7\n",
            "Image: image76.png, Predicted Label: 7\n",
            "Image: image77.png, Predicted Label: 7\n",
            "Image: image78.png, Predicted Label: 7\n",
            "Image: image79.png, Predicted Label: 7\n",
            "Image: image80.png, Predicted Label: 7\n",
            "Image: image81.png, Predicted Label: 7\n",
            "Image: image82.png, Predicted Label: 7\n",
            "Image: image83.png, Predicted Label: 7\n",
            "Image: image84.png, Predicted Label: 7\n",
            "Image: image85.png, Predicted Label: 7\n",
            "Image: image86.png, Predicted Label: 7\n",
            "Image: image87.png, Predicted Label: 7\n",
            "Image: image88.png, Predicted Label: 7\n",
            "Image: image89.png, Predicted Label: 7\n",
            "Image: image90.png, Predicted Label: 7\n",
            "Image: image91.png, Predicted Label: 7\n",
            "Image: image92.png, Predicted Label: 7\n",
            "Image: image93.png, Predicted Label: 7\n",
            "Image: image94.png, Predicted Label: 7\n",
            "Image: image95.png, Predicted Label: 7\n",
            "Image: image96.png, Predicted Label: 7\n",
            "Image: image97.png, Predicted Label: 7\n",
            "Image: image98.png, Predicted Label: 7\n",
            "Image: image99.png, Predicted Label: 7\n",
            "Image: image100.png, Predicted Label: 7\n"
          ]
        }
      ],
      "source": [
        "folder_path = '/content/drive/MyDrive/Images/Images_7'  # Path to the folder containing the images\n",
        "\n",
        "for i in range(1, 101):\n",
        "    image_name = f\"image{i}.png\"\n",
        "    image_path = os.path.join(folder_path, image_name)\n",
        "    predicted_label = get_prediction(image_path)\n",
        "    print(f\"Image: {image_name}, Predicted Label: {predicted_label}\")"
      ]
    },
    {
      "cell_type": "code",
      "execution_count": null,
      "metadata": {
        "colab": {
          "base_uri": "https://localhost:8080/"
        },
        "id": "dtG7ogkSMoxq",
        "outputId": "79308202-58c6-409b-d31c-bcec3b28199b"
      },
      "outputs": [
        {
          "output_type": "stream",
          "name": "stderr",
          "text": [
            "<ipython-input-10-0129fb38037d>:27: UserWarning: Implicit dimension choice for log_softmax has been deprecated. Change the call to include dim=X as an argument.\n",
            "  return self.logsoftmax(x)\n"
          ]
        },
        {
          "output_type": "stream",
          "name": "stdout",
          "text": [
            "Image: image1.png, Predicted Label: 8\n",
            "Image: image2.png, Predicted Label: 8\n",
            "Image: image3.png, Predicted Label: 8\n",
            "Image: image4.png, Predicted Label: 8\n",
            "Image: image5.png, Predicted Label: 8\n",
            "Image: image6.png, Predicted Label: 8\n",
            "Image: image7.png, Predicted Label: 8\n",
            "Image: image8.png, Predicted Label: 8\n",
            "Image: image9.png, Predicted Label: 8\n",
            "Image: image10.png, Predicted Label: 8\n",
            "Image: image11.png, Predicted Label: 8\n",
            "Image: image12.png, Predicted Label: 8\n",
            "Image: image13.png, Predicted Label: 8\n",
            "Image: image14.png, Predicted Label: 8\n",
            "Image: image15.png, Predicted Label: 8\n",
            "Image: image16.png, Predicted Label: 8\n",
            "Image: image17.png, Predicted Label: 8\n",
            "Image: image18.png, Predicted Label: 8\n",
            "Image: image19.png, Predicted Label: 8\n",
            "Image: image20.png, Predicted Label: 8\n",
            "Image: image21.png, Predicted Label: 8\n",
            "Image: image22.png, Predicted Label: 8\n",
            "Image: image23.png, Predicted Label: 8\n",
            "Image: image24.png, Predicted Label: 8\n",
            "Image: image25.png, Predicted Label: 8\n",
            "Image: image26.png, Predicted Label: 8\n",
            "Image: image27.png, Predicted Label: 8\n",
            "Image: image28.png, Predicted Label: 8\n",
            "Image: image29.png, Predicted Label: 8\n",
            "Image: image30.png, Predicted Label: 8\n",
            "Image: image31.png, Predicted Label: 8\n",
            "Image: image32.png, Predicted Label: 8\n",
            "Image: image33.png, Predicted Label: 8\n",
            "Image: image34.png, Predicted Label: 8\n",
            "Image: image35.png, Predicted Label: 8\n",
            "Image: image36.png, Predicted Label: 8\n",
            "Image: image37.png, Predicted Label: 8\n",
            "Image: image38.png, Predicted Label: 8\n",
            "Image: image39.png, Predicted Label: 8\n",
            "Image: image40.png, Predicted Label: 8\n",
            "Image: image41.png, Predicted Label: 8\n",
            "Image: image42.png, Predicted Label: 8\n",
            "Image: image43.png, Predicted Label: 8\n",
            "Image: image44.png, Predicted Label: 8\n",
            "Image: image45.png, Predicted Label: 8\n",
            "Image: image46.png, Predicted Label: 8\n",
            "Image: image47.png, Predicted Label: 8\n",
            "Image: image48.png, Predicted Label: 8\n",
            "Image: image49.png, Predicted Label: 8\n",
            "Image: image50.png, Predicted Label: 8\n",
            "Image: image51.png, Predicted Label: 8\n",
            "Image: image52.png, Predicted Label: 8\n",
            "Image: image53.png, Predicted Label: 8\n",
            "Image: image54.png, Predicted Label: 8\n",
            "Image: image55.png, Predicted Label: 8\n",
            "Image: image56.png, Predicted Label: 8\n",
            "Image: image57.png, Predicted Label: 8\n",
            "Image: image58.png, Predicted Label: 8\n",
            "Image: image59.png, Predicted Label: 8\n",
            "Image: image60.png, Predicted Label: 8\n",
            "Image: image61.png, Predicted Label: 8\n",
            "Image: image62.png, Predicted Label: 8\n",
            "Image: image63.png, Predicted Label: 8\n",
            "Image: image64.png, Predicted Label: 8\n",
            "Image: image65.png, Predicted Label: 8\n",
            "Image: image66.png, Predicted Label: 8\n",
            "Image: image67.png, Predicted Label: 8\n",
            "Image: image68.png, Predicted Label: 8\n",
            "Image: image69.png, Predicted Label: 8\n",
            "Image: image70.png, Predicted Label: 8\n",
            "Image: image71.png, Predicted Label: 8\n",
            "Image: image72.png, Predicted Label: 8\n",
            "Image: image73.png, Predicted Label: 8\n",
            "Image: image74.png, Predicted Label: 8\n",
            "Image: image75.png, Predicted Label: 8\n",
            "Image: image76.png, Predicted Label: 8\n",
            "Image: image77.png, Predicted Label: 8\n",
            "Image: image78.png, Predicted Label: 8\n",
            "Image: image79.png, Predicted Label: 8\n",
            "Image: image80.png, Predicted Label: 8\n",
            "Image: image81.png, Predicted Label: 8\n",
            "Image: image82.png, Predicted Label: 8\n",
            "Image: image83.png, Predicted Label: 8\n",
            "Image: image84.png, Predicted Label: 8\n",
            "Image: image85.png, Predicted Label: 8\n",
            "Image: image86.png, Predicted Label: 8\n",
            "Image: image87.png, Predicted Label: 8\n",
            "Image: image88.png, Predicted Label: 8\n",
            "Image: image89.png, Predicted Label: 8\n",
            "Image: image90.png, Predicted Label: 8\n",
            "Image: image91.png, Predicted Label: 8\n",
            "Image: image92.png, Predicted Label: 8\n",
            "Image: image93.png, Predicted Label: 8\n",
            "Image: image94.png, Predicted Label: 8\n",
            "Image: image95.png, Predicted Label: 8\n",
            "Image: image96.png, Predicted Label: 8\n",
            "Image: image97.png, Predicted Label: 8\n",
            "Image: image98.png, Predicted Label: 8\n",
            "Image: image99.png, Predicted Label: 8\n",
            "Image: image100.png, Predicted Label: 8\n"
          ]
        }
      ],
      "source": [
        "folder_path = '/content/drive/MyDrive/Images/Images_8'  # Path to the folder containing the images\n",
        "\n",
        "for i in range(1, 101):\n",
        "    image_name = f\"image{i}.png\"\n",
        "    image_path = os.path.join(folder_path, image_name)\n",
        "    predicted_label = get_prediction(image_path)\n",
        "    print(f\"Image: {image_name}, Predicted Label: {predicted_label}\")"
      ]
    },
    {
      "cell_type": "code",
      "execution_count": null,
      "metadata": {
        "colab": {
          "base_uri": "https://localhost:8080/"
        },
        "id": "F3OAaSXBM625",
        "outputId": "23b3669e-fb78-4ad8-c1a8-9e17db82d1fd"
      },
      "outputs": [
        {
          "output_type": "stream",
          "name": "stderr",
          "text": [
            "<ipython-input-10-0129fb38037d>:27: UserWarning: Implicit dimension choice for log_softmax has been deprecated. Change the call to include dim=X as an argument.\n",
            "  return self.logsoftmax(x)\n"
          ]
        },
        {
          "output_type": "stream",
          "name": "stdout",
          "text": [
            "Image: image1.png, Predicted Label: 9\n",
            "Image: image2.png, Predicted Label: 9\n",
            "Image: image3.png, Predicted Label: 9\n",
            "Image: image4.png, Predicted Label: 9\n",
            "Image: image5.png, Predicted Label: 9\n",
            "Image: image6.png, Predicted Label: 9\n",
            "Image: image7.png, Predicted Label: 9\n",
            "Image: image8.png, Predicted Label: 9\n",
            "Image: image9.png, Predicted Label: 9\n",
            "Image: image10.png, Predicted Label: 9\n",
            "Image: image11.png, Predicted Label: 9\n",
            "Image: image12.png, Predicted Label: 9\n",
            "Image: image13.png, Predicted Label: 9\n",
            "Image: image14.png, Predicted Label: 9\n",
            "Image: image15.png, Predicted Label: 9\n",
            "Image: image16.png, Predicted Label: 9\n",
            "Image: image17.png, Predicted Label: 9\n",
            "Image: image18.png, Predicted Label: 9\n",
            "Image: image19.png, Predicted Label: 9\n",
            "Image: image20.png, Predicted Label: 9\n",
            "Image: image21.png, Predicted Label: 9\n",
            "Image: image22.png, Predicted Label: 9\n",
            "Image: image23.png, Predicted Label: 9\n",
            "Image: image24.png, Predicted Label: 9\n",
            "Image: image25.png, Predicted Label: 9\n",
            "Image: image26.png, Predicted Label: 9\n",
            "Image: image27.png, Predicted Label: 9\n",
            "Image: image28.png, Predicted Label: 9\n",
            "Image: image29.png, Predicted Label: 9\n",
            "Image: image30.png, Predicted Label: 9\n",
            "Image: image31.png, Predicted Label: 9\n",
            "Image: image32.png, Predicted Label: 9\n",
            "Image: image33.png, Predicted Label: 9\n",
            "Image: image34.png, Predicted Label: 9\n",
            "Image: image35.png, Predicted Label: 9\n",
            "Image: image36.png, Predicted Label: 9\n",
            "Image: image37.png, Predicted Label: 9\n",
            "Image: image38.png, Predicted Label: 9\n",
            "Image: image39.png, Predicted Label: 9\n",
            "Image: image40.png, Predicted Label: 9\n",
            "Image: image41.png, Predicted Label: 9\n",
            "Image: image42.png, Predicted Label: 9\n",
            "Image: image43.png, Predicted Label: 9\n",
            "Image: image44.png, Predicted Label: 9\n",
            "Image: image45.png, Predicted Label: 9\n",
            "Image: image46.png, Predicted Label: 9\n",
            "Image: image47.png, Predicted Label: 9\n",
            "Image: image48.png, Predicted Label: 9\n",
            "Image: image49.png, Predicted Label: 9\n",
            "Image: image50.png, Predicted Label: 9\n",
            "Image: image51.png, Predicted Label: 9\n",
            "Image: image52.png, Predicted Label: 9\n",
            "Image: image53.png, Predicted Label: 9\n",
            "Image: image54.png, Predicted Label: 9\n",
            "Image: image55.png, Predicted Label: 9\n",
            "Image: image56.png, Predicted Label: 9\n",
            "Image: image57.png, Predicted Label: 9\n",
            "Image: image58.png, Predicted Label: 9\n",
            "Image: image59.png, Predicted Label: 9\n",
            "Image: image60.png, Predicted Label: 9\n",
            "Image: image61.png, Predicted Label: 9\n",
            "Image: image62.png, Predicted Label: 9\n",
            "Image: image63.png, Predicted Label: 9\n",
            "Image: image64.png, Predicted Label: 9\n",
            "Image: image65.png, Predicted Label: 9\n",
            "Image: image66.png, Predicted Label: 9\n",
            "Image: image67.png, Predicted Label: 9\n",
            "Image: image68.png, Predicted Label: 9\n",
            "Image: image69.png, Predicted Label: 9\n",
            "Image: image70.png, Predicted Label: 9\n",
            "Image: image71.png, Predicted Label: 9\n",
            "Image: image72.png, Predicted Label: 9\n",
            "Image: image73.png, Predicted Label: 9\n",
            "Image: image74.png, Predicted Label: 9\n",
            "Image: image75.png, Predicted Label: 9\n",
            "Image: image76.png, Predicted Label: 9\n",
            "Image: image77.png, Predicted Label: 9\n",
            "Image: image78.png, Predicted Label: 9\n",
            "Image: image79.png, Predicted Label: 9\n",
            "Image: image80.png, Predicted Label: 9\n",
            "Image: image81.png, Predicted Label: 9\n",
            "Image: image82.png, Predicted Label: 9\n",
            "Image: image83.png, Predicted Label: 9\n",
            "Image: image84.png, Predicted Label: 9\n",
            "Image: image85.png, Predicted Label: 9\n",
            "Image: image86.png, Predicted Label: 9\n",
            "Image: image87.png, Predicted Label: 9\n",
            "Image: image88.png, Predicted Label: 9\n",
            "Image: image89.png, Predicted Label: 9\n",
            "Image: image90.png, Predicted Label: 9\n",
            "Image: image91.png, Predicted Label: 9\n",
            "Image: image92.png, Predicted Label: 9\n",
            "Image: image93.png, Predicted Label: 9\n",
            "Image: image94.png, Predicted Label: 9\n",
            "Image: image95.png, Predicted Label: 9\n",
            "Image: image96.png, Predicted Label: 9\n",
            "Image: image97.png, Predicted Label: 9\n",
            "Image: image98.png, Predicted Label: 9\n",
            "Image: image99.png, Predicted Label: 9\n",
            "Image: image100.png, Predicted Label: 9\n"
          ]
        }
      ],
      "source": [
        "folder_path = '/content/drive/MyDrive/Images/Images_9'  # Path to the folder containing the images\n",
        "\n",
        "for i in range(1, 101):\n",
        "    image_name = f\"image{i}.png\"\n",
        "    image_path = os.path.join(folder_path, image_name)\n",
        "    predicted_label = get_prediction(image_path)\n",
        "    print(f\"Image: {image_name}, Predicted Label: {predicted_label}\")"
      ]
    },
    {
      "cell_type": "markdown",
      "source": [
        "Since all the reconstructed images have the same label, the Network Inversion performed is exact.\n",
        "\n",
        "The inversion process demonstrates that while the model does a good job classifying MNIST digits, it deos not necessarily imply that the model is in anyway aware of what differnt digits look like.\n",
        "\n",
        "To refine the model & the decision boundaries, we can use the reconstrucetd images to retrain the model now with an extra class for the above OOD samples after passing them through an oracle or a large model.\n",
        "\n",
        "The iterative retraining process can be continued till the uniformly sampled reconstructed images from the input space of the newly trained model for a particluar label, start to look like the MNIST digits.\n",
        "\n"
      ],
      "metadata": {
        "id": "FW0HRFcF0aM8"
      }
    }
  ],
  "metadata": {
    "accelerator": "GPU",
    "colab": {
      "provenance": []
    },
    "gpuClass": "standard",
    "kernelspec": {
      "display_name": "Python 3",
      "name": "python3"
    },
    "language_info": {
      "name": "python"
    }
  },
  "nbformat": 4,
  "nbformat_minor": 0
}