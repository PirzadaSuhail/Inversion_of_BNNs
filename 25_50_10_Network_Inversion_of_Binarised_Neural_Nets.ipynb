{
  "cells": [
    {
      "cell_type": "code",
      "execution_count": null,
      "metadata": {
        "id": "KrTEd7hNXeqT"
      },
      "outputs": [],
      "source": [
        "import os\n",
        "import cv2\n",
        "import torch\n",
        "import numpy as np\n",
        "import torch.nn as nn\n",
        "import torch.optim as optim\n",
        "import matplotlib.pyplot as plt\n",
        "import torch.nn.functional as F\n",
        "from torchvision import transforms\n",
        "from torch.utils.data import Dataset\n",
        "from torchvision.datasets import MNIST\n",
        "from torch.utils.data import DataLoader\n",
        "from torchvision import datasets, transforms"
      ]
    },
    {
      "cell_type": "markdown",
      "source": [
        "Define transforms & Data Loaders.\n",
        "\n",
        "I have useded 5x5 Resize for simplicilty.\n",
        "\n",
        "More neurons lead to very large CNF Formulas that take time to work with.\n"
      ],
      "metadata": {
        "id": "4FeIfG1POBjm"
      }
    },
    {
      "cell_type": "code",
      "execution_count": null,
      "metadata": {
        "id": "cQuyfC11tcgz",
        "colab": {
          "base_uri": "https://localhost:8080/"
        },
        "outputId": "42b99cdb-066e-4dcb-af5a-55e73d1565dc"
      },
      "outputs": [
        {
          "output_type": "stream",
          "name": "stdout",
          "text": [
            "Downloading http://yann.lecun.com/exdb/mnist/train-images-idx3-ubyte.gz\n",
            "Downloading http://yann.lecun.com/exdb/mnist/train-images-idx3-ubyte.gz to ./data/MNIST/raw/train-images-idx3-ubyte.gz\n"
          ]
        },
        {
          "output_type": "stream",
          "name": "stderr",
          "text": [
            "100%|██████████| 9912422/9912422 [00:00<00:00, 360206124.00it/s]"
          ]
        },
        {
          "output_type": "stream",
          "name": "stdout",
          "text": [
            "Extracting ./data/MNIST/raw/train-images-idx3-ubyte.gz to ./data/MNIST/raw\n"
          ]
        },
        {
          "output_type": "stream",
          "name": "stderr",
          "text": [
            "\n"
          ]
        },
        {
          "output_type": "stream",
          "name": "stdout",
          "text": [
            "\n",
            "Downloading http://yann.lecun.com/exdb/mnist/train-labels-idx1-ubyte.gz\n",
            "Downloading http://yann.lecun.com/exdb/mnist/train-labels-idx1-ubyte.gz to ./data/MNIST/raw/train-labels-idx1-ubyte.gz\n"
          ]
        },
        {
          "output_type": "stream",
          "name": "stderr",
          "text": [
            "100%|██████████| 28881/28881 [00:00<00:00, 41428075.86it/s]"
          ]
        },
        {
          "output_type": "stream",
          "name": "stdout",
          "text": [
            "Extracting ./data/MNIST/raw/train-labels-idx1-ubyte.gz to ./data/MNIST/raw\n",
            "\n",
            "Downloading http://yann.lecun.com/exdb/mnist/t10k-images-idx3-ubyte.gz\n",
            "Downloading http://yann.lecun.com/exdb/mnist/t10k-images-idx3-ubyte.gz to ./data/MNIST/raw/t10k-images-idx3-ubyte.gz\n"
          ]
        },
        {
          "output_type": "stream",
          "name": "stderr",
          "text": [
            "\n",
            "100%|██████████| 1648877/1648877 [00:00<00:00, 64090033.24it/s]\n"
          ]
        },
        {
          "output_type": "stream",
          "name": "stdout",
          "text": [
            "Extracting ./data/MNIST/raw/t10k-images-idx3-ubyte.gz to ./data/MNIST/raw\n",
            "\n",
            "Downloading http://yann.lecun.com/exdb/mnist/t10k-labels-idx1-ubyte.gz\n",
            "Downloading http://yann.lecun.com/exdb/mnist/t10k-labels-idx1-ubyte.gz to ./data/MNIST/raw/t10k-labels-idx1-ubyte.gz\n"
          ]
        },
        {
          "output_type": "stream",
          "name": "stderr",
          "text": [
            "100%|██████████| 4542/4542 [00:00<00:00, 2492219.88it/s]"
          ]
        },
        {
          "output_type": "stream",
          "name": "stdout",
          "text": [
            "Extracting ./data/MNIST/raw/t10k-labels-idx1-ubyte.gz to ./data/MNIST/raw\n",
            "\n"
          ]
        },
        {
          "output_type": "stream",
          "name": "stderr",
          "text": [
            "\n"
          ]
        }
      ],
      "source": [
        "transform=transforms.Compose([\n",
        "                       transforms.ToTensor(),\n",
        "                       transforms.Normalize((0.1307,), (0.3081,)),\n",
        "                       transforms.Resize((5,5)),\n",
        "                       ])\n",
        "\n",
        "dataset_train = MNIST(root='./data', train=True, download=True, transform=transform)\n",
        "dataset_test = MNIST(root='./data', train=False, download=True, transform=transform)\n"
      ]
    },
    {
      "cell_type": "code",
      "execution_count": null,
      "metadata": {
        "id": "HudJ95LwuhhR"
      },
      "outputs": [],
      "source": [
        "\n",
        "train_loader = DataLoader(dataset_train, batch_size=4096, shuffle=True)\n",
        "test_loader = DataLoader(dataset_test, batch_size=4096, shuffle=False)\n"
      ]
    },
    {
      "cell_type": "code",
      "source": [
        "class_labels = ['0', '1', '2', '3', '4', '5', '6', '7', '8', '9']\n",
        "\n",
        "fig, axes = plt.subplots(2, 5, figsize=(12, 6))  # Create a 2x5 subplot grid\n",
        "\n",
        "for class_idx, class_label in enumerate(class_labels):\n",
        "    index = next(idx for idx, (_, label) in enumerate(dataset_train) if label == class_idx)\n",
        "\n",
        "    image, _ = dataset_train[index]\n",
        "\n",
        "    row = class_idx // 5  # Calculate the row index (0 or 1)\n",
        "    col = class_idx % 5   # Calculate the column index (0 to 4)\n",
        "\n",
        "    axes[row, col].imshow(image.squeeze().numpy(), cmap='gray')\n",
        "    axes[row, col].axis('off')\n",
        "    axes[row, col].set_title(class_label)\n",
        "\n",
        "plt.tight_layout()\n",
        "plt.show()\n"
      ],
      "metadata": {
        "colab": {
          "base_uri": "https://localhost:8080/",
          "height": 614
        },
        "id": "4ckxZT9IbMCH",
        "outputId": "042bf507-c9d9-488d-b991-b7447f1be513"
      },
      "execution_count": null,
      "outputs": [
        {
          "output_type": "stream",
          "name": "stderr",
          "text": [
            "/usr/local/lib/python3.10/dist-packages/torchvision/transforms/functional.py:1603: UserWarning: The default value of the antialias parameter of all the resizing transforms (Resize(), RandomResizedCrop(), etc.) will change from None to True in v0.17, in order to be consistent across the PIL and Tensor backends. To suppress this warning, directly pass antialias=True (recommended, future default), antialias=None (current default, which means False for Tensors and True for PIL), or antialias=False (only works on Tensors - PIL will still use antialiasing). This also applies if you are using the inference transforms from the models weights: update the call to weights.transforms(antialias=True).\n",
            "  warnings.warn(\n"
          ]
        },
        {
          "output_type": "display_data",
          "data": {
            "text/plain": [
              "<Figure size 1200x600 with 10 Axes>"
            ],
            "image/png": "[encoded data removed]"
          },
          "metadata": {}
        }
      ]
    },
    {
      "cell_type": "code",
      "execution_count": null,
      "metadata": {
        "colab": {
          "base_uri": "https://localhost:8080/"
        },
        "id": "FYPoPnVc0U-p",
        "outputId": "5ac65d14-ca59-4eba-c0e6-62e4f260a370"
      },
      "outputs": [
        {
          "output_type": "stream",
          "name": "stdout",
          "text": [
            "Train Dataset:\n",
            "Class 0: 5923 images\n",
            "Class 1: 6742 images\n",
            "Class 2: 5958 images\n",
            "Class 3: 6131 images\n",
            "Class 4: 5842 images\n",
            "Class 5: 5421 images\n",
            "Class 6: 5918 images\n",
            "Class 7: 6265 images\n",
            "Class 8: 5851 images\n",
            "Class 9: 5949 images\n",
            "\n",
            "Test Dataset:\n",
            "Class 0: 980 images\n",
            "Class 1: 1135 images\n",
            "Class 2: 1032 images\n",
            "Class 3: 1010 images\n",
            "Class 4: 982 images\n",
            "Class 5: 892 images\n",
            "Class 6: 958 images\n",
            "Class 7: 1028 images\n",
            "Class 8: 974 images\n",
            "Class 9: 1009 images\n"
          ]
        }
      ],
      "source": [
        "class_labels = ['0', '1', '2', '3', '4', '5', '6', '7', '8', '9']\n",
        "\n",
        "train_class_counts = [0] * len(class_labels)\n",
        "\n",
        "for _, label in dataset_train:\n",
        "    train_class_counts[label] += 1\n",
        "\n",
        "test_class_counts = [0] * len(class_labels)\n",
        "\n",
        "for _, label in dataset_test:\n",
        "    test_class_counts[label] += 1\n",
        "\n",
        "print(\"Train Dataset:\")\n",
        "for class_idx, class_label in enumerate(class_labels):\n",
        "    print(f\"Class {class_label}: {train_class_counts[class_idx]} images\")\n",
        "\n",
        "print(\"\\nTest Dataset:\")\n",
        "for class_idx, class_label in enumerate(class_labels):\n",
        "    print(f\"Class {class_label}: {test_class_counts[class_idx]} images\")"
      ]
    },
    {
      "cell_type": "markdown",
      "source": [
        "Now define some functions & classes to Binarise the weights of the network for forward pass."
      ],
      "metadata": {
        "id": "MbqYUaZ1Oau2"
      }
    },
    {
      "cell_type": "code",
      "execution_count": null,
      "metadata": {
        "id": "QhYlYpAfS75a"
      },
      "outputs": [],
      "source": [
        "def Binarize(tensor,quant_mode='det'):\n",
        "    if quant_mode=='det':\n",
        "        return tensor.sign()\n",
        "    else:\n",
        "        return tensor.add_(1).div_(2).add_(torch.rand(tensor.size()).add(-0.5)).clamp_(0,1).round().mul_(2).add_(-1)"
      ]
    },
    {
      "cell_type": "code",
      "execution_count": null,
      "metadata": {
        "id": "Wh31I2AyTnmx"
      },
      "outputs": [],
      "source": [
        "class BinarizeLinear(nn.Linear):\n",
        "\n",
        "    def __init__(self, *kargs, **kwargs):\n",
        "        super(BinarizeLinear, self).__init__(*kargs, **kwargs)\n",
        "\n",
        "    def forward(self, input):\n",
        "\n",
        "        if input.size(1) != 100:\n",
        "            input.data=Binarize(input.data)\n",
        "        if not hasattr(self.weight,'org'):\n",
        "            self.weight.org=self.weight.data.clone()\n",
        "        self.weight.data=Binarize(self.weight.org)\n",
        "        out = nn.functional.linear(input, self.weight)\n",
        "        if not self.bias is None:\n",
        "            self.bias.org=self.bias.data.clone()\n",
        "            out += self.bias.view(1, -1).expand_as(out)\n",
        "\n",
        "        return out"
      ]
    },
    {
      "cell_type": "markdown",
      "source": [
        "Train Function, in which the weights are binairsed for every forward pass by clampign them to 1 & -1. while the back prop is done on real set of teh weights, that are gotten rid of after training."
      ],
      "metadata": {
        "id": "0X7UIFxKOwTH"
      }
    },
    {
      "cell_type": "code",
      "execution_count": null,
      "metadata": {
        "id": "qwgIIgvyT1dY"
      },
      "outputs": [],
      "source": [
        "def train(epoch):\n",
        "    model.train()\n",
        "    for i, (data, target) in enumerate(train_loader):\n",
        "\n",
        "        data, target = data.to(device), target.to(device)\n",
        "\n",
        "        optimizer.zero_grad()\n",
        "        output = model(data)\n",
        "\n",
        "        loss = criterion(output, target)\n",
        "\n",
        "        if epoch%25==0:\n",
        "            optimizer.param_groups[0]['lr']=optimizer.param_groups[0]['lr']*0.1\n",
        "        optimizer.zero_grad()\n",
        "\n",
        "        loss.backward()\n",
        "\n",
        "        for p in list(model.parameters()):\n",
        "            if hasattr(p,'org'):\n",
        "                p.data.copy_(p.org)\n",
        "        optimizer.step()\n",
        "\n",
        "        for p in list(model.parameters()):\n",
        "            if hasattr(p,'org'):\n",
        "                p.org.copy_(p.data.clamp_(-1,1))\n",
        "\n",
        "        if i % 10 == 0:\n",
        "            print('Train Epoch: {} [{}/{} ({:.0f}%)]\\tLoss: {:.6f}'.format(\n",
        "                epoch, i * len(data), len(train_loader.dataset),\n",
        "                100. * i / len(train_loader), loss.item()))"
      ]
    },
    {
      "cell_type": "markdown",
      "source": [
        "Test Fucntion"
      ],
      "metadata": {
        "id": "qVCfBVVeO5kX"
      }
    },
    {
      "cell_type": "code",
      "execution_count": null,
      "metadata": {
        "id": "jo7Ml3HET3d4"
      },
      "outputs": [],
      "source": [
        "def test():\n",
        "    model.eval()\n",
        "    test_loss = 0\n",
        "    correct = 0\n",
        "    with torch.no_grad():\n",
        "        for data, target in test_loader:\n",
        "            data, target = data.to(device), target.to(device)\n",
        "            output = model(data)\n",
        "            test_loss += criterion(output, target).item()\n",
        "            pred = output.data.max(1, keepdim=True)[1]\n",
        "            correct += pred.eq(target.data.view_as(pred)).cpu().sum()\n",
        "\n",
        "    test_loss /= len(test_loader.dataset)\n",
        "    accuracy = 100. * correct / len(test_loader.dataset)\n",
        "    print('\\nTest set: Average loss: {:.4f}, Accuracy: {}/{} ({:.0f}%)\\n'.format(\n",
        "        test_loss, correct, len(test_loader.dataset),\n",
        "        100. * correct / len(test_loader.dataset)))\n",
        "    return accuracy"
      ]
    },
    {
      "cell_type": "markdown",
      "source": [
        "Now a BNN is defined with a single block & 20 neurons in the hidden layer. 25 in the input & 10 in the output."
      ],
      "metadata": {
        "id": "LN7-OOZBO2E7"
      }
    },
    {
      "cell_type": "code",
      "execution_count": null,
      "metadata": {
        "id": "UhvJB2pvPfj1"
      },
      "outputs": [],
      "source": [
        "class BNN_1blk_50(nn.Module):\n",
        "    def __init__(self, input_size, output_size):\n",
        "        super(BNN_1blk_50, self).__init__()\n",
        "        self.infl_ratio=1\n",
        "        self.input_size=input_size\n",
        "        self.output_size=output_size\n",
        "        self.num_internal_blocks=1\n",
        "\n",
        "        self.name='bnn_1blk_50'\n",
        "        self.fc1 = BinarizeLinear(input_size,50*self.infl_ratio)\n",
        "        self.htanh1 = nn.Hardtanh()\n",
        "        self.bn1 = nn.BatchNorm1d(50*self.infl_ratio)\n",
        "\n",
        "        self.fc5 = BinarizeLinear(50*self.infl_ratio,output_size)\n",
        "        self.logsoftmax=nn.LogSoftmax()\n",
        "        self.binarize_func=Binarize\n",
        "\n",
        "    def forward(self, x):\n",
        "        x = x.view(-1, self.input_size)\n",
        "        x = self.binarize_func(x)\n",
        "\n",
        "        x = self.fc1(x)\n",
        "        x = self.bn1(x)\n",
        "        x = self.htanh1(x)\n",
        "\n",
        "        x = self.fc5(x)\n",
        "        return self.logsoftmax(x)\n",
        "\n",
        "device = torch.device('cuda' if torch.cuda.is_available() else 'cpu')\n",
        "model = BNN_1blk_50(25,10)\n",
        "model=model.to(device)\n"
      ]
    },
    {
      "cell_type": "markdown",
      "source": [
        "Training & Evaluation"
      ],
      "metadata": {
        "id": "jXCZs-TFPmc7"
      }
    },
    {
      "cell_type": "code",
      "execution_count": null,
      "metadata": {
        "colab": {
          "base_uri": "https://localhost:8080/"
        },
        "id": "bzpQOm1BPxqC",
        "outputId": "6bb8953d-14da-4335-a23c-0e3f259ae442"
      },
      "outputs": [
        {
          "output_type": "stream",
          "name": "stdout",
          "text": [
            "Train Epoch: 1 [0/60000 (0%)]\tLoss: 3.709929\n",
            "Train Epoch: 1 [40960/60000 (67%)]\tLoss: 4.079579\n",
            "\n",
            "Test set: Average loss: 0.0011, Accuracy: 4744/10000 (47%)\n",
            "\n",
            "Train Epoch: 2 [0/60000 (0%)]\tLoss: 3.518269\n",
            "Train Epoch: 2 [40960/60000 (67%)]\tLoss: 3.732158\n",
            "\n",
            "Test set: Average loss: 0.0012, Accuracy: 4140/10000 (41%)\n",
            "\n",
            "Train Epoch: 3 [0/60000 (0%)]\tLoss: 3.787690\n",
            "Train Epoch: 3 [40960/60000 (67%)]\tLoss: 3.794748\n",
            "\n",
            "Test set: Average loss: 0.0011, Accuracy: 3793/10000 (38%)\n",
            "\n",
            "Train Epoch: 4 [0/60000 (0%)]\tLoss: 3.675952\n",
            "Train Epoch: 4 [40960/60000 (67%)]\tLoss: 3.748465\n",
            "\n",
            "Test set: Average loss: 0.0012, Accuracy: 4632/10000 (46%)\n",
            "\n",
            "Train Epoch: 5 [0/60000 (0%)]\tLoss: 4.057141\n",
            "Train Epoch: 5 [40960/60000 (67%)]\tLoss: 3.511351\n",
            "\n",
            "Test set: Average loss: 0.0011, Accuracy: 4663/10000 (47%)\n",
            "\n",
            "Train Epoch: 6 [0/60000 (0%)]\tLoss: 3.577096\n",
            "Train Epoch: 6 [40960/60000 (67%)]\tLoss: 3.471855\n",
            "\n",
            "Test set: Average loss: 0.0010, Accuracy: 4122/10000 (41%)\n",
            "\n",
            "Train Epoch: 7 [0/60000 (0%)]\tLoss: 3.643489\n",
            "Train Epoch: 7 [40960/60000 (67%)]\tLoss: 4.463116\n",
            "\n",
            "Test set: Average loss: 0.0013, Accuracy: 4560/10000 (46%)\n",
            "\n",
            "Train Epoch: 8 [0/60000 (0%)]\tLoss: 3.882502\n",
            "Train Epoch: 8 [40960/60000 (67%)]\tLoss: 4.101039\n",
            "\n",
            "Test set: Average loss: 0.0014, Accuracy: 3761/10000 (38%)\n",
            "\n",
            "Train Epoch: 9 [0/60000 (0%)]\tLoss: 3.688905\n",
            "Train Epoch: 9 [40960/60000 (67%)]\tLoss: 3.561526\n",
            "\n",
            "Test set: Average loss: 0.0011, Accuracy: 4752/10000 (48%)\n",
            "\n",
            "Train Epoch: 10 [0/60000 (0%)]\tLoss: 3.484452\n",
            "Train Epoch: 10 [40960/60000 (67%)]\tLoss: 3.965371\n",
            "\n",
            "Test set: Average loss: 0.0012, Accuracy: 4449/10000 (44%)\n",
            "\n"
          ]
        }
      ],
      "source": [
        "criterion = nn.CrossEntropyLoss()\n",
        "optimizer = optim.Adam(model.parameters(), lr=0.0001)\n",
        "\n",
        "#max_acc = 0.0\n",
        "\n",
        "for epoch in range(1, 11):\n",
        "    train(epoch)\n",
        "    acc = test()\n",
        "\n",
        "    if acc > max_acc:\n",
        "        max_acc = acc\n",
        "        torch.save(model.state_dict(), 'mnist-25-bnn_1blk_50.pt', _use_new_zipfile_serialization=False)"
      ]
    },
    {
      "cell_type": "markdown",
      "source": [
        "Loading the saved model for the Testing."
      ],
      "metadata": {
        "id": "nVV8QdQQPqBc"
      }
    },
    {
      "cell_type": "code",
      "execution_count": null,
      "metadata": {
        "colab": {
          "base_uri": "https://localhost:8080/"
        },
        "id": "A72QrgYcvwU5",
        "outputId": "39fd1b6d-ff0e-4339-9be3-12a7226bcee7"
      },
      "outputs": [
        {
          "output_type": "stream",
          "name": "stdout",
          "text": [
            "\n",
            "Test set: Average loss: 0.0011, Accuracy: 4752/10000 (48%)\n",
            "\n",
            "Accuracy: tensor(47.5200)\n"
          ]
        }
      ],
      "source": [
        "# Load the model\n",
        "saved_model = BNN_1blk_50(25,10)\n",
        "saved_model.load_state_dict(torch.load('/content/drive/MyDrive/25-50-10/mnist-25-bnn_1blk_50.pt'))\n",
        "saved_model.to(device)\n",
        "\n",
        "criterion = nn.CrossEntropyLoss()\n",
        "\n",
        "def saved_test():\n",
        "    saved_model.eval()\n",
        "    test_loss = 0\n",
        "    correct = 0\n",
        "    with torch.no_grad():\n",
        "        for data, target in test_loader:\n",
        "            data, target = data.to(device), target.to(device)\n",
        "            output = saved_model(data)\n",
        "            test_loss += criterion(output, target).item()\n",
        "            pred = output.data.max(1, keepdim=True)[1]\n",
        "            correct += pred.eq(target.data.view_as(pred)).cpu().sum()\n",
        "\n",
        "    test_loss /= len(test_loader.dataset)\n",
        "    accuracy = 100. * correct / len(test_loader.dataset)\n",
        "    print('\\nTest set: Average loss: {:.4f}, Accuracy: {}/{} ({:.0f}%)\\n'.format(\n",
        "        test_loss, correct, len(test_loader.dataset),\n",
        "        100. * correct / len(test_loader.dataset)))\n",
        "    return accuracy\n",
        "\n",
        "accuracy = saved_test()\n",
        "\n",
        "print(\"Accuracy:\", accuracy)"
      ]
    },
    {
      "cell_type": "markdown",
      "source": [
        "The layers in the model and the weights therein are as follows"
      ],
      "metadata": {
        "id": "m4ZrX1bjP0Oc"
      }
    },
    {
      "cell_type": "code",
      "source": [
        "print(saved_model)"
      ],
      "metadata": {
        "colab": {
          "base_uri": "https://localhost:8080/"
        },
        "id": "xAV1vbx8dFV_",
        "outputId": "7de8f69d-9e91-4d79-e5c1-c99d7382ee34"
      },
      "execution_count": null,
      "outputs": [
        {
          "output_type": "stream",
          "name": "stdout",
          "text": [
            "BNN_1blk_50(\n",
            "  (fc1): BinarizeLinear(in_features=25, out_features=50, bias=True)\n",
            "  (htanh1): Hardtanh(min_val=-1.0, max_val=1.0)\n",
            "  (bn1): BatchNorm1d(50, eps=1e-05, momentum=0.1, affine=True, track_running_stats=True)\n",
            "  (fc5): BinarizeLinear(in_features=50, out_features=10, bias=True)\n",
            "  (logsoftmax): LogSoftmax(dim=None)\n",
            ")\n"
          ]
        }
      ]
    },
    {
      "cell_type": "code",
      "source": [
        "for name, param in saved_model.named_parameters():\n",
        "    if param.requires_grad:\n",
        "        print(name, param.data)"
      ],
      "metadata": {
        "colab": {
          "base_uri": "https://localhost:8080/"
        },
        "id": "LSj4iGMjdSz6",
        "outputId": "1be81470-96b1-41ba-c24d-0eae07310480"
      },
      "execution_count": null,
      "outputs": [
        {
          "output_type": "stream",
          "name": "stdout",
          "text": [
            "fc1.weight tensor([[-1., -1.,  1.,  ...,  1., -1., -1.],\n",
            "        [ 1., -1.,  1.,  ...,  1., -1.,  1.],\n",
            "        [-1.,  1., -1.,  ...,  1.,  1., -1.],\n",
            "        ...,\n",
            "        [ 1., -1., -1.,  ..., -1.,  1., -1.],\n",
            "        [ 1.,  1.,  1.,  ...,  1., -1., -1.],\n",
            "        [ 1., -1., -1.,  ..., -1., -1.,  1.]], device='cuda:0')\n",
            "fc1.bias tensor([ 0.1336,  0.1012,  0.1251, -0.1230,  0.1354, -0.1572, -0.0924, -0.0163,\n",
            "        -0.0464, -0.1586,  0.1535, -0.0255,  0.0747,  0.0768,  0.1284,  0.1876,\n",
            "        -0.1090,  0.0994,  0.0314,  0.1134, -0.0306, -0.1470,  0.1503,  0.1371,\n",
            "        -0.1184,  0.0495,  0.1747,  0.1315,  0.1212, -0.0095, -0.1251,  0.0118,\n",
            "        -0.0703,  0.1503, -0.0225, -0.1292, -0.0395, -0.1521, -0.0922, -0.1600,\n",
            "         0.0984,  0.0797, -0.1618,  0.1637, -0.0485,  0.0998, -0.1069, -0.0738,\n",
            "         0.1338, -0.1378], device='cuda:0')\n",
            "bn1.weight tensor([0.7610, 0.7738, 0.7782, 0.7681, 0.8001, 0.7877, 0.7724, 0.8461, 0.7656,\n",
            "        0.7888, 0.7452, 0.7236, 0.8147, 0.8032, 0.7517, 0.7863, 0.8373, 0.7567,\n",
            "        0.7544, 0.8213, 0.8380, 0.8524, 0.7331, 0.7989, 0.7405, 0.8009, 0.7349,\n",
            "        0.7667, 0.7752, 0.7986, 0.7581, 0.8238, 0.8249, 0.7386, 0.7646, 0.7481,\n",
            "        0.7380, 0.8855, 0.7198, 0.7616, 0.7640, 0.7984, 0.7644, 0.7751, 0.8254,\n",
            "        0.7787, 0.7922, 0.7968, 0.7459, 0.7972], device='cuda:0')\n",
            "bn1.bias tensor([-0.0650,  0.0076, -0.0889,  0.0273, -0.0351, -0.0267, -0.1076, -0.0080,\n",
            "        -0.0743, -0.0637,  0.0249,  0.0236,  0.0280,  0.0549,  0.0892, -0.0264,\n",
            "        -0.0132,  0.0801,  0.0058,  0.0807,  0.0752, -0.0150, -0.0243,  0.0597,\n",
            "        -0.0117,  0.0343,  0.0716, -0.0005, -0.0514,  0.0569, -0.0022, -0.0024,\n",
            "         0.0920,  0.0176,  0.0556,  0.0890,  0.1212, -0.1106, -0.0701, -0.0726,\n",
            "         0.1006,  0.1094, -0.0292, -0.0405, -0.0325, -0.1442,  0.0390,  0.0628,\n",
            "         0.0605,  0.0212], device='cuda:0')\n",
            "fc5.weight tensor([[ 1., -1., -1., -1.,  1.,  1., -1.,  1., -1.,  1.,  1.,  1., -1., -1.,\n",
            "         -1., -1., -1.,  1., -1., -1., -1.,  1., -1., -1., -1., -1.,  1.,  1.,\n",
            "         -1.,  1.,  1., -1.,  1., -1., -1., -1.,  1., -1., -1., -1.,  1.,  1.,\n",
            "          1.,  1.,  1.,  1., -1., -1., -1.,  1.],\n",
            "        [-1., -1.,  1.,  1., -1., -1.,  1.,  1.,  1., -1., -1., -1.,  1., -1.,\n",
            "         -1.,  1., -1., -1., -1., -1.,  1.,  1., -1.,  1.,  1.,  1.,  1.,  1.,\n",
            "          1., -1.,  1.,  1., -1., -1.,  1.,  1.,  1.,  1.,  1., -1., -1.,  1.,\n",
            "          1., -1.,  1., -1., -1., -1., -1.,  1.],\n",
            "        [-1., -1., -1.,  1., -1., -1., -1.,  1., -1.,  1.,  1.,  1., -1., -1.,\n",
            "         -1.,  1., -1.,  1.,  1.,  1.,  1.,  1., -1., -1., -1.,  1.,  1.,  1.,\n",
            "          1., -1.,  1.,  1.,  1., -1.,  1.,  1., -1., -1.,  1., -1.,  1.,  1.,\n",
            "          1.,  1., -1., -1., -1., -1.,  1.,  1.],\n",
            "        [ 1.,  1.,  1.,  1., -1., -1., -1.,  1.,  1., -1.,  1.,  1.,  1.,  1.,\n",
            "         -1.,  1.,  1.,  1., -1.,  1.,  1.,  1., -1., -1., -1., -1.,  1.,  1.,\n",
            "         -1., -1.,  1., -1., -1.,  1.,  1.,  1.,  1., -1., -1., -1.,  1.,  1.,\n",
            "          1., -1., -1., -1.,  1.,  1.,  1.,  1.],\n",
            "        [-1.,  1., -1.,  1., -1., -1., -1.,  1., -1., -1., -1., -1.,  1.,  1.,\n",
            "         -1.,  1., -1., -1., -1.,  1., -1.,  1., -1.,  1., -1., -1.,  1.,  1.,\n",
            "         -1., -1.,  1., -1., -1., -1.,  1., -1.,  1., -1.,  1., -1., -1.,  1.,\n",
            "         -1.,  1., -1., -1., -1., -1., -1.,  1.],\n",
            "        [ 1., -1., -1.,  1., -1.,  1., -1.,  1.,  1., -1., -1., -1.,  1.,  1.,\n",
            "         -1.,  1., -1., -1.,  1.,  1.,  1.,  1.,  1., -1.,  1., -1.,  1., -1.,\n",
            "          1., -1.,  1., -1.,  1.,  1., -1., -1.,  1., -1.,  1.,  1.,  1.,  1.,\n",
            "          1., -1., -1., -1., -1., -1., -1.,  1.],\n",
            "        [-1.,  1.,  1.,  1., -1., -1., -1.,  1.,  1.,  1.,  1.,  1.,  1.,  1.,\n",
            "         -1.,  1., -1.,  1., -1., -1.,  1.,  1.,  1., -1.,  1.,  1.,  1.,  1.,\n",
            "          1., -1.,  1., -1.,  1., -1., -1., -1., -1.,  1.,  1., -1.,  1.,  1.,\n",
            "         -1.,  1., -1.,  1., -1., -1.,  1.,  1.],\n",
            "        [ 1.,  1.,  1.,  1., -1., -1., -1.,  1.,  1., -1., -1.,  1.,  1., -1.,\n",
            "         -1., -1., -1.,  1., -1.,  1.,  1.,  1., -1., -1., -1.,  1.,  1.,  1.,\n",
            "         -1., -1., -1.,  1.,  1.,  1., -1.,  1., -1., -1., -1., -1., -1., -1.,\n",
            "          1.,  1., -1., -1., -1., -1., -1., -1.],\n",
            "        [-1., -1., -1.,  1., -1., -1., -1.,  1.,  1., -1., -1., -1.,  1.,  1.,\n",
            "         -1.,  1., -1.,  1., -1.,  1.,  1.,  1.,  1.,  1.,  1., -1.,  1.,  1.,\n",
            "         -1.,  1.,  1., -1.,  1., -1.,  1.,  1.,  1., -1., -1., -1.,  1.,  1.,\n",
            "         -1., -1., -1., -1., -1., -1., -1.,  1.],\n",
            "        [ 1., -1., -1.,  1., -1., -1., -1.,  1., -1.,  1., -1., -1., -1., -1.,\n",
            "          1., -1., -1.,  1., -1.,  1.,  1.,  1.,  1.,  1., -1.,  1., -1.,  1.,\n",
            "         -1., -1., -1., -1., -1., -1., -1., -1.,  1.,  1.,  1.,  1., -1.,  1.,\n",
            "          1., -1., -1., -1.,  1.,  1., -1.,  1.]], device='cuda:0')\n",
            "fc5.bias tensor([-0.1189, -0.1580,  0.0265,  0.1830, -0.0528,  0.1711,  0.0322, -0.0003,\n",
            "         0.0294, -0.0719], device='cuda:0')\n"
          ]
        }
      ]
    },
    {
      "cell_type": "markdown",
      "source": [
        "The two weight matrices fc1 & fc5 can be visualised as follows."
      ],
      "metadata": {
        "id": "Oe_pYTzHQFfs"
      }
    },
    {
      "cell_type": "code",
      "source": [
        "# Extract the weight matrix from the self.fc1 layer\n",
        "weight_matrix = saved_model.fc1.weight.data.cpu().numpy()\n",
        "\n",
        "# Set the figure size to make the plot larger\n",
        "plt.figure(figsize=(5, 10))  # Adjust the values as needed\n",
        "\n",
        "# Plot the weight matrix\n",
        "plt.imshow(weight_matrix, cmap='coolwarm', aspect='auto')  # 'aspect' ensures proper scaling\n",
        "plt.title('Weight Matrix (50x25)')  # Corrected labels\n",
        "plt.xlabel('Input Units')  # Corrected label\n",
        "plt.ylabel('Output Units')  # Corrected label\n",
        "\n",
        "# Remove ticks from both axes\n",
        "plt.xticks([])\n",
        "plt.yticks([])\n",
        "\n",
        "plt.show()"
      ],
      "metadata": {
        "colab": {
          "base_uri": "https://localhost:8080/",
          "height": 848
        },
        "id": "cr39bpnhnGdP",
        "outputId": "0d14e227-8c51-4604-d741-393d9f71d5bc"
      },
      "execution_count": null,
      "outputs": [
        {
          "output_type": "display_data",
          "data": {
            "text/plain": [
              "<Figure size 500x1000 with 1 Axes>"
            ],
            "image/png": "[encoded data removed]"
          },
          "metadata": {}
        }
      ]
    },
    {
      "cell_type": "code",
      "source": [
        "# Extract the weight matrix from the self.fc1 layer\n",
        "weight_matrix = saved_model.fc5.weight.data.cpu().numpy()\n",
        "\n",
        "# Set the figure size to make the plot larger\n",
        "plt.figure(figsize=(10, 2))  # Adjust the values as needed\n",
        "\n",
        "# Plot the weight matrix\n",
        "plt.imshow(weight_matrix, cmap='coolwarm', aspect='auto')  # 'aspect' ensures proper scaling\n",
        "plt.title('Weight Matrix (10x50)')  # Corrected labels\n",
        "plt.xlabel('Input Units')  # Corrected label\n",
        "plt.ylabel('Output Units')  # Corrected label\n",
        "\n",
        "# Remove ticks from both axes\n",
        "plt.xticks([])\n",
        "plt.yticks([])\n",
        "\n",
        "plt.show()"
      ],
      "metadata": {
        "colab": {
          "base_uri": "https://localhost:8080/",
          "height": 232
        },
        "id": "QqY2XcnSoDw0",
        "outputId": "8fb8872b-0e6f-48c8-b335-fed62f5eb06b"
      },
      "execution_count": null,
      "outputs": [
        {
          "output_type": "display_data",
          "data": {
            "text/plain": [
              "<Figure size 1000x200 with 1 Axes>"
            ],
            "image/png": "[encoded data removed]"
          },
          "metadata": {}
        }
      ]
    },
    {
      "cell_type": "markdown",
      "source": [
        "The BNN defined above has a single block that includes fc1, bn1, tanh1.\n",
        "\n",
        "This is then followed by the output block with fc5 & softmax.\n",
        "\n",
        "The inputs to & the outputs from the block are binarised & can hence be encoded as CNF formulas.\n",
        "\n",
        "I have used an availabe tool, [NPAQ](https://www.google.com/url?sa=t&rct=j&q=&esrc=s&source=web&cd=&cad=rja&uact=8&ved=2ahUKEwjw9sPCgLqCAxUUrVYBHSBBCAMQFnoECAoQAQ&url=https%3A%2F%2Fgithub.com%2Fteobaluta%2FNPAQ&usg=AOvVaw2nCo_P_isYRPC5LD4feVF7&opi=89978449) to convert the above trained pytorch model of a BNN into its corresponding CNF formula.\n",
        "\n",
        "NPAQ has some specific environment/OS requiremnenst, hence was done locally.\n",
        "\n",
        "The trained pytorch model for above model definition is & The generated CNF formula for the same is included in the supplemenatry material.\n",
        "\n",
        "The CNF formulas generated for a small BNN above has\n",
        "\n",
        "p cnf 34319 71005\n",
        "\n",
        "variables & clauses, hence i went with a simpler network for demonstration.\n",
        "\n"
      ],
      "metadata": {
        "id": "kWmCNm2BXCQh"
      }
    },
    {
      "cell_type": "markdown",
      "source": [
        "While the trained Pytorch model is aroung 43% accurate at classifying MNIST digits, it is of interest to know if the model is aware of what differnt digits in the MNIST dataset looklike.\n",
        "\n",
        "Network Inversion can provide us access to the input space of the model for a given output label. To perform inversion we append additional clauses to the above CNF formula that constraint the output to take a particular value.\n",
        "\n",
        "After doing so we look for Satisfying assignmnets for the CNF Formula and using the satisying assignmnets for the inputs we can now recnstruct the inputs that will have the same label as it was restricted to above.\n",
        "\n",
        "To get better idea of the input space the for a particular output label, we uniformly sample from the input space using [cmsgen](https://www.google.com/url?sa=t&rct=j&q=&esrc=s&source=web&cd=&cad=rja&uact=8&ved=2ahUKEwiRg__XlbuCAxXLp1YBHYUYDx0QFnoECBAQAQ&url=https%3A%2F%2Fgithub.com%2Fmeelgroup%2Fcmsgen&usg=AOvVaw3nh6pCiLPmCMo1RvioYQaa&opi=89978449), an almost uniform sampler that allows us to visualsie the entire input space.\n",
        "\n",
        "Using the satisfying assignments of CNF formula for different output labels constraints, we can reconstruct the ipnut images for each of the labels."
      ],
      "metadata": {
        "id": "c3lG0T2XvMv5"
      }
    },
    {
      "cell_type": "markdown",
      "source": [
        "The reconstructed images for the differnet output labels are also part of the supplementary material and visualised below for labels from 0 to 9 respectively.\n"
      ],
      "metadata": {
        "id": "pOfCytCfxIGy"
      }
    },
    {
      "cell_type": "code",
      "source": [
        "def visualize_images(image_folder):\n",
        "    # Get a list of image file names in the folder\n",
        "    image_files = [f for f in os.listdir(image_folder) if f.endswith('.png')]\n",
        "\n",
        "    # Take the first 10 images for visualization (adjust as needed)\n",
        "    selected_images = image_files[:10]\n",
        "\n",
        "    # Create a 1x5 subplot for visualization\n",
        "    fig, axes = plt.subplots(1, 10, figsize=(15, 3))\n",
        "\n",
        "    # Load and display the selected images in the subplot\n",
        "    for i, image_file in enumerate(selected_images):\n",
        "        image_path = os.path.join(image_folder, image_file)\n",
        "        image = cv2.imread(image_path)\n",
        "        axes[i].imshow(cv2.cvtColor(image, cv2.COLOR_BGR2RGB))\n",
        "        axes[i].set_title(f'Image {i+1}')\n",
        "        axes[i].axis('off')\n",
        "\n",
        "    # Adjust spacing between subplots for clarity\n",
        "    plt.tight_layout()\n",
        "\n",
        "    # Show the visualization\n",
        "    plt.show()"
      ],
      "metadata": {
        "id": "7SCb-zxeetUn"
      },
      "execution_count": null,
      "outputs": []
    },
    {
      "cell_type": "code",
      "source": [
        "image_folder_path = '/content/drive/MyDrive/25-50-10/Images/25-50-10_0'\n",
        "visualize_images(image_folder_path)"
      ],
      "metadata": {
        "colab": {
          "base_uri": "https://localhost:8080/",
          "height": 172
        },
        "id": "WITm1zo2glJc",
        "outputId": "f3dc990f-e2b3-4a0c-8274-8ec49e19e89b"
      },
      "execution_count": null,
      "outputs": [
        {
          "output_type": "display_data",
          "data": {
            "text/plain": [
              "<Figure size 1500x300 with 10 Axes>"
            ],
            "image/png": "[encoded data removed]"
          },
          "metadata": {}
        }
      ]
    },
    {
      "cell_type": "code",
      "source": [
        "image_folder_path = '/content/drive/MyDrive/25-50-10/Images/25-50-10_1'\n",
        "visualize_images(image_folder_path)"
      ],
      "metadata": {
        "colab": {
          "base_uri": "https://localhost:8080/",
          "height": 172
        },
        "id": "iwucyOjZgn0w",
        "outputId": "f2fbe151-8d7f-48a1-bb92-f3aa074a8355"
      },
      "execution_count": null,
      "outputs": [
        {
          "output_type": "display_data",
          "data": {
            "text/plain": [
              "<Figure size 1500x300 with 10 Axes>"
            ],
            "image/png": "[encoded data removed]"
          },
          "metadata": {}
        }
      ]
    },
    {
      "cell_type": "code",
      "source": [
        "image_folder_path = '/content/drive/MyDrive/25-50-10/Images/25-50-10_2'\n",
        "visualize_images(image_folder_path)"
      ],
      "metadata": {
        "colab": {
          "base_uri": "https://localhost:8080/",
          "height": 172
        },
        "id": "3Bl8o7fxgsHz",
        "outputId": "db154817-14fe-4ca6-a62d-0fd7142afc5d"
      },
      "execution_count": null,
      "outputs": [
        {
          "output_type": "display_data",
          "data": {
            "text/plain": [
              "<Figure size 1500x300 with 10 Axes>"
            ],
            "image/png": "[encoded data removed]"
          },
          "metadata": {}
        }
      ]
    },
    {
      "cell_type": "code",
      "source": [
        "image_folder_path = '/content/drive/MyDrive/25-50-10/Images/25-50-10_3'\n",
        "visualize_images(image_folder_path)"
      ],
      "metadata": {
        "colab": {
          "base_uri": "https://localhost:8080/",
          "height": 172
        },
        "id": "YERQcD1zgu0D",
        "outputId": "bd88894b-0611-4c53-e033-8361d8b98615"
      },
      "execution_count": null,
      "outputs": [
        {
          "output_type": "display_data",
          "data": {
            "text/plain": [
              "<Figure size 1500x300 with 10 Axes>"
            ],
            "image/png": "[encoded data removed]"
          },
          "metadata": {}
        }
      ]
    },
    {
      "cell_type": "code",
      "source": [
        "image_folder_path = '/content/drive/MyDrive/25-50-10/Images/25-50-10_4'\n",
        "visualize_images(image_folder_path)"
      ],
      "metadata": {
        "colab": {
          "base_uri": "https://localhost:8080/",
          "height": 172
        },
        "id": "DOVHzxmKgxaq",
        "outputId": "29441f60-4d52-4741-f12b-e602e3eb2195"
      },
      "execution_count": null,
      "outputs": [
        {
          "output_type": "display_data",
          "data": {
            "text/plain": [
              "<Figure size 1500x300 with 10 Axes>"
            ],
            "image/png": "[encoded data removed]"
          },
          "metadata": {}
        }
      ]
    },
    {
      "cell_type": "code",
      "source": [
        "image_folder_path = '/content/drive/MyDrive/25-50-10/Images/25-50-10_5'\n",
        "visualize_images(image_folder_path)"
      ],
      "metadata": {
        "colab": {
          "base_uri": "https://localhost:8080/",
          "height": 172
        },
        "id": "lFjF6-Zigzfd",
        "outputId": "f8d84df4-ee58-4790-abd1-66231fd1f984"
      },
      "execution_count": null,
      "outputs": [
        {
          "output_type": "display_data",
          "data": {
            "text/plain": [
              "<Figure size 1500x300 with 10 Axes>"
            ],
            "image/png": "[encoded data removed]"
          },
          "metadata": {}
        }
      ]
    },
    {
      "cell_type": "code",
      "source": [
        "image_folder_path = '/content/drive/MyDrive/25-50-10/Images/25-50-10_6'\n",
        "visualize_images(image_folder_path)"
      ],
      "metadata": {
        "colab": {
          "base_uri": "https://localhost:8080/",
          "height": 172
        },
        "id": "jFmZ0yeHg1X-",
        "outputId": "34c6b40a-e1c8-4fb3-c14a-496573fcb4a0"
      },
      "execution_count": null,
      "outputs": [
        {
          "output_type": "display_data",
          "data": {
            "text/plain": [
              "<Figure size 1500x300 with 10 Axes>"
            ],
            "image/png": "[encoded data removed]"
          },
          "metadata": {}
        }
      ]
    },
    {
      "cell_type": "code",
      "source": [
        "image_folder_path = '/content/drive/MyDrive/25-50-10/Images/25-50-10_7'\n",
        "visualize_images(image_folder_path)"
      ],
      "metadata": {
        "colab": {
          "base_uri": "https://localhost:8080/",
          "height": 172
        },
        "id": "ZyfvGYSZg3Je",
        "outputId": "d6f0ed65-3073-4ffd-ab83-053d88d86732"
      },
      "execution_count": null,
      "outputs": [
        {
          "output_type": "display_data",
          "data": {
            "text/plain": [
              "<Figure size 1500x300 with 10 Axes>"
            ],
            "image/png": "[encoded data removed]"
          },
          "metadata": {}
        }
      ]
    },
    {
      "cell_type": "code",
      "source": [
        "image_folder_path = '/content/drive/MyDrive/25-50-10/Images/25-50-10_8'\n",
        "visualize_images(image_folder_path)"
      ],
      "metadata": {
        "colab": {
          "base_uri": "https://localhost:8080/",
          "height": 172
        },
        "id": "MbouYPILg6JZ",
        "outputId": "f82d7bdd-40b0-4227-daf7-b8158ecc1344"
      },
      "execution_count": null,
      "outputs": [
        {
          "output_type": "display_data",
          "data": {
            "text/plain": [
              "<Figure size 1500x300 with 10 Axes>"
            ],
            "image/png": "[encoded data removed]"
          },
          "metadata": {}
        }
      ]
    },
    {
      "cell_type": "code",
      "source": [
        "image_folder_path = '/content/drive/MyDrive/25-50-10/Images/25-50-10_9'\n",
        "visualize_images(image_folder_path)"
      ],
      "metadata": {
        "colab": {
          "base_uri": "https://localhost:8080/",
          "height": 172
        },
        "id": "VAvKVIlgg87P",
        "outputId": "24ac5ccb-fc85-4dba-c492-10a744f9c4e8"
      },
      "execution_count": null,
      "outputs": [
        {
          "output_type": "display_data",
          "data": {
            "text/plain": [
              "<Figure size 1500x300 with 10 Axes>"
            ],
            "image/png": "[encoded data removed]"
          },
          "metadata": {}
        }
      ]
    },
    {
      "cell_type": "markdown",
      "source": [
        "Now to verify that the reconstrucetd images indeed haev the same output label, the imaegs are forward passed through the saved pytorch model after going through the same normalisation, resize transformation.\n"
      ],
      "metadata": {
        "id": "UrZFzFDIxowb"
      }
    },
    {
      "cell_type": "code",
      "execution_count": null,
      "metadata": {
        "id": "l13uS-oia3ZZ"
      },
      "outputs": [],
      "source": [
        "from PIL import Image\n",
        "import os\n",
        "saved_model.eval()\n",
        "saved_transform = transforms.Compose([\n",
        "    transforms.ToTensor(),  # Convert the image to a tensor\n",
        "    transforms.Normalize((0.1307,), (0.3081,)),\n",
        "])\n",
        "\n",
        "def get_prediction(image_path):\n",
        "    image = Image.open(image_path)  # Open the image using PIL\n",
        "    image = saved_transform(image)  # Apply transformations to the image\n",
        "    image = image.unsqueeze(0)  # Add a batch dimension to the image\n",
        "    image = image.to(device)\n",
        "    with torch.no_grad():\n",
        "        output = saved_model(image)  # Perform the forward pass\n",
        "        _, predicted = torch.max(output, 1)  # Get the index of the predicted class\n",
        "\n",
        "    return predicted.item()  # Return the predicted label as an integer"
      ]
    },
    {
      "cell_type": "code",
      "execution_count": null,
      "metadata": {
        "colab": {
          "base_uri": "https://localhost:8080/"
        },
        "id": "fyxGrPgavXyT",
        "outputId": "1785c5f3-157e-4c45-e844-be22f537727a"
      },
      "outputs": [
        {
          "output_type": "stream",
          "name": "stdout",
          "text": [
            "Image: image1.png, Predicted Label: 0\n",
            "Image: image2.png, Predicted Label: 0\n",
            "Image: image3.png, Predicted Label: 0\n",
            "Image: image4.png, Predicted Label: 0\n",
            "Image: image5.png, Predicted Label: 0\n",
            "Image: image6.png, Predicted Label: 0\n",
            "Image: image7.png, Predicted Label: 0\n",
            "Image: image8.png, Predicted Label: 0\n",
            "Image: image9.png, Predicted Label: 0\n",
            "Image: image10.png, Predicted Label: 0\n"
          ]
        }
      ],
      "source": [
        "\n",
        "folder_path = '/content/drive/MyDrive/25-50-10/Images/25-50-10_0'  # Path to the folder containing the images\n",
        "\n",
        "for i in range(1, 11):\n",
        "    image_name = f\"image{i}.png\"\n",
        "    image_path = os.path.join(folder_path, image_name)\n",
        "    predicted_label = get_prediction(image_path)\n",
        "    print(f\"Image: {image_name}, Predicted Label: {predicted_label}\")"
      ]
    },
    {
      "cell_type": "code",
      "source": [
        "from google.colab import drive\n",
        "drive.mount('/content/drive')"
      ],
      "metadata": {
        "id": "TlaYmvEg6-gl",
        "colab": {
          "base_uri": "https://localhost:8080/"
        },
        "outputId": "e57d6ce4-e503-4c32-e5a5-c905c39394db"
      },
      "execution_count": null,
      "outputs": [
        {
          "output_type": "stream",
          "name": "stdout",
          "text": [
            "Mounted at /content/drive\n"
          ]
        }
      ]
    },
    {
      "cell_type": "code",
      "execution_count": null,
      "metadata": {
        "colab": {
          "base_uri": "https://localhost:8080/"
        },
        "id": "wHOlJmhh9d3A",
        "outputId": "acb15e34-e945-43cf-ac31-512d6f09edfc"
      },
      "outputs": [
        {
          "output_type": "stream",
          "name": "stdout",
          "text": [
            "Image: image1.png, Predicted Label: 1\n",
            "Image: image2.png, Predicted Label: 1\n",
            "Image: image3.png, Predicted Label: 1\n",
            "Image: image4.png, Predicted Label: 1\n",
            "Image: image5.png, Predicted Label: 1\n",
            "Image: image6.png, Predicted Label: 1\n",
            "Image: image7.png, Predicted Label: 1\n",
            "Image: image8.png, Predicted Label: 1\n",
            "Image: image9.png, Predicted Label: 1\n",
            "Image: image10.png, Predicted Label: 1\n"
          ]
        }
      ],
      "source": [
        "folder_path = '/content/drive/MyDrive/25-50-10/Images/25-50-10_1'  # Path to the folder containing the images\n",
        "\n",
        "for i in range(1, 11):\n",
        "    image_name = f\"image{i}.png\"\n",
        "    image_path = os.path.join(folder_path, image_name)\n",
        "    predicted_label = get_prediction(image_path)\n",
        "    print(f\"Image: {image_name}, Predicted Label: {predicted_label}\")"
      ]
    },
    {
      "cell_type": "code",
      "execution_count": null,
      "metadata": {
        "colab": {
          "base_uri": "https://localhost:8080/"
        },
        "id": "HZJ4LD63wcZJ",
        "outputId": "0b96bb85-efbe-473d-e4c1-fb4d7961f7b9"
      },
      "outputs": [
        {
          "output_type": "stream",
          "name": "stdout",
          "text": [
            "Image: image1.png, Predicted Label: 2\n",
            "Image: image2.png, Predicted Label: 2\n",
            "Image: image3.png, Predicted Label: 2\n",
            "Image: image4.png, Predicted Label: 2\n",
            "Image: image5.png, Predicted Label: 2\n",
            "Image: image6.png, Predicted Label: 2\n",
            "Image: image7.png, Predicted Label: 2\n",
            "Image: image8.png, Predicted Label: 2\n",
            "Image: image9.png, Predicted Label: 2\n",
            "Image: image10.png, Predicted Label: 2\n"
          ]
        }
      ],
      "source": [
        "folder_path = '/content/drive/MyDrive/25-50-10/Images/25-50-10_2'  # Path to the folder containing the images\n",
        "\n",
        "for i in range(1, 11):\n",
        "    image_name = f\"image{i}.png\"\n",
        "    image_path = os.path.join(folder_path, image_name)\n",
        "    predicted_label = get_prediction(image_path)\n",
        "    print(f\"Image: {image_name}, Predicted Label: {predicted_label}\")"
      ]
    },
    {
      "cell_type": "code",
      "execution_count": null,
      "metadata": {
        "colab": {
          "base_uri": "https://localhost:8080/"
        },
        "id": "IM8sDGAlEAVh",
        "outputId": "7620830d-9103-461b-9e8d-68b3a8dad5d9"
      },
      "outputs": [
        {
          "output_type": "stream",
          "name": "stdout",
          "text": [
            "Image: image1.png, Predicted Label: 3\n",
            "Image: image2.png, Predicted Label: 3\n",
            "Image: image3.png, Predicted Label: 3\n",
            "Image: image4.png, Predicted Label: 3\n",
            "Image: image5.png, Predicted Label: 3\n",
            "Image: image6.png, Predicted Label: 3\n",
            "Image: image7.png, Predicted Label: 3\n",
            "Image: image8.png, Predicted Label: 3\n",
            "Image: image9.png, Predicted Label: 3\n",
            "Image: image10.png, Predicted Label: 3\n"
          ]
        }
      ],
      "source": [
        "folder_path = '/content/drive/MyDrive/25-50-10/Images/25-50-10_3'  # Path to the folder containing the images\n",
        "\n",
        "for i in range(1, 11):\n",
        "    image_name = f\"image{i}.png\"\n",
        "    image_path = os.path.join(folder_path, image_name)\n",
        "    predicted_label = get_prediction(image_path)\n",
        "    print(f\"Image: {image_name}, Predicted Label: {predicted_label}\")"
      ]
    },
    {
      "cell_type": "code",
      "execution_count": null,
      "metadata": {
        "colab": {
          "base_uri": "https://localhost:8080/"
        },
        "id": "x-3cbvgNB_rC",
        "outputId": "ec5aa123-6caf-4d48-aaa1-c1c2a6101a76"
      },
      "outputs": [
        {
          "output_type": "stream",
          "name": "stdout",
          "text": [
            "Image: image1.png, Predicted Label: 4\n",
            "Image: image2.png, Predicted Label: 4\n",
            "Image: image3.png, Predicted Label: 4\n",
            "Image: image4.png, Predicted Label: 4\n",
            "Image: image5.png, Predicted Label: 4\n",
            "Image: image6.png, Predicted Label: 4\n",
            "Image: image7.png, Predicted Label: 4\n",
            "Image: image8.png, Predicted Label: 4\n",
            "Image: image9.png, Predicted Label: 4\n",
            "Image: image10.png, Predicted Label: 4\n"
          ]
        }
      ],
      "source": [
        "folder_path = '/content/drive/MyDrive/25-50-10/Images/25-50-10_4'  # Path to the folder containing the images\n",
        "\n",
        "for i in range(1, 11):\n",
        "    image_name = f\"image{i}.png\"\n",
        "    image_path = os.path.join(folder_path, image_name)\n",
        "    predicted_label = get_prediction(image_path)\n",
        "    print(f\"Image: {image_name}, Predicted Label: {predicted_label}\")"
      ]
    },
    {
      "cell_type": "code",
      "execution_count": null,
      "metadata": {
        "colab": {
          "base_uri": "https://localhost:8080/"
        },
        "id": "v_7ABRdV-lP4",
        "outputId": "a2c57d81-daa3-4405-d761-81230f985800"
      },
      "outputs": [
        {
          "output_type": "stream",
          "name": "stdout",
          "text": [
            "Image: image1.png, Predicted Label: 5\n",
            "Image: image2.png, Predicted Label: 5\n",
            "Image: image3.png, Predicted Label: 5\n",
            "Image: image4.png, Predicted Label: 5\n",
            "Image: image5.png, Predicted Label: 5\n",
            "Image: image6.png, Predicted Label: 5\n",
            "Image: image7.png, Predicted Label: 5\n",
            "Image: image8.png, Predicted Label: 5\n",
            "Image: image9.png, Predicted Label: 5\n",
            "Image: image10.png, Predicted Label: 5\n"
          ]
        }
      ],
      "source": [
        "folder_path = '/content/drive/MyDrive/25-50-10/Images/25-50-10_5'  # Path to the folder containing the images\n",
        "\n",
        "for i in range(1, 11):\n",
        "    image_name = f\"image{i}.png\"\n",
        "    image_path = os.path.join(folder_path, image_name)\n",
        "    predicted_label = get_prediction(image_path)\n",
        "    print(f\"Image: {image_name}, Predicted Label: {predicted_label}\")"
      ]
    },
    {
      "cell_type": "code",
      "execution_count": null,
      "metadata": {
        "colab": {
          "base_uri": "https://localhost:8080/"
        },
        "id": "S2cIfdqtLsrq",
        "outputId": "56c3aaf7-aa59-402a-cd4b-2b8c8ec9ddad"
      },
      "outputs": [
        {
          "output_type": "stream",
          "name": "stdout",
          "text": [
            "Image: image1.png, Predicted Label: 6\n",
            "Image: image2.png, Predicted Label: 6\n",
            "Image: image3.png, Predicted Label: 6\n",
            "Image: image4.png, Predicted Label: 6\n",
            "Image: image5.png, Predicted Label: 6\n",
            "Image: image6.png, Predicted Label: 6\n",
            "Image: image7.png, Predicted Label: 6\n",
            "Image: image8.png, Predicted Label: 6\n",
            "Image: image9.png, Predicted Label: 6\n",
            "Image: image10.png, Predicted Label: 6\n"
          ]
        }
      ],
      "source": [
        "folder_path = '/content/drive/MyDrive/25-50-10/Images/25-50-10_6'  # Path to the folder containing the images\n",
        "\n",
        "for i in range(1, 11):\n",
        "    image_name = f\"image{i}.png\"\n",
        "    image_path = os.path.join(folder_path, image_name)\n",
        "    predicted_label = get_prediction(image_path)\n",
        "    print(f\"Image: {image_name}, Predicted Label: {predicted_label}\")"
      ]
    },
    {
      "cell_type": "code",
      "execution_count": null,
      "metadata": {
        "colab": {
          "base_uri": "https://localhost:8080/"
        },
        "id": "ZerWbkkLMRYS",
        "outputId": "a57a89d1-d8f3-4b39-c899-23dd3117abf5"
      },
      "outputs": [
        {
          "output_type": "stream",
          "name": "stdout",
          "text": [
            "Image: image1.png, Predicted Label: 7\n",
            "Image: image2.png, Predicted Label: 7\n",
            "Image: image3.png, Predicted Label: 7\n",
            "Image: image4.png, Predicted Label: 7\n",
            "Image: image5.png, Predicted Label: 7\n",
            "Image: image6.png, Predicted Label: 7\n",
            "Image: image7.png, Predicted Label: 7\n",
            "Image: image8.png, Predicted Label: 7\n",
            "Image: image9.png, Predicted Label: 7\n",
            "Image: image10.png, Predicted Label: 7\n"
          ]
        }
      ],
      "source": [
        "folder_path = '/content/drive/MyDrive/25-50-10/Images/25-50-10_7'  # Path to the folder containing the images\n",
        "\n",
        "for i in range(1, 11):\n",
        "    image_name = f\"image{i}.png\"\n",
        "    image_path = os.path.join(folder_path, image_name)\n",
        "    predicted_label = get_prediction(image_path)\n",
        "    print(f\"Image: {image_name}, Predicted Label: {predicted_label}\")"
      ]
    },
    {
      "cell_type": "code",
      "source": [
        "folder_path = '/content/drive/MyDrive/25-50-10/Images/25-50-10_8'  # Path to the folder containing the images\n",
        "\n",
        "for i in range(1, 11):\n",
        "    image_name = f\"image{i}.png\"\n",
        "    image_path = os.path.join(folder_path, image_name)\n",
        "    predicted_label = get_prediction(image_path)\n",
        "    print(f\"Image: {image_name}, Predicted Label: {predicted_label}\")"
      ],
      "metadata": {
        "id": "Agia_QlwUiEH",
        "colab": {
          "base_uri": "https://localhost:8080/"
        },
        "outputId": "5578823a-791b-47c1-b694-4c100495224a"
      },
      "execution_count": null,
      "outputs": [
        {
          "output_type": "stream",
          "name": "stdout",
          "text": [
            "Image: image1.png, Predicted Label: 8\n",
            "Image: image2.png, Predicted Label: 8\n",
            "Image: image3.png, Predicted Label: 8\n",
            "Image: image4.png, Predicted Label: 8\n",
            "Image: image5.png, Predicted Label: 8\n",
            "Image: image6.png, Predicted Label: 8\n",
            "Image: image7.png, Predicted Label: 8\n",
            "Image: image8.png, Predicted Label: 8\n",
            "Image: image9.png, Predicted Label: 8\n",
            "Image: image10.png, Predicted Label: 8\n"
          ]
        }
      ]
    },
    {
      "cell_type": "code",
      "execution_count": null,
      "metadata": {
        "colab": {
          "base_uri": "https://localhost:8080/"
        },
        "id": "F3OAaSXBM625",
        "outputId": "1ecac8a7-27ae-4f25-cfb4-738024464753"
      },
      "outputs": [
        {
          "output_type": "stream",
          "name": "stdout",
          "text": [
            "Image: image1.png, Predicted Label: 9\n",
            "Image: image2.png, Predicted Label: 9\n",
            "Image: image3.png, Predicted Label: 9\n",
            "Image: image4.png, Predicted Label: 9\n",
            "Image: image5.png, Predicted Label: 9\n",
            "Image: image6.png, Predicted Label: 9\n",
            "Image: image7.png, Predicted Label: 9\n",
            "Image: image8.png, Predicted Label: 9\n",
            "Image: image9.png, Predicted Label: 9\n",
            "Image: image10.png, Predicted Label: 9\n"
          ]
        }
      ],
      "source": [
        "folder_path = '/content/drive/MyDrive/25-50-10/Images/25-50-10_9'  # Path to the folder containing the images\n",
        "\n",
        "for i in range(1, 11):\n",
        "    image_name = f\"image{i}.png\"\n",
        "    image_path = os.path.join(folder_path, image_name)\n",
        "    predicted_label = get_prediction(image_path)\n",
        "    print(f\"Image: {image_name}, Predicted Label: {predicted_label}\")"
      ]
    },
    {
      "cell_type": "markdown",
      "source": [
        "Since all the reconstructed images have the same label, the Network Inversion performed is exact.\n",
        "\n",
        "The inversion process demonstrates that while the model does a good job classifying MNIST digits, it deos not necessarily imply that the model is in anyway aware of what differnt digits look like.\n",
        "\n",
        "To refine the model & the decision boundaries, we can use the reconstrucetd images to retrain the model now with an extra class for the above OOD samples after passing them through an oracle or a large model.\n",
        "\n",
        "The iterative retraining process can be continued till the uniformly sampled reconstructed images from the input space of the newly trained model for a particluar label, start to look like the MNIST digits.\n",
        "\n"
      ],
      "metadata": {
        "id": "FW0HRFcF0aM8"
      }
    }
  ],
  "metadata": {
    "accelerator": "GPU",
    "colab": {
      "provenance": []
    },
    "gpuClass": "standard",
    "kernelspec": {
      "display_name": "Python 3",
      "name": "python3"
    },
    "language_info": {
      "name": "python"
    }
  },
  "nbformat": 4,
  "nbformat_minor": 0
}